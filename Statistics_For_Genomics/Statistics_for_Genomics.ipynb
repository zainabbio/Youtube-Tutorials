{
  "nbformat": 4,
  "nbformat_minor": 0,
  "metadata": {
    "colab": {
      "provenance": [],
      "gpuType": "T4",
      "authorship_tag": "ABX9TyO8Uf9BPTZX8o/pJMJ4d/CF",
      "include_colab_link": true
    },
    "kernelspec": {
      "name": "ir",
      "display_name": "R"
    },
    "language_info": {
      "name": "R"
    },
    "accelerator": "GPU"
  },
  "cells": [
    {
      "cell_type": "markdown",
      "metadata": {
        "id": "view-in-github",
        "colab_type": "text"
      },
      "source": [
        "<a href=\"https://colab.research.google.com/github/zainabbio/Youtube-Tutorials/blob/main/Statistics_for_Genomics.ipynb\" target=\"_parent\"><img src=\"https://colab.research.google.com/assets/colab-badge.svg\" alt=\"Open In Colab\"/></a>"
      ]
    },
    {
      "cell_type": "markdown",
      "source": [
        "# **How to summarize collection of data points: The idea behind statistical distributions**"
      ],
      "metadata": {
        "id": "O1tMyrf9Y59k"
      }
    },
    {
      "cell_type": "markdown",
      "source": [
        "In biology and other fields, experiments often involve some level of natural variation, making it impossible to get the same exact measurements every time.\n",
        "\n",
        "For instance, if you are measuring gene expression for a gene like GAPDH, you'll see slight differences in the values even if the samples are similar.\n",
        "\n",
        "This happens because of technical biases in the experiment or natural differences in the samples.\n",
        "\n",
        "Instead of focusing on individual measurements, we typically describe the overall data in a way that captures the general trends or properties."
      ],
      "metadata": {
        "id": "LGoJR7OiZABX"
      }
    },
    {
      "cell_type": "markdown",
      "source": [
        "**1) Describing the central tendency: Mean and median**"
      ],
      "metadata": {
        "id": "Hlmq5kI6ZM3R"
      }
    },
    {
      "cell_type": "markdown",
      "source": [
        "In experiments, data points often vary around a central value, and we can summarize this data by calculating a measure that represents the general trend. This central value is called the \"central tendency,\" and there are different ways to calculate it. The mean is one of the most common measures of central tendency.\n",
        "\n",
        "The mean is calculated by adding up all the data points and dividing by the number of data points. For example, if you are measuring gene expression like for GAPDH, you would take the expression values from your experiments, add them together, and then divide by the total number of measurements. This gives you the average, or mean, value.\n",
        "\n",
        "In R, you can use the mean() function to calculate the mean of a vector of numbers. In a real-world scenario, there are many more expression values than you can sample, so what you have is a \"sample\" of data points from a larger \"population.\" The mean you calculate from this sample is a representation of the central tendency of the population, but it's based only on the data you"
      ],
      "metadata": {
        "id": "iKhVQJQUZST7"
      }
    },
    {
      "cell_type": "markdown",
      "source": [],
      "metadata": {
        "id": "d_dQTywWZd6C"
      }
    },
    {
      "cell_type": "code",
      "source": [
        "#create 10 random numbers from uniform distribution\n",
        "x=runif(10)\n",
        "# calculate mean\n",
        "mean(x)"
      ],
      "metadata": {
        "colab": {
          "base_uri": "https://localhost:8080/",
          "height": 34
        },
        "id": "yTQQm79HZhi-",
        "outputId": "381b86d3-d38e-4ad8-d797-80f39fc13ede"
      },
      "execution_count": 1,
      "outputs": [
        {
          "output_type": "display_data",
          "data": {
            "text/html": [
              "0.534016251796857"
            ],
            "text/markdown": "0.534016251796857",
            "text/latex": "0.534016251796857",
            "text/plain": [
              "[1] 0.5340163"
            ]
          },
          "metadata": {}
        }
      ]
    },
    {
      "cell_type": "code",
      "source": [
        "# **calculate median**\n",
        "median(x)"
      ],
      "metadata": {
        "colab": {
          "base_uri": "https://localhost:8080/",
          "height": 34
        },
        "id": "LdKa5NXgZs-g",
        "outputId": "73023afb-7de7-431a-be1b-cc0faac090d2"
      },
      "execution_count": 2,
      "outputs": [
        {
          "output_type": "display_data",
          "data": {
            "text/html": [
              "0.519662224454805"
            ],
            "text/markdown": "0.519662224454805",
            "text/latex": "0.519662224454805",
            "text/plain": [
              "[1] 0.5196622"
            ]
          },
          "metadata": {}
        }
      ]
    },
    {
      "cell_type": "markdown",
      "source": [
        "**2) Describing the spread: Measurements of variation**"
      ],
      "metadata": {
        "id": "4g4OXFzOZxTu"
      }
    },
    {
      "cell_type": "markdown",
      "source": [
        "To understand how spread out or varied your data is, you can calculate the \"variation\" of the data. One simple way to describe variation is by looking at the range, which is the difference between the minimum and maximum values. In R, you can calculate the range of a dataset using the range() function.\n",
        "\n",
        "However, a more common way to measure variation is to use \"standard deviation\" or \"variance.\" These values tell you how far the data points are from the average. If the standard deviation or variance is close to zero, it means the data points are close to the mean (less variation). A higher value indicates the data points are more spread out (more variation).\n",
        "\n",
        "Variance is calculated as the average of the squared differences between each data point and the mean."
      ],
      "metadata": {
        "id": "OqX-o07OZ1vx"
      }
    },
    {
      "cell_type": "code",
      "source": [
        "x=rnorm(20,mean=6,sd=0.7)\n",
        "var(x)"
      ],
      "metadata": {
        "colab": {
          "base_uri": "https://localhost:8080/",
          "height": 34
        },
        "id": "zc6r6gDuaENB",
        "outputId": "c5d5e42b-0d58-4cf4-c1de-0c2cefb6124b"
      },
      "execution_count": 3,
      "outputs": [
        {
          "output_type": "display_data",
          "data": {
            "text/html": [
              "0.29976946479007"
            ],
            "text/markdown": "0.29976946479007",
            "text/latex": "0.29976946479007",
            "text/plain": [
              "[1] 0.2997695"
            ]
          },
          "metadata": {}
        }
      ]
    },
    {
      "cell_type": "code",
      "source": [
        "sd(x)"
      ],
      "metadata": {
        "colab": {
          "base_uri": "https://localhost:8080/",
          "height": 34
        },
        "id": "h_HyqfTMaFN6",
        "outputId": "b96332d6-edfa-4a0c-fdc4-66b731e747e4"
      },
      "execution_count": 4,
      "outputs": [
        {
          "output_type": "display_data",
          "data": {
            "text/html": [
              "0.547512068168429"
            ],
            "text/markdown": "0.547512068168429",
            "text/latex": "0.547512068168429",
            "text/plain": [
              "[1] 0.5475121"
            ]
          },
          "metadata": {}
        }
      ]
    },
    {
      "cell_type": "markdown",
      "source": [
        "Variance can be influenced by outliers, as extreme values far from the mean can greatly affect it.\n",
        "\n",
        "To reduce this influence, we can focus on where most of the data points lie, which is often measured using the interquartile range (IQR).\n",
        "\n",
        "The IQR is the difference between the 75th and 25th percentiles, effectively removing extreme values.\n",
        "\n",
        "In R, you can calculate the IQR with the IQR() function and find the quantiles with the quantile() function.\n",
        "\n",
        "A boxplot visually represents this, with the box showing the 25th and 75th percentiles, and the median marked in the middle."
      ],
      "metadata": {
        "id": "He0w366VaN6r"
      }
    },
    {
      "cell_type": "code",
      "source": [
        "x=rnorm(20,mean=6,sd=0.7)\n",
        "IQR(x)"
      ],
      "metadata": {
        "colab": {
          "base_uri": "https://localhost:8080/",
          "height": 34
        },
        "id": "YF_PT0TEaRKA",
        "outputId": "ee2f55e2-5e91-4847-eb9f-c28e2dfa5e1a"
      },
      "execution_count": 5,
      "outputs": [
        {
          "output_type": "display_data",
          "data": {
            "text/html": [
              "0.968554398157496"
            ],
            "text/markdown": "0.968554398157496",
            "text/latex": "0.968554398157496",
            "text/plain": [
              "[1] 0.9685544"
            ]
          },
          "metadata": {}
        }
      ]
    },
    {
      "cell_type": "code",
      "source": [
        "quantile(x)"
      ],
      "metadata": {
        "colab": {
          "base_uri": "https://localhost:8080/",
          "height": 34
        },
        "id": "cWRqJ2Z0aT9m",
        "outputId": "b7e9ef4c-625e-4571-c80c-2d89e1c601f2"
      },
      "execution_count": 6,
      "outputs": [
        {
          "output_type": "display_data",
          "data": {
            "text/html": [
              "<style>\n",
              ".dl-inline {width: auto; margin:0; padding: 0}\n",
              ".dl-inline>dt, .dl-inline>dd {float: none; width: auto; display: inline-block}\n",
              ".dl-inline>dt::after {content: \":\\0020\"; padding-right: .5ex}\n",
              ".dl-inline>dt:not(:first-of-type) {padding-left: .5ex}\n",
              "</style><dl class=dl-inline><dt>0%</dt><dd>4.51098817991552</dd><dt>25%</dt><dd>5.35875339140873</dd><dt>50%</dt><dd>5.89513714523085</dd><dt>75%</dt><dd>6.32730778956623</dd><dt>100%</dt><dd>7.34334073260294</dd></dl>\n"
            ],
            "text/markdown": "0%\n:   4.5109881799155225%\n:   5.3587533914087350%\n:   5.8951371452308575%\n:   6.32730778956623100%\n:   7.34334073260294\n\n",
            "text/latex": "\\begin{description*}\n\\item[0\\textbackslash{}\\%] 4.51098817991552\n\\item[25\\textbackslash{}\\%] 5.35875339140873\n\\item[50\\textbackslash{}\\%] 5.89513714523085\n\\item[75\\textbackslash{}\\%] 6.32730778956623\n\\item[100\\textbackslash{}\\%] 7.34334073260294\n\\end{description*}\n",
            "text/plain": [
              "      0%      25%      50%      75%     100% \n",
              "4.510988 5.358753 5.895137 6.327308 7.343341 "
            ]
          },
          "metadata": {}
        }
      ]
    },
    {
      "cell_type": "code",
      "source": [
        "boxplot(x,horizontal = T)"
      ],
      "metadata": {
        "colab": {
          "base_uri": "https://localhost:8080/",
          "height": 437
        },
        "id": "KQo4uTpDaWTw",
        "outputId": "175bd1d7-4f1b-4c6d-c7c6-bf16d0c899bb"
      },
      "execution_count": 7,
      "outputs": [
        {
          "output_type": "display_data",
          "data": {
            "text/plain": [
              "plot without title"
            ],
            "image/png": "[encoded data removed]"
          },
          "metadata": {
            "image/png": {
              "width": 420,
              "height": 420
            }
          }
        }
      ]
    },
    {
      "cell_type": "markdown",
      "source": [
        "**3) Frequently used statistical distributions**"
      ],
      "metadata": {
        "id": "CD18X0uyaass"
      }
    },
    {
      "cell_type": "markdown",
      "source": [
        "Statistical distributions describe how data points are spread out and are defined by parameters like the mean and variance.\n",
        "\n",
        " One common distribution is the normal distribution, which looks like a \"bell curve.\" It is characterized by the mean (the center) and the standard deviation (which controls how spread out the data is).\n",
        "\n",
        " In a normal distribution, most of the data points are close to the mean, with fewer points farther away.\n",
        "\n",
        " This means that if you randomly pick a data point from a normal distribution, it is more likely to be close to the mean than far from it.\n",
        "\n",
        " The probability of getting a value decreases as you move away from the mean."
      ],
      "metadata": {
        "id": "OgOBA_xVadWp"
      }
    },
    {
      "cell_type": "markdown",
      "source": [
        "In R, the family of *norm functions (rnorm,dnorm,qnorm and pnorm) can be used to operate with the normal distribution, such as calculating probabilities and generating random numbers drawn from a normal distribution. We show some of those capabilities below."
      ],
      "metadata": {
        "id": "E4lt2Gpuau56"
      }
    },
    {
      "cell_type": "code",
      "source": [
        "# get the value of probability density function when X= -2,\n",
        "# where mean=0 and sd=2\n",
        "dnorm(-2, mean=0, sd=2)"
      ],
      "metadata": {
        "colab": {
          "base_uri": "https://localhost:8080/",
          "height": 34
        },
        "id": "hiENSNKkasBK",
        "outputId": "97580838-902e-4d50-edbb-1758940b8865"
      },
      "execution_count": 8,
      "outputs": [
        {
          "output_type": "display_data",
          "data": {
            "text/html": [
              "0.120985362259572"
            ],
            "text/markdown": "0.120985362259572",
            "text/latex": "0.120985362259572",
            "text/plain": [
              "[1] 0.1209854"
            ]
          },
          "metadata": {}
        }
      ]
    },
    {
      "cell_type": "code",
      "source": [
        "# get the probability of P(X =< -2) where mean=0 and sd=2\n",
        "pnorm(-2, mean=0, sd=2)"
      ],
      "metadata": {
        "colab": {
          "base_uri": "https://localhost:8080/",
          "height": 34
        },
        "id": "uK6Q8bzzay5g",
        "outputId": "aa3dca28-e886-4b89-eb9a-4e1e3bb39fad"
      },
      "execution_count": 9,
      "outputs": [
        {
          "output_type": "display_data",
          "data": {
            "text/html": [
              "0.158655253931457"
            ],
            "text/markdown": "0.158655253931457",
            "text/latex": "0.158655253931457",
            "text/plain": [
              "[1] 0.1586553"
            ]
          },
          "metadata": {}
        }
      ]
    },
    {
      "cell_type": "code",
      "source": [
        "# get the probability of P(X > -2) where mean=0 and sd=2\n",
        "pnorm(-2, mean=0, sd=2,lower.tail = FALSE)"
      ],
      "metadata": {
        "colab": {
          "base_uri": "https://localhost:8080/",
          "height": 34
        },
        "id": "LhzFpXUEa1C3",
        "outputId": "21e990ab-46ab-4c87-b6f4-14c56a121fd5"
      },
      "execution_count": 10,
      "outputs": [
        {
          "output_type": "display_data",
          "data": {
            "text/html": [
              "0.841344746068543"
            ],
            "text/markdown": "0.841344746068543",
            "text/latex": "0.841344746068543",
            "text/plain": [
              "[1] 0.8413447"
            ]
          },
          "metadata": {}
        }
      ]
    },
    {
      "cell_type": "code",
      "source": [
        "# get 5 random numbers from normal dist with  mean=0 and sd=2\n",
        "rnorm(5, mean=0 , sd=2)"
      ],
      "metadata": {
        "colab": {
          "base_uri": "https://localhost:8080/",
          "height": 34
        },
        "id": "yVtm5qzpa3wG",
        "outputId": "6e0014be-74a9-41ed-f5e4-c834139fd820"
      },
      "execution_count": 11,
      "outputs": [
        {
          "output_type": "display_data",
          "data": {
            "text/html": [
              "<style>\n",
              ".list-inline {list-style: none; margin:0; padding: 0}\n",
              ".list-inline>li {display: inline-block}\n",
              ".list-inline>li:not(:last-child)::after {content: \"\\00b7\"; padding: 0 .5ex}\n",
              "</style>\n",
              "<ol class=list-inline><li>2.43053553251827</li><li>0.364747192413105</li><li>0.67708903568659</li><li>-0.0228364407143991</li><li>0.978183713195985</li></ol>\n"
            ],
            "text/markdown": "1. 2.43053553251827\n2. 0.364747192413105\n3. 0.67708903568659\n4. -0.0228364407143991\n5. 0.978183713195985\n\n\n",
            "text/latex": "\\begin{enumerate*}\n\\item 2.43053553251827\n\\item 0.364747192413105\n\\item 0.67708903568659\n\\item -0.0228364407143991\n\\item 0.978183713195985\n\\end{enumerate*}\n",
            "text/plain": [
              "[1]  2.43053553  0.36474719  0.67708904 -0.02283644  0.97818371"
            ]
          },
          "metadata": {}
        }
      ]
    },
    {
      "cell_type": "code",
      "source": [
        "# get y value corresponding to P(X > y) = 0.15 with  mean=0 and sd=2\n",
        "qnorm( 0.15, mean=0 , sd=2)"
      ],
      "metadata": {
        "colab": {
          "base_uri": "https://localhost:8080/",
          "height": 34
        },
        "id": "wwMiOnWUa6Gz",
        "outputId": "cf49111f-d83a-42bb-bfea-3faab746cc7e"
      },
      "execution_count": 12,
      "outputs": [
        {
          "output_type": "display_data",
          "data": {
            "text/html": [
              "-2.07286677898758"
            ],
            "text/markdown": "-2.07286677898758",
            "text/latex": "-2.07286677898758",
            "text/plain": [
              "[1] -2.072867"
            ]
          },
          "metadata": {}
        }
      ]
    },
    {
      "cell_type": "markdown",
      "source": [
        "In R, there are many distribution functions that you can use for different statistical analyses. Each function requires specific parameters, such as the distribution's characteristics (mean, variance, etc.), and the type of output you want (e.g., critical values, quantiles, or random numbers). Here's a quick overview of some commonly used distribution functions:\n",
        "\n",
        "**Normal Distribution:**\n",
        "\n",
        "1) dnorm() – Density function (gives the height of the curve at a specific point).\n",
        "\n",
        "2) pnorm() – Cumulative distribution function (gives the probability of values ≤ a certain value).\n",
        "\n",
        "3) qnorm() – Quantile function (gives the value corresponding to a given probability).\n",
        "\n",
        "4) rnorm() – Generates random numbers following a normal distribution.\n",
        "\n",
        "**Binomial Distribution:**\n",
        "\n",
        "1) dbinom() – Probability mass function (for the binomial distribution).\n",
        "\n",
        "2) pbinom() – Cumulative distribution function for binomial.\n",
        "\n",
        "3) qbinom() – Quantile function for binomial distribution.\n",
        "\n",
        "4) rbinom() – Generates random numbers from a binomial distribution.\n",
        "\n",
        "**Poisson Distribution:**\n",
        "\n",
        "1) dpois() – Probability mass function for the Poisson distribution.\n",
        "\n",
        "2) ppois() – Cumulative distribution function for Poisson.\n",
        "\n",
        "3) qpois() – Quantile function for Poisson.\n",
        "\n",
        "4) rpois() – Generates random numbers from a Poisson distribution.\n",
        "\n",
        "These are just a few examples, but there are many more for other types of distributions, such as exponential, uniform, chi-square, etc. You can use these functions in R to work with various statistical distributions depending on your needs."
      ],
      "metadata": {
        "id": "mAj6Tp9nbLtD"
      }
    },
    {
      "cell_type": "markdown",
      "source": [
        "**4) Precision of estimates: Confidence intervals**"
      ],
      "metadata": {
        "id": "oRtb2xFjblgm"
      }
    },
    {
      "cell_type": "markdown",
      "source": [
        "When we take a sample from a population and calculate a statistic like the mean, we're trying to estimate the population's mean.\n",
        "\n",
        "However, we're not always sure how accurate our estimate is.\n",
        "\n",
        "A confidence interval helps by providing a range of values that likely contains the true population mean.\n",
        "\n",
        "Since we often don’t have access to the entire population, we can use bootstrap resampling to estimate this range.\n",
        "\n",
        "The idea is to repeatedly take random samples (with replacement) from the original sample, calculate the mean for each sample, and repeat this many times (e.g., 1000 times).\n",
        "\n",
        "From these means, we can determine the 2.5th and 97.5th percentiles, which form a 95% confidence interval. This method helps estimate how precise our sample mean is."
      ],
      "metadata": {
        "id": "kIvCZ7r9bqg1"
      }
    },
    {
      "cell_type": "code",
      "source": [
        "install.packages(\"mosaic\")\n",
        "library(mosaic)\n",
        "set.seed(21)\n",
        "sample1= rnorm(50,20,5) # simulate a sample\n",
        "\n",
        "# do bootstrap resampling, sampling with replacement\n",
        "boot.means=do(1000) * mean(resample(sample1))\n",
        "\n",
        "# get percentiles from the bootstrap means\n",
        "q=quantile(boot.means[,1],p=c(0.025,0.975))\n",
        "\n",
        "# plot the histogram\n",
        "hist(boot.means[,1],col=\"cornflowerblue\",border=\"white\",\n",
        "                    xlab=\"sample means\")\n",
        "abline(v=c(q[1], q[2] ),col=\"red\")\n",
        "text(x=q[1],y=200,round(q[1],3),adj=c(1,0))\n",
        "text(x=q[2],y=200,round(q[2],3),adj=c(0,0))"
      ],
      "metadata": {
        "colab": {
          "base_uri": "https://localhost:8080/",
          "height": 1000
        },
        "id": "c5ORMJ9bcVPC",
        "outputId": "c74e7c59-a737-4f6c-cdde-8dc1e729e8f7"
      },
      "execution_count": 14,
      "outputs": [
        {
          "output_type": "stream",
          "name": "stderr",
          "text": [
            "Installing package into ‘/usr/local/lib/R/site-library’\n",
            "(as ‘lib’ is unspecified)\n",
            "\n",
            "also installing the dependencies ‘ggridges’, ‘labelled’, ‘ggformula’, ‘mosaicData’, ‘mosaicCore’\n",
            "\n",
            "\n",
            "Registered S3 method overwritten by 'mosaic':\n",
            "  method                           from   \n",
            "  fortify.SpatialPolygonsDataFrame ggplot2\n",
            "\n",
            "\n",
            "The 'mosaic' package masks several functions from core packages in order to add \n",
            "additional features.  The original behavior of these functions should not be affected by this.\n",
            "\n",
            "\n",
            "Attaching package: ‘mosaic’\n",
            "\n",
            "\n",
            "The following objects are masked from ‘package:dplyr’:\n",
            "\n",
            "    count, do, tally\n",
            "\n",
            "\n",
            "The following object is masked from ‘package:Matrix’:\n",
            "\n",
            "    mean\n",
            "\n",
            "\n",
            "The following object is masked from ‘package:ggplot2’:\n",
            "\n",
            "    stat\n",
            "\n",
            "\n",
            "The following objects are masked from ‘package:stats’:\n",
            "\n",
            "    binom.test, cor, cor.test, cov, fivenum, IQR, median, prop.test,\n",
            "    quantile, sd, t.test, var\n",
            "\n",
            "\n",
            "The following objects are masked from ‘package:base’:\n",
            "\n",
            "    max, mean, min, prod, range, sample, sum\n",
            "\n",
            "\n"
          ]
        },
        {
          "output_type": "display_data",
          "data": {
            "text/plain": [
              "Plot with title “Histogram of boot.means[, 1]”"
            ],
            "image/png": "[encoded data removed]"
          },
          "metadata": {
            "image/png": {
              "width": 420,
              "height": 420
            }
          }
        }
      ]
    },
    {
      "cell_type": "markdown",
      "source": [
        "In R, we can use the qnorm() function to calculate the values needed for confidence intervals. When we compare the results from the Central Limit Theorem (CLT) and bootstrap resampling, we find they are very similar. For example, the confidence interval from the bootstrap method was [19.21, 21.99], and from CLT, it was [19.24, 22.01]. Both methods give almost the same result for the same data."
      ],
      "metadata": {
        "id": "3_2Uxjohc2kn"
      }
    },
    {
      "cell_type": "code",
      "source": [
        "alpha=0.05\n",
        "sd=5\n",
        "n=50\n",
        "mean(sample1)+qnorm(c(alpha/2,1-alpha/2))*sd/sqrt(n)"
      ],
      "metadata": {
        "colab": {
          "base_uri": "https://localhost:8080/",
          "height": 34
        },
        "id": "c_LL8gPUc3Rn",
        "outputId": "b9a441b0-a0d4-4dd5-f53d-152313eafc64"
      },
      "execution_count": 15,
      "outputs": [
        {
          "output_type": "display_data",
          "data": {
            "text/html": [
              "<style>\n",
              ".list-inline {list-style: none; margin:0; padding: 0}\n",
              ".list-inline>li {display: inline-block}\n",
              ".list-inline>li:not(:last-child)::after {content: \"\\00b7\"; padding: 0 .5ex}\n",
              "</style>\n",
              "<ol class=list-inline><li>19.2363785945277</li><li>22.0081862432271</li></ol>\n"
            ],
            "text/markdown": "1. 19.2363785945277\n2. 22.0081862432271\n\n\n",
            "text/latex": "\\begin{enumerate*}\n\\item 19.2363785945277\n\\item 22.0081862432271\n\\end{enumerate*}\n",
            "text/plain": [
              "[1] 19.23638 22.00819"
            ]
          },
          "metadata": {}
        }
      ]
    },
    {
      "cell_type": "markdown",
      "source": [
        "# **How to test for differences between samples**"
      ],
      "metadata": {
        "id": "kI6COIrOc54O"
      }
    },
    {
      "cell_type": "markdown",
      "source": [
        "When comparing two sets of samples, like wild-type vs mutants or healthy vs disease samples, we need to account for natural variation in the data.\n",
        "\n",
        "We can't just look at the difference in means, because small differences could be due to random chance.\n",
        "\n",
        "To determine if the difference is real, we use hypothesis testing.\n",
        "\n",
        "This involves two key steps: first, we set up a null hypothesis (H₀) that there is no difference between the samples, and an alternative hypothesis (H₁) that there is a difference.\n",
        "\n",
        "Next, we calculate a test statistic and compare it to a reference value (P-value) to see if the difference is statistically significant.\n",
        "\n",
        "If the P-value is small enough, we reject the null hypothesis and conclude there is a real difference"
      ],
      "metadata": {
        "id": "VzwsoioEdeWE"
      }
    },
    {
      "cell_type": "markdown",
      "source": [
        "**1) Randomization-based testing for difference of the means**"
      ],
      "metadata": {
        "id": "ZuxXxbujdAue"
      }
    },
    {
      "cell_type": "markdown",
      "source": [
        "Randomization-based testing is a simple way to check if there's a real difference between two samples. If we assume there’s no difference (the null hypothesis), we can randomly shuffle the sample labels and calculate the difference in means each time. By doing this many times, we create a \"null distribution\" that shows what differences we might expect just by chance. Then, we compare the actual difference we observed to this null distribution to see how unlikely it is. If the actual difference is very rare in the shuffled samples, we can conclude that it’s probably a real difference. This method helps us test the hypothesis without making strong assumptions."
      ],
      "metadata": {
        "id": "uZuIRyZ9dFQ7"
      }
    },
    {
      "cell_type": "code",
      "source": [
        "set.seed(100)\n",
        "gene1=rnorm(30,mean=4,sd=2)\n",
        "gene2=rnorm(30,mean=2,sd=2)\n",
        "org.diff=mean(gene1)-mean(gene2)\n",
        "gene.df=data.frame(exp=c(gene1,gene2),\n",
        "                  group=c( rep(\"test\",30),rep(\"control\",30) ) )\n",
        "\n",
        "\n",
        "exp.null <- do(1000) * diff(mosaic::mean(exp ~ shuffle(group), data=gene.df))\n",
        "hist(exp.null[,1],xlab=\"null distribution | no difference in samples\",\n",
        "     main=expression(paste(H[0],\" :no difference in means\") ),\n",
        "     xlim=c(-2,2),col=\"cornflowerblue\",border=\"white\")\n",
        "abline(v=quantile(exp.null[,1],0.95),col=\"red\" )\n",
        "abline(v=org.diff,col=\"blue\" )\n",
        "text(x=quantile(exp.null[,1],0.95),y=200,\"0.05\",adj=c(1,0),col=\"red\")\n",
        "text(x=org.diff,y=200,\"org. diff.\",adj=c(1,0),col=\"blue\")"
      ],
      "metadata": {
        "colab": {
          "base_uri": "https://localhost:8080/",
          "height": 437
        },
        "id": "lhNzgEfYdtLf",
        "outputId": "a7f3e491-44bc-49c5-eaf0-75248c2d4d85"
      },
      "execution_count": 16,
      "outputs": [
        {
          "output_type": "display_data",
          "data": {
            "text/plain": [
              "Plot with title “paste(H[0], \" :no difference in means\")”"
            ],
            "image/png": "[encoded data removed]"
          },
          "metadata": {
            "image/png": {
              "width": 420,
              "height": 420
            }
          }
        }
      ]
    },
    {
      "cell_type": "code",
      "source": [
        "p.val=sum(exp.null[,1]>org.diff)/length(exp.null[,1])\n",
        "p.val"
      ],
      "metadata": {
        "colab": {
          "base_uri": "https://localhost:8080/",
          "height": 34
        },
        "id": "EAdiZ6p6dyWR",
        "outputId": "fc1bf56a-64e7-44f4-fa19-dafa00d8e7be"
      },
      "execution_count": 17,
      "outputs": [
        {
          "output_type": "display_data",
          "data": {
            "text/html": [
              "0.001"
            ],
            "text/markdown": "0.001",
            "text/latex": "0.001",
            "text/plain": [
              "[1] 0.001"
            ]
          },
          "metadata": {}
        }
      ]
    },
    {
      "cell_type": "markdown",
      "source": [
        "After performing random permutations and creating a null distribution, we can calculate a confidence interval for the difference in means. This is done by finding the 2.5th and 97.5th percentiles of the null distribution. This confidence interval is closely related to the P-value calculation, as it helps us determine how extreme our observed difference is compared to what we would expect by chance."
      ],
      "metadata": {
        "id": "D-oDYRVaeC-I"
      }
    },
    {
      "cell_type": "markdown",
      "source": [
        "**2) Using t-test for difference of the means between two samples**"
      ],
      "metadata": {
        "id": "cTbJp1C5eDyU"
      }
    },
    {
      "cell_type": "markdown",
      "source": [
        "A t-test is a statistical test used to compare the means of two groups to see if they are significantly different. It assumes that the differences between groups follow a t-distribution and is based on the Central Limit Theorem. The t-test is often used when there are fewer data points, as it is quicker and less computationally intensive than randomization tests."
      ],
      "metadata": {
        "id": "RJjWW-KKeHG9"
      }
    },
    {
      "cell_type": "code",
      "source": [
        "# Welch's t-test\n",
        "stats::t.test(gene1,gene2)"
      ],
      "metadata": {
        "colab": {
          "base_uri": "https://localhost:8080/",
          "height": 213
        },
        "id": "5jLArHwzePEF",
        "outputId": "b375cfed-b2bb-4f7d-b463-04e21aff8b9d"
      },
      "execution_count": 18,
      "outputs": [
        {
          "output_type": "display_data",
          "data": {
            "text/plain": [
              "\n",
              "\tWelch Two Sample t-test\n",
              "\n",
              "data:  gene1 and gene2\n",
              "t = 3.7653, df = 47.552, p-value = 0.0004575\n",
              "alternative hypothesis: true difference in means is not equal to 0\n",
              "95 percent confidence interval:\n",
              " 0.872397 2.872761\n",
              "sample estimates:\n",
              "mean of x mean of y \n",
              " 4.057728  2.185149 \n"
            ]
          },
          "metadata": {}
        }
      ]
    },
    {
      "cell_type": "code",
      "source": [
        "# t-test with equal variance assumption\n",
        "stats::t.test(gene1,gene2,var.equal=TRUE)"
      ],
      "metadata": {
        "colab": {
          "base_uri": "https://localhost:8080/",
          "height": 213
        },
        "id": "ykGDaClreRp6",
        "outputId": "186149df-213f-4bc0-f7bb-0b5a85cac36a"
      },
      "execution_count": 19,
      "outputs": [
        {
          "output_type": "display_data",
          "data": {
            "text/plain": [
              "\n",
              "\tTwo Sample t-test\n",
              "\n",
              "data:  gene1 and gene2\n",
              "t = 3.7653, df = 58, p-value = 0.0003905\n",
              "alternative hypothesis: true difference in means is not equal to 0\n",
              "95 percent confidence interval:\n",
              " 0.8770753 2.8680832\n",
              "sample estimates:\n",
              "mean of x mean of y \n",
              " 4.057728  2.185149 \n"
            ]
          },
          "metadata": {}
        }
      ]
    },
    {
      "cell_type": "markdown",
      "source": [
        "T-tests assume normality in the population, but they can still work well even with deviations from normality, especially when the distributions are similarly skewed. This is because, according to the Central Limit Theorem, sample means will be normally distributed if the sample size is large enough."
      ],
      "metadata": {
        "id": "0X-l-mFpeaGS"
      }
    },
    {
      "cell_type": "markdown",
      "source": [
        "**3) Multiple testing correction**"
      ],
      "metadata": {
        "id": "gkzve6Quea6z"
      }
    },
    {
      "cell_type": "markdown",
      "source": [
        "In hypothesis testing, we sometimes make mistakes: false positives (type I errors), where we wrongly think something is significant, and false negatives (type II errors), where we miss something important. Specificity measures how well we avoid false positives, and sensitivity (or \"power\") measures how well we detect true positives. A more powerful test has higher sensitivity, which means fewer false negatives. The power of a test increases with a larger sample size and bigger effect sizes, making it easier to detect true differences. Multiple testing corrections help control false positives when performing many tests."
      ],
      "metadata": {
        "id": "JR-XV7RHejzA"
      }
    },
    {
      "cell_type": "markdown",
      "source": [
        "In R, the base function p.adjust() implements most of the p-value correction methods described above. For the q-value, we can use the qvalue package from Bioconductor. Below we demonstrate how to use them on a set of simulated p-values."
      ],
      "metadata": {
        "id": "PyeynQNBet_5"
      }
    },
    {
      "cell_type": "code",
      "source": [
        "install.packages(\"BiocManager\")\n",
        "BiocManager::install()\n",
        "BiocManager::install(\"qvalue\")\n",
        "library(qvalue)\n",
        "data(hedenfalk)\n",
        "\n",
        "qvalues <- qvalue(hedenfalk$p)$q\n",
        "bonf.pval=p.adjust(hedenfalk$p,method =\"bonferroni\")\n",
        "fdr.adj.pval=p.adjust(hedenfalk$p,method =\"fdr\")\n",
        "\n",
        "plot(hedenfalk$p,qvalues,pch=19,ylim=c(0,1),\n",
        "     xlab=\"raw P-values\",ylab=\"adjusted P-values\")\n",
        "points(hedenfalk$p,bonf.pval,pch=19,col=\"red\")\n",
        "points(hedenfalk$p,fdr.adj.pval,pch=19,col=\"blue\")\n",
        "legend(\"bottomright\",legend=c(\"q-value\",\"FDR (BH)\",\"Bonferroni\"),\n",
        "       fill=c(\"black\",\"blue\",\"red\"))"
      ],
      "metadata": {
        "colab": {
          "base_uri": "https://localhost:8080/",
          "height": 937
        },
        "id": "zmVLurBNewo4",
        "outputId": "14b95913-b1ed-4089-bccb-1b82006cdc4e"
      },
      "execution_count": 22,
      "outputs": [
        {
          "output_type": "stream",
          "name": "stderr",
          "text": [
            "Installing package into ‘/usr/local/lib/R/site-library’\n",
            "(as ‘lib’ is unspecified)\n",
            "\n",
            "'getOption(\"repos\")' replaces Bioconductor standard repositories, see\n",
            "'help(\"repositories\", package = \"BiocManager\")' for details.\n",
            "Replacement repositories:\n",
            "    CRAN: https://cran.rstudio.com\n",
            "\n",
            "Bioconductor version 3.20 (BiocManager 1.30.25), R 4.4.2 (2024-10-31)\n",
            "\n",
            "Installing package(s) 'BiocVersion'\n",
            "\n",
            "Old packages: 'data.table', 'processx'\n",
            "\n",
            "'getOption(\"repos\")' replaces Bioconductor standard repositories, see\n",
            "'help(\"repositories\", package = \"BiocManager\")' for details.\n",
            "Replacement repositories:\n",
            "    CRAN: https://cran.rstudio.com\n",
            "\n",
            "Bioconductor version 3.20 (BiocManager 1.30.25), R 4.4.2 (2024-10-31)\n",
            "\n",
            "Installing package(s) 'qvalue'\n",
            "\n",
            "also installing the dependencies ‘plyr’, ‘reshape2’\n",
            "\n",
            "\n",
            "Old packages: 'data.table', 'processx'\n",
            "\n"
          ]
        },
        {
          "output_type": "display_data",
          "data": {
            "text/plain": [
              "plot without title"
            ],
            "image/png": "[encoded data removed]"
          },
          "metadata": {
            "image/png": {
              "width": 420,
              "height": 420
            }
          }
        }
      ]
    },
    {
      "cell_type": "markdown",
      "source": [
        "**4) Moderated t-tests: Using information from multiple comparisons**"
      ],
      "metadata": {
        "id": "VKGe7iBgfcmG"
      }
    },
    {
      "cell_type": "markdown",
      "source": [
        "In genomics, we often perform many tests, not just one, because we have a large number of genes to analyze. To improve the accuracy of these tests, we can use information from all the tests to help adjust the results of individual tests. For example, when calculating variances (a measure of how spread out the data is) for thousands of genes, we can adjust each gene's variance to be closer to the average or typical variance. This process is called \"moderated t-tests\" or \"shrinkage t-tests.\" One method, used by software like Limma, involves \"Empirical Bayes methods,\" where we combine the variability of each gene with background knowledge (like the variability of other genes) to get a better estimate of the gene’s variance. This helps improve the reliability of our significance testing and makes the results more accurate."
      ],
      "metadata": {
        "id": "HKnaAugQff1x"
      }
    },
    {
      "cell_type": "code",
      "source": [
        "install.packages(\"matrixStats\")\n",
        "library(matrixStats)\n",
        "set.seed(100)\n",
        "\n",
        "#sample data matrix from normal distribution\n",
        "\n",
        "gset=rnorm(3000,mean=200,sd=70)\n",
        "data=matrix(gset,ncol=6)\n",
        "\n",
        "# set groups\n",
        "group1=1:3\n",
        "group2=4:6\n",
        "n1=3\n",
        "n2=3\n",
        "dx=rowMeans(data[,group1])-rowMeans(data[,group2])\n",
        "\n",
        "require(matrixStats)\n",
        "\n",
        "# get the esimate of pooled variance\n",
        "stderr = sqrt( (rowVars(data[,group1])*(n1-1) +\n",
        "       rowVars(data[,group2])*(n2-1)) / (n1+n2-2) * ( 1/n1 + 1/n2 ))\n",
        "\n",
        "# do the shrinking towards median\n",
        "mod.stderr = (stderr + median(stderr)) / 2 # moderation in variation\n",
        "\n",
        "# esimate t statistic with moderated variance\n",
        "t.mod <- dx / mod.stderr\n",
        "\n",
        "# calculate P-value of rejecting null\n",
        "p.mod = 2*pt( -abs(t.mod), n1+n2-2 )\n",
        "\n",
        "# esimate t statistic without moderated variance\n",
        "t = dx / stderr\n",
        "\n",
        "# calculate P-value of rejecting null\n",
        "p = 2*pt( -abs(t), n1+n2-2 )\n",
        "\n",
        "par(mfrow=c(1,2))\n",
        "hist(p,col=\"cornflowerblue\",border=\"white\",main=\"\",xlab=\"P-values t-test\")\n",
        "mtext(paste(\"signifcant tests:\",sum(p<0.05))  )\n",
        "hist(p.mod,col=\"cornflowerblue\",border=\"white\",main=\"\",\n",
        "     xlab=\"P-values mod. t-test\")\n",
        "mtext(paste(\"signifcant tests:\",sum(p.mod<0.05))  )"
      ],
      "metadata": {
        "colab": {
          "base_uri": "https://localhost:8080/",
          "height": 741
        },
        "id": "uIfU8A78frXC",
        "outputId": "24f49372-99dc-4cb9-b6ec-b74e4204d940"
      },
      "execution_count": 24,
      "outputs": [
        {
          "output_type": "stream",
          "name": "stderr",
          "text": [
            "Installing package into ‘/usr/local/lib/R/site-library’\n",
            "(as ‘lib’ is unspecified)\n",
            "\n",
            "\n",
            "Attaching package: ‘matrixStats’\n",
            "\n",
            "\n",
            "The following objects are masked from ‘package:mosaic’:\n",
            "\n",
            "    count, iqr\n",
            "\n",
            "\n",
            "The following object is masked from ‘package:dplyr’:\n",
            "\n",
            "    count\n",
            "\n",
            "\n"
          ]
        },
        {
          "output_type": "display_data",
          "data": {
            "text/plain": [
              "Plot with title “”"
            ],
            "image/png": "[encoded data removed]"
          },
          "metadata": {
            "image/png": {
              "width": 420,
              "height": 420
            }
          }
        }
      ]
    },
    {
      "cell_type": "markdown",
      "source": [
        "**Some Other Statistical Test**"
      ],
      "metadata": {
        "id": "HJZS7DRuf91Z"
      }
    },
    {
      "cell_type": "markdown",
      "source": [
        "**1) ANOVA (Analysis of Variance)**"
      ],
      "metadata": {
        "id": "YLqMJK5igZvi"
      }
    },
    {
      "cell_type": "markdown",
      "source": [
        "ANOVA is used to compare the means across multiple groups. It’s helpful when you want to test for differences between more than two groups, like comparing gene expression across multiple conditions."
      ],
      "metadata": {
        "id": "oBK_N4gugbec"
      }
    },
    {
      "cell_type": "code",
      "source": [
        "# Simulated data for three groups\n",
        "group1 <- rnorm(30, mean = 10, sd = 2)\n",
        "group2 <- rnorm(30, mean = 15, sd = 2)\n",
        "group3 <- rnorm(30, mean = 20, sd = 2)\n",
        "\n",
        "# Combine into one dataframe\n",
        "data <- data.frame(\n",
        "  value = c(group1, group2, group3),\n",
        "  group = factor(rep(c(\"Group1\", \"Group2\", \"Group3\"), each = 30))\n",
        ")\n",
        "\n",
        "# Perform ANOVA\n",
        "anova_result <- aov(value ~ group, data = data)\n",
        "summary(anova_result)"
      ],
      "metadata": {
        "colab": {
          "base_uri": "https://localhost:8080/",
          "height": 106
        },
        "id": "g8b1yV1UghTZ",
        "outputId": "a8afad62-1ce4-4b22-dad2-f47011837497"
      },
      "execution_count": 25,
      "outputs": [
        {
          "output_type": "display_data",
          "data": {
            "text/plain": [
              "            Df Sum Sq Mean Sq F value Pr(>F)    \n",
              "group        2 1771.8   885.9   335.6 <2e-16 ***\n",
              "Residuals   87  229.6     2.6                   \n",
              "---\n",
              "Signif. codes:  0 ‘***’ 0.001 ‘**’ 0.01 ‘*’ 0.05 ‘.’ 0.1 ‘ ’ 1"
            ]
          },
          "metadata": {}
        }
      ]
    },
    {
      "cell_type": "markdown",
      "source": [
        "**2) Chi-Square Test**"
      ],
      "metadata": {
        "id": "MKUZt32tgj5O"
      }
    },
    {
      "cell_type": "markdown",
      "source": [
        "The chi-square test is used to determine if there is a significant association between two categorical variables. It can be used in genomics to see if two genetic traits are associated."
      ],
      "metadata": {
        "id": "a7rADL5zgngV"
      }
    },
    {
      "cell_type": "code",
      "source": [
        "# Simulated data for two categorical variables\n",
        "gene_expression <- c(30, 45, 15, 10)  # Gene expression (e.g., presence/absence)\n",
        "group <- c(1, 1, 2, 2)  # Group membership (e.g., healthy or diseased)\n",
        "\n",
        "# Create a contingency table\n",
        "table_data <- matrix(gene_expression, nrow = 2, byrow = TRUE)\n",
        "\n",
        "# Perform Chi-Square Test\n",
        "chi_square_result <- chisq.test(table_data)\n",
        "print(chi_square_result)"
      ],
      "metadata": {
        "colab": {
          "base_uri": "https://localhost:8080/"
        },
        "id": "qviEXrfWgqBO",
        "outputId": "5a1dd7cc-1565-47f8-85e4-9866ac5390a5"
      },
      "execution_count": 26,
      "outputs": [
        {
          "output_type": "stream",
          "name": "stdout",
          "text": [
            "\n",
            "\tPearson's Chi-squared test with Yates' continuity correction\n",
            "\n",
            "data:  table_data\n",
            "X-squared = 2.2761, df = 1, p-value = 0.1314\n",
            "\n"
          ]
        }
      ]
    },
    {
      "cell_type": "markdown",
      "source": [
        "**3)  Fisher's Exact Test**"
      ],
      "metadata": {
        "id": "RspF-BwwgsaU"
      }
    },
    {
      "cell_type": "markdown",
      "source": [
        "Fisher's exact test is used to examine the association between two categorical variables, especially when sample sizes are small. It's useful when comparing gene mutation rates across groups."
      ],
      "metadata": {
        "id": "YNjoJPt7g0NN"
      }
    },
    {
      "cell_type": "code",
      "source": [
        "# Simulated data\n",
        "gene_mutation <- matrix(c(5, 3, 2, 4), nrow = 2)\n",
        "\n",
        "# Perform Fisher's Exact Test\n",
        "fisher_result <- fisher.test(gene_mutation)\n",
        "print(fisher_result)"
      ],
      "metadata": {
        "colab": {
          "base_uri": "https://localhost:8080/"
        },
        "id": "Tefvt5dug2Ku",
        "outputId": "84a5e4cb-c65e-493b-ed1a-8bc7cca808d7"
      },
      "execution_count": 27,
      "outputs": [
        {
          "output_type": "stream",
          "name": "stdout",
          "text": [
            "\n",
            "\tFisher's Exact Test for Count Data\n",
            "\n",
            "data:  gene_mutation\n",
            "p-value = 0.5921\n",
            "alternative hypothesis: true odds ratio is not equal to 1\n",
            "95 percent confidence interval:\n",
            "  0.2418801 55.2697930\n",
            "sample estimates:\n",
            "odds ratio \n",
            "  3.043639 \n",
            "\n"
          ]
        }
      ]
    },
    {
      "cell_type": "markdown",
      "source": [
        "**4) Benjamini-Hochberg (FDR) Correction**"
      ],
      "metadata": {
        "id": "jmb8gbdQg4xx"
      }
    },
    {
      "cell_type": "markdown",
      "source": [
        "The Benjamini-Hochberg correction controls for false discovery rate (FDR) when performing multiple hypothesis tests. This is commonly used in genomics when you perform many tests, like comparing gene expression across hundreds or thousands of genes."
      ],
      "metadata": {
        "id": "k7z01txPg9i7"
      }
    },
    {
      "cell_type": "code",
      "source": [
        "# Simulated p-values\n",
        "p_values <- runif(1000, min = 0, max = 1)\n",
        "\n",
        "# Perform FDR correction\n",
        "fdr_result <- p.adjust(p_values, method = \"fdr\")\n",
        "print(fdr_result)"
      ],
      "metadata": {
        "colab": {
          "base_uri": "https://localhost:8080/"
        },
        "id": "pUTAqlX8g_in",
        "outputId": "3c532be0-2149-4252-8abb-1c302ae49cc1"
      },
      "execution_count": 28,
      "outputs": [
        {
          "output_type": "stream",
          "name": "stdout",
          "text": [
            "   [1] 0.9864032 0.9957896 0.9621335 0.9735026 0.9864032 0.9957896 0.9764736\n",
            "   [8] 0.9864032 0.9621335 0.9764736 0.9621335 0.7709020 0.9957896 0.9735026\n",
            "  [15] 0.9735026 0.9864032 0.9804036 0.9957896 0.9957896 0.9077928 0.9611664\n",
            "  [22] 0.9957896 0.9864032 0.9621335 0.9398984 0.9735026 0.9957896 0.9735026\n",
            "  [29] 0.9621335 0.9735026 0.9957896 0.9804036 0.9764736 0.9664158 0.9398984\n",
            "  [36] 0.9957896 0.9735026 0.9188307 0.9688746 0.9764736 0.9879130 0.9764736\n",
            "  [43] 0.9957896 0.9467948 0.9077928 0.9398984 0.9957896 0.9957896 0.9957896\n",
            "  [50] 0.9957896 0.9735026 0.9621335 0.9993015 0.9077928 0.9621335 0.9804036\n",
            "  [57] 0.9077928 0.9764736 0.9077928 0.9077928 0.9735026 0.9957896 0.9957896\n",
            "  [64] 0.9688746 0.9957896 0.9077928 0.9957896 0.9644026 0.9735026 0.9077928\n",
            "  [71] 0.9804036 0.9957896 0.9664158 0.9621335 0.9664158 0.9077928 0.9688746\n",
            "  [78] 0.9077928 0.9957896 0.9077928 0.9764736 0.9398984 0.9957896 0.9993015\n",
            "  [85] 0.9436340 0.9177551 0.9864032 0.9764736 0.9077928 0.9398984 0.9957896\n",
            "  [92] 0.7709020 0.9077928 0.9864032 0.9761359 0.9405634 0.9621335 0.9611664\n",
            "  [99] 0.9621335 0.9957896 0.9077928 0.9611664 0.9957896 0.9621335 0.9735026\n",
            " [106] 0.9957896 0.9957896 0.9398984 0.9957896 0.9077928 0.9735026 0.9957896\n",
            " [113] 0.9621335 0.9864032 0.9864032 0.9398984 0.9957896 0.9735026 0.9879332\n",
            " [120] 0.9077928 0.9957896 0.9957896 0.9467948 0.9664158 0.9764736 0.9957896\n",
            " [127] 0.9957896 0.9735026 0.9957896 0.9764736 0.9436815 0.9735026 0.9077928\n",
            " [134] 0.9864032 0.9957896 0.9764736 0.9864032 0.9735026 0.9804036 0.9621335\n",
            " [141] 0.9735026 0.9957896 0.9177551 0.9077928 0.9077928 0.9735026 0.9764736\n",
            " [148] 0.9957896 0.9864032 0.9077928 0.9077928 0.9077928 0.9611664 0.9764736\n",
            " [155] 0.9957896 0.9761359 0.9621335 0.9703508 0.9077928 0.9621335 0.9688746\n",
            " [162] 0.9077928 0.9077928 0.9077928 0.9398984 0.9957896 0.9957896 0.9957896\n",
            " [169] 0.9621335 0.9957896 0.9621335 0.9957896 0.9957896 0.9957896 0.9621335\n",
            " [176] 0.9398984 0.9621335 0.9077928 0.9077928 0.9621335 0.9764736 0.9993015\n",
            " [183] 0.9764736 0.9539056 0.9735026 0.9764736 0.9957896 0.9077928 0.9611664\n",
            " [190] 0.9077928 0.9864032 0.9957896 0.9764736 0.9764736 0.9957896 0.9077928\n",
            " [197] 0.9077928 0.9688746 0.9467948 0.9864032 0.9957896 0.9621335 0.9077928\n",
            " [204] 0.9957896 0.9804036 0.9764736 0.9957896 0.9077928 0.9077928 0.9077928\n",
            " [211] 0.9621335 0.9621335 0.9957896 0.9077928 0.9957896 0.9664158 0.9077928\n",
            " [218] 0.9957896 0.9957896 0.9077928 0.9428839 0.9957896 0.9735026 0.9735026\n",
            " [225] 0.7709020 0.9957896 0.9405634 0.9621335 0.9957896 0.9621335 0.9864032\n",
            " [232] 0.9957896 0.9077928 0.9735026 0.9621335 0.9864032 0.9688746 0.9735026\n",
            " [239] 0.9735026 0.9764736 0.9761359 0.9077928 0.9467948 0.9764736 0.9957896\n",
            " [246] 0.9957896 0.9077928 0.9764736 0.9957896 0.9735026 0.9764736 0.9077928\n",
            " [253] 0.9467948 0.9957896 0.9077928 0.9621335 0.9688746 0.9077928 0.9957896\n",
            " [260] 0.9957896 0.9957896 0.9764736 0.9621335 0.9957896 0.9077928 0.9764736\n",
            " [267] 0.9957896 0.7709020 0.9077928 0.9077928 0.9957896 0.9735026 0.9735026\n",
            " [274] 0.9761359 0.9750627 0.9764736 0.9621335 0.9957896 0.9864032 0.9864032\n",
            " [281] 0.9957896 0.9957896 0.7709020 0.9957896 0.9621335 0.9764736 0.9957896\n",
            " [288] 0.9077928 0.9750627 0.9957896 0.9957896 0.9077928 0.9957896 0.9864032\n",
            " [295] 0.9621335 0.9957896 0.9764736 0.9804036 0.9177551 0.9177551 0.9735026\n",
            " [302] 0.9764736 0.9957896 0.9611664 0.9957896 0.9957896 0.9735026 0.9688746\n",
            " [309] 0.9077928 0.9957896 0.9957896 0.9621335 0.9957896 0.9621335 0.9297348\n",
            " [316] 0.9077928 0.9436815 0.9621335 0.9804036 0.9077928 0.9864032 0.9398984\n",
            " [323] 0.9621335 0.9957896 0.9077928 0.9957896 0.9621335 0.9735026 0.9436815\n",
            " [330] 0.9398984 0.9077928 0.9957896 0.9764736 0.9764736 0.9077928 0.9735026\n",
            " [337] 0.9957896 0.9957896 0.9957896 0.9957896 0.9621335 0.9879332 0.9436815\n",
            " [344] 0.9077928 0.9957896 0.9664158 0.9957896 0.9621335 0.9688746 0.9735026\n",
            " [351] 0.9957896 0.9957896 0.9957896 0.9735026 0.9621335 0.9957896 0.9735026\n",
            " [358] 0.9735026 0.9957896 0.9804036 0.9077928 0.9957896 0.9077928 0.9957896\n",
            " [365] 0.9764736 0.9688746 0.9957896 0.9993015 0.9957896 0.9957896 0.9957896\n",
            " [372] 0.9864032 0.9688746 0.9957896 0.9864032 0.9957896 0.9611664 0.9750627\n",
            " [379] 0.9688746 0.9664158 0.9864032 0.9077928 0.9621335 0.9750627 0.9957896\n",
            " [386] 0.9764736 0.9957896 0.9957896 0.9077928 0.9957896 0.9764736 0.9764736\n",
            " [393] 0.9764736 0.9077928 0.9664158 0.9436815 0.9957896 0.9957896 0.9688746\n",
            " [400] 0.9621335 0.9957896 0.9735026 0.9077928 0.9735026 0.9398984 0.7709020\n",
            " [407] 0.9077928 0.9735026 0.9077928 0.9957896 0.9621335 0.9077928 0.9688746\n",
            " [414] 0.9077928 0.9621335 0.9764736 0.9957896 0.9077928 0.9611664 0.9764736\n",
            " [421] 0.9621335 0.9957896 0.9177551 0.9077928 0.9735026 0.9957896 0.9077928\n",
            " [428] 0.9864032 0.9864032 0.7709020 0.9398984 0.9993015 0.9957896 0.9621335\n",
            " [435] 0.9957896 0.9764736 0.9077928 0.9957896 0.9957896 0.9761359 0.9688746\n",
            " [442] 0.9492011 0.9077928 0.9688746 0.9688746 0.9957896 0.9688746 0.9764736\n",
            " [449] 0.7709020 0.7709020 0.9688746 0.9957896 0.9177551 0.9735026 0.9398984\n",
            " [456] 0.9621335 0.9077928 0.9764736 0.9957896 0.9077928 0.9077928 0.9735026\n",
            " [463] 0.9077928 0.9664158 0.9467948 0.9436340 0.9993015 0.9957896 0.9664158\n",
            " [470] 0.9957896 0.9957896 0.9957896 0.9804036 0.9957896 0.9764736 0.9077928\n",
            " [477] 0.9664158 0.9621335 0.9077928 0.9957896 0.9957896 0.9735026 0.9467948\n",
            " [484] 0.9957896 0.7709020 0.9957896 0.9077928 0.9611664 0.9957896 0.9621335\n",
            " [491] 0.9621335 0.9735026 0.9621335 0.9957896 0.9750627 0.9077928 0.9621335\n",
            " [498] 0.9957896 0.9957896 0.9688746 0.9879130 0.9077928 0.9735026 0.9764736\n",
            " [505] 0.9077928 0.9957896 0.9077928 0.9398984 0.9764736 0.9077928 0.9077928\n",
            " [512] 0.9177551 0.9611664 0.9077928 0.9077928 0.9957896 0.9957896 0.9611664\n",
            " [519] 0.9957896 0.9764736 0.9077928 0.9664158 0.9688746 0.9957896 0.9957896\n",
            " [526] 0.9957896 0.9077928 0.9177551 0.9077928 0.9077928 0.9621335 0.9664158\n",
            " [533] 0.9761359 0.9993015 0.7709020 0.9735026 0.9467948 0.9764736 0.9864032\n",
            " [540] 0.9077928 0.9611664 0.9764736 0.9621335 0.9077928 0.9077928 0.9957896\n",
            " [547] 0.9621335 0.9957896 0.7709020 0.9664158 0.9436815 0.9688746 0.9621335\n",
            " [554] 0.9077928 0.9077928 0.9957896 0.9957896 0.9764736 0.9957896 0.9688746\n",
            " [561] 0.9735026 0.9735026 0.9957896 0.9077928 0.9735026 0.9764736 0.9750627\n",
            " [568] 0.9735026 0.9957896 0.9957896 0.9960701 0.9957896 0.9883823 0.9621335\n",
            " [575] 0.9957896 0.9735026 0.9735026 0.9764736 0.9957896 0.9957896 0.9764736\n",
            " [582] 0.9957896 0.9957896 0.9664158 0.9077928 0.9077928 0.9957896 0.9764736\n",
            " [589] 0.9735026 0.9077928 0.9957896 0.9957896 0.9688746 0.9957896 0.9764736\n",
            " [596] 0.9621335 0.9077928 0.9957896 0.9957896 0.9957896 0.9957896 0.9077928\n",
            " [603] 0.9077928 0.9957896 0.9957896 0.9077928 0.9957896 0.9735026 0.9077928\n",
            " [610] 0.9764736 0.9957896 0.9957896 0.9735026 0.9957896 0.9766952 0.9993015\n",
            " [617] 0.9957896 0.9735026 0.9957896 0.9177551 0.9975256 0.9077928 0.9879130\n",
            " [624] 0.9879332 0.9957896 0.9621335 0.9957896 0.9398984 0.9957896 0.9864032\n",
            " [631] 0.9764736 0.9957896 0.9864032 0.9957896 0.9398984 0.9077928 0.9879130\n",
            " [638] 0.9621335 0.9957896 0.9804036 0.9077928 0.9957896 0.9764736 0.9621335\n",
            " [645] 0.9077928 0.9611664 0.9664158 0.9621335 0.9621335 0.9957896 0.9764736\n",
            " [652] 0.9981759 0.9957896 0.9764736 0.9957896 0.9864032 0.9735026 0.9804036\n",
            " [659] 0.9077928 0.9804036 0.9077928 0.9957896 0.9804036 0.9750627 0.9957896\n",
            " [666] 0.9957896 0.9621335 0.9957896 0.9957896 0.9621335 0.9957896 0.9735026\n",
            " [673] 0.9957896 0.9993015 0.9764736 0.9957896 0.9664158 0.9077928 0.9077928\n",
            " [680] 0.9864032 0.9398984 0.9398984 0.9974696 0.7709020 0.7709020 0.9957896\n",
            " [687] 0.9764736 0.9398984 0.9957896 0.9077928 0.9077928 0.9735026 0.9077928\n",
            " [694] 0.9977154 0.9957896 0.9077928 0.9957896 0.7709020 0.9957896 0.9957896\n",
            " [701] 0.9077928 0.9735026 0.9735026 0.9957896 0.9735026 0.9804036 0.9735026\n",
            " [708] 0.9735026 0.9761359 0.9735026 0.9957896 0.9957896 0.9957896 0.9077928\n",
            " [715] 0.9735026 0.9957896 0.9177551 0.9735026 0.9764736 0.9077928 0.9764736\n",
            " [722] 0.9077928 0.9764736 0.9764736 0.9077928 0.9735026 0.9077928 0.9621335\n",
            " [729] 0.9957896 0.9957896 0.9077928 0.9957896 0.9957896 0.9621335 0.9398984\n",
            " [736] 0.9077928 0.9664158 0.9077928 0.9077928 0.9804036 0.7709020 0.9764736\n",
            " [743] 0.9804036 0.9764736 0.9957896 0.9077928 0.9957896 0.9077928 0.9077928\n",
            " [750] 0.9957896 0.9077928 0.9764736 0.9925846 0.9735026 0.9957896 0.9621335\n",
            " [757] 0.9621335 0.9764736 0.9957896 0.9077928 0.9735026 0.9864032 0.9621335\n",
            " [764] 0.9077928 0.9611664 0.9957896 0.9804036 0.9957896 0.9688746 0.9957896\n",
            " [771] 0.9993015 0.9957896 0.9611664 0.9764736 0.9077928 0.9764736 0.9318942\n",
            " [778] 0.9621335 0.9957896 0.9405634 0.9735026 0.9957896 0.9957896 0.9735026\n",
            " [785] 0.9957896 0.9957896 0.9077928 0.9664158 0.9077928 0.9957896 0.9611664\n",
            " [792] 0.7709020 0.9611664 0.9621335 0.9957896 0.9735026 0.9621335 0.9436815\n",
            " [799] 0.9957896 0.9077928 0.9077928 0.9177551 0.9957896 0.9957896 0.9764736\n",
            " [806] 0.9957896 0.9077928 0.9764736 0.9864032 0.9077928 0.9077928 0.9077928\n",
            " [813] 0.9957896 0.9957896 0.9957896 0.9764736 0.9957896 0.9735026 0.9664158\n",
            " [820] 0.9764736 0.9957896 0.9735026 0.9688746 0.9993015 0.9957896 0.9621335\n",
            " [827] 0.9957896 0.9077928 0.9077928 0.9957896 0.9077928 0.9735026 0.9436340\n",
            " [834] 0.9664158 0.9077928 0.9688746 0.9664158 0.9688746 0.9957896 0.9436815\n",
            " [841] 0.7709020 0.9957896 0.9177551 0.9735026 0.9611664 0.9735026 0.9077928\n",
            " [848] 0.9077928 0.9957896 0.9735026 0.9764736 0.9621335 0.9077928 0.9077928\n",
            " [855] 0.9957896 0.9664158 0.9957896 0.9957896 0.9957896 0.9957896 0.9735026\n",
            " [862] 0.9077928 0.9764736 0.9735026 0.9735026 0.9077928 0.9077928 0.9077928\n",
            " [869] 0.9957896 0.9688746 0.9621335 0.9077928 0.9957896 0.9077928 0.9077928\n",
            " [876] 0.9077928 0.9077928 0.9957896 0.9957896 0.9764736 0.9764736 0.9957896\n",
            " [883] 0.9297348 0.9957896 0.9957896 0.9735026 0.9764736 0.9611664 0.9735026\n",
            " [890] 0.9077928 0.9077928 0.9077928 0.9957896 0.9398984 0.9957896 0.9077928\n",
            " [897] 0.9611664 0.9077928 0.9804036 0.9077928 0.9436815 0.9764736 0.9957896\n",
            " [904] 0.9077928 0.9621335 0.9077928 0.9621335 0.9750627 0.9077928 0.9804036\n",
            " [911] 0.9804036 0.9761359 0.9957896 0.9398984 0.9077928 0.9957896 0.9664158\n",
            " [918] 0.9957896 0.9621335 0.9398984 0.9957896 0.9957896 0.9077928 0.9735026\n",
            " [925] 0.9077928 0.9957896 0.9436815 0.9957896 0.9957896 0.9621335 0.9611664\n",
            " [932] 0.9664158 0.9688746 0.9957896 0.9957896 0.9077928 0.9735026 0.9077928\n",
            " [939] 0.9764736 0.9957896 0.9957896 0.9957896 0.9735026 0.9077928 0.9804036\n",
            " [946] 0.9621335 0.9436815 0.9925846 0.9398984 0.9621335 0.9735026 0.7709020\n",
            " [953] 0.9957896 0.9957896 0.9764736 0.9957896 0.9864032 0.9621335 0.9957896\n",
            " [960] 0.9957896 0.9804036 0.9957896 0.9077928 0.9664158 0.9621335 0.9398984\n",
            " [967] 0.9957896 0.9611664 0.9957896 0.9957896 0.9077928 0.9957896 0.9611664\n",
            " [974] 0.9436815 0.9467948 0.9664158 0.9957896 0.9957896 0.9621335 0.9077928\n",
            " [981] 0.9957896 0.9735026 0.9077928 0.9957896 0.9177734 0.9621335 0.9750627\n",
            " [988] 0.9735026 0.9957896 0.9764736 0.9993015 0.9957896 0.9398984 0.9664158\n",
            " [995] 0.9077928 0.9957896 0.9864032 0.9957896 0.9957896 0.9412010\n"
          ]
        }
      ]
    },
    {
      "cell_type": "markdown",
      "source": [
        "**5) Paired t-Test**"
      ],
      "metadata": {
        "id": "HRTC7F5fhCbz"
      }
    },
    {
      "cell_type": "markdown",
      "source": [
        "The paired t-test compares the means of two related groups. This test is used when you have two measurements from the same group (e.g., pre-treatment vs. post-treatment)."
      ],
      "metadata": {
        "id": "stJ8m9FPhJkR"
      }
    },
    {
      "cell_type": "code",
      "source": [
        "# Simulated data (before and after treatment)\n",
        "before <- rnorm(30, mean = 8, sd = 1)\n",
        "after <- rnorm(30, mean = 9, sd = 1)\n",
        "\n",
        "# Perform paired t-test\n",
        "paired_t_test <- t.test(before, after, paired = TRUE)\n",
        "print(paired_t_test)"
      ],
      "metadata": {
        "colab": {
          "base_uri": "https://localhost:8080/"
        },
        "id": "HfSG2Zi7hLrk",
        "outputId": "303ecbcf-78e1-4e0f-f8d8-64c7b97a2d0e"
      },
      "execution_count": 29,
      "outputs": [
        {
          "output_type": "stream",
          "name": "stdout",
          "text": [
            "\n",
            "\tPaired t-test\n",
            "\n",
            "data:  before and after\n",
            "t = -4.4058, df = 29, p-value = 0.0001317\n",
            "alternative hypothesis: true mean difference is not equal to 0\n",
            "95 percent confidence interval:\n",
            " -1.6899294 -0.6183823\n",
            "sample estimates:\n",
            "mean difference \n",
            "      -1.154156 \n",
            "\n"
          ]
        }
      ]
    },
    {
      "cell_type": "markdown",
      "source": [
        "**6) Levene's Test for Homogeneity of Variance**"
      ],
      "metadata": {
        "id": "vMWJKmxFhUnT"
      }
    },
    {
      "cell_type": "markdown",
      "source": [
        "Levene’s test checks if the variances of multiple groups are equal (homogeneity of variance). It is commonly used as a prerequisite for ANOVA."
      ],
      "metadata": {
        "id": "3y8SRnWNhWxT"
      }
    },
    {
      "cell_type": "code",
      "source": [
        "# Simulated data for three groups\n",
        "group1 <- c(1.1, 2.3, 3.4, 5.6, 6.1)\n",
        "group2 <- c(2.3, 2.8, 3.7, 3.0, 4.5)\n",
        "group3 <- c(3.8, 4.3, 5.7, 6.1, 7.2)\n",
        "\n",
        "# Combine into one dataframe\n",
        "data <- data.frame(\n",
        "  value = c(group1, group2, group3),\n",
        "  group = factor(rep(c(\"Group1\", \"Group2\", \"Group3\"), each = 5))\n",
        ")\n",
        "\n",
        "# Perform Levene's Test for Homogeneity of Variance\n",
        "install.packages(\"car\")\n",
        "library(car)\n",
        "levene_result <- leveneTest(value ~ group, data = data)\n",
        "print(levene_result)"
      ],
      "metadata": {
        "colab": {
          "base_uri": "https://localhost:8080/"
        },
        "id": "GHeO9ZIshYtj",
        "outputId": "546b9411-cb84-4e09-fc15-9cbc76a81d20"
      },
      "execution_count": 31,
      "outputs": [
        {
          "output_type": "stream",
          "name": "stderr",
          "text": [
            "Installing package into ‘/usr/local/lib/R/site-library’\n",
            "(as ‘lib’ is unspecified)\n",
            "\n",
            "also installing the dependencies ‘rbibutils’, ‘cowplot’, ‘Deriv’, ‘microbenchmark’, ‘Rdpack’, ‘numDeriv’, ‘doBy’, ‘SparseM’, ‘MatrixModels’, ‘minqa’, ‘nloptr’, ‘reformulas’, ‘RcppEigen’, ‘carData’, ‘abind’, ‘Formula’, ‘pbkrtest’, ‘quantreg’, ‘lme4’\n",
            "\n",
            "\n",
            "Loading required package: carData\n",
            "\n",
            "\n",
            "Attaching package: ‘car’\n",
            "\n",
            "\n",
            "The following objects are masked from ‘package:mosaic’:\n",
            "\n",
            "    deltaMethod, logit\n",
            "\n",
            "\n",
            "The following object is masked from ‘package:dplyr’:\n",
            "\n",
            "    recode\n",
            "\n",
            "\n"
          ]
        },
        {
          "output_type": "stream",
          "name": "stdout",
          "text": [
            "Levene's Test for Homogeneity of Variance (center = median)\n",
            "      Df F value Pr(>F)\n",
            "group  2  1.8723  0.196\n",
            "      12               \n"
          ]
        }
      ]
    },
    {
      "cell_type": "markdown",
      "source": [
        "**7) Cox Proportional Hazards Test**"
      ],
      "metadata": {
        "id": "6o03etyThlzr"
      }
    },
    {
      "cell_type": "markdown",
      "source": [
        "The Cox Proportional Hazards test is used in survival analysis. It evaluates the relationship between the survival time of individuals and one or more predictor variables (e.g., gene expression, clinical data)."
      ],
      "metadata": {
        "id": "e_f-wcRvhoCW"
      }
    },
    {
      "cell_type": "code",
      "source": [
        "# Simulated data for survival analysis\n",
        "library(survival)\n",
        "surv_data <- data.frame(\n",
        "  time = c(5, 8, 7, 12, 9),\n",
        "  status = c(1, 1, 0, 1, 0),\n",
        "  gene_expression = c(2.5, 3.6, 4.1, 2.9, 5.7)\n",
        ")\n",
        "\n",
        "# Fit a Cox Proportional Hazards Model\n",
        "cox_model <- coxph(Surv(time, status) ~ gene_expression, data = surv_data)\n",
        "summary(cox_model)"
      ],
      "metadata": {
        "colab": {
          "base_uri": "https://localhost:8080/",
          "height": 285
        },
        "id": "Muhr9-CEhp8S",
        "outputId": "344a2466-afc6-41f4-8514-bb0f7eb0e7cb"
      },
      "execution_count": 32,
      "outputs": [
        {
          "output_type": "display_data",
          "data": {
            "text/plain": [
              "Call:\n",
              "coxph(formula = Surv(time, status) ~ gene_expression, data = surv_data)\n",
              "\n",
              "  n= 5, number of events= 3 \n",
              "\n",
              "                   coef exp(coef) se(coef)      z Pr(>|z|)\n",
              "gene_expression -1.1724    0.3096   1.2876 -0.911    0.363\n",
              "\n",
              "                exp(coef) exp(-coef) lower .95 upper .95\n",
              "gene_expression    0.3096       3.23   0.02482     3.862\n",
              "\n",
              "Concordance= 0.833  (se = 0.188 )\n",
              "Likelihood ratio test= 1.53  on 1 df,   p=0.2\n",
              "Wald test            = 0.83  on 1 df,   p=0.4\n",
              "Score (logrank) test = 1.12  on 1 df,   p=0.3\n"
            ]
          },
          "metadata": {}
        }
      ]
    },
    {
      "cell_type": "markdown",
      "source": [
        "**8) Correlation Test (Spearman's Rank)**"
      ],
      "metadata": {
        "id": "4xg4qvHDhsHh"
      }
    },
    {
      "cell_type": "markdown",
      "source": [
        "Spearman’s rank correlation test is a non-parametric test used to measure the strength and direction of the association between two ranked variables. It's useful when the data doesn’t follow a linear relationship or is not normally distributed."
      ],
      "metadata": {
        "id": "QU0VbCe5hwK8"
      }
    },
    {
      "cell_type": "code",
      "source": [
        "# Simulated data for two variables\n",
        "var1 <- c(2, 4, 6, 8, 10)\n",
        "var2 <- c(1, 3, 5, 7, 9)\n",
        "\n",
        "# Perform Spearman’s rank correlation test\n",
        "spearman_result <- cor.test(var1, var2, method = \"spearman\")\n",
        "print(spearman_result)"
      ],
      "metadata": {
        "colab": {
          "base_uri": "https://localhost:8080/"
        },
        "id": "Iq2mOj0lhzIZ",
        "outputId": "78a0a35d-c058-4f11-89e7-8370ed003429"
      },
      "execution_count": 33,
      "outputs": [
        {
          "output_type": "stream",
          "name": "stdout",
          "text": [
            "\n",
            "\tSpearman's rank correlation rho\n",
            "\n",
            "data:  x and y\n",
            "S = 4.4409e-15, p-value = 0.01667\n",
            "alternative hypothesis: true rho is not equal to 0\n",
            "sample estimates:\n",
            "rho \n",
            "  1 \n",
            "\n"
          ]
        }
      ]
    },
    {
      "cell_type": "markdown",
      "source": [
        "**9) Wald Test**"
      ],
      "metadata": {
        "id": "kmBszmiJh4mX"
      }
    },
    {
      "cell_type": "markdown",
      "source": [
        "The Wald test is used to assess the significance of coefficients in statistical models, especially in logistic regression and generalized linear models (GLMs)."
      ],
      "metadata": {
        "id": "xnBFtXaFh-Du"
      }
    },
    {
      "cell_type": "code",
      "source": [
        "# Simulated data for logistic regression\n",
        "data <- data.frame(\n",
        "  outcome = c(0, 1, 0, 1, 0, 1, 0, 1),\n",
        "  predictor = c(2.3, 4.5, 2.8, 6.1, 3.3, 5.4, 2.9, 4.8)\n",
        ")\n",
        "\n",
        "# Fit a logistic regression model\n",
        "logit_model <- glm(outcome ~ predictor, family = binomial, data = data)\n",
        "\n",
        "# Perform Wald test\n",
        "install.packages(\"sandwich\")\n",
        "install.packages(\"lmtest\")\n",
        "library(sandwich)\n",
        "library(lmtest)\n",
        "wald_test_result <- coeftest(logit_model, vcov = vcovHC(logit_model, type = \"HC1\"))\n",
        "print(wald_test_result)"
      ],
      "metadata": {
        "colab": {
          "base_uri": "https://localhost:8080/"
        },
        "id": "sfCaVJF4iEEM",
        "outputId": "0503ff33-00a1-4a67-c4b1-401087248ac9"
      },
      "execution_count": 36,
      "outputs": [
        {
          "output_type": "stream",
          "name": "stderr",
          "text": [
            "Warning message:\n",
            "“glm.fit: fitted probabilities numerically 0 or 1 occurred”\n",
            "Installing package into ‘/usr/local/lib/R/site-library’\n",
            "(as ‘lib’ is unspecified)\n",
            "\n",
            "Installing package into ‘/usr/local/lib/R/site-library’\n",
            "(as ‘lib’ is unspecified)\n",
            "\n",
            "Loading required package: zoo\n",
            "\n",
            "\n",
            "Attaching package: ‘zoo’\n",
            "\n",
            "\n",
            "The following objects are masked from ‘package:base’:\n",
            "\n",
            "    as.Date, as.Date.numeric\n",
            "\n",
            "\n"
          ]
        },
        {
          "output_type": "stream",
          "name": "stdout",
          "text": [
            "\n",
            "z test of coefficients:\n",
            "\n",
            "             Estimate Std. Error z value  Pr(>|z|)    \n",
            "(Intercept) -149.3263     5.3696 -27.810 < 2.2e-16 ***\n",
            "predictor     38.2803     1.3608  28.131 < 2.2e-16 ***\n",
            "---\n",
            "Signif. codes:  0 ‘***’ 0.001 ‘**’ 0.01 ‘*’ 0.05 ‘.’ 0.1 ‘ ’ 1\n",
            "\n"
          ]
        }
      ]
    },
    {
      "cell_type": "markdown",
      "source": [
        "**10) Mantel Test**"
      ],
      "metadata": {
        "id": "yFTSVuxpiFjh"
      }
    },
    {
      "cell_type": "markdown",
      "source": [
        "The Mantel test is a permutation test used to test the correlation between two distance matrices. It is often used in ecology and genomics for analyzing relationships between genetic and geographical distance matrices."
      ],
      "metadata": {
        "id": "-Thryp8CiI1E"
      }
    },
    {
      "cell_type": "code",
      "source": [
        "# Simulated distance matrices\n",
        "matrix1 <- matrix(runif(9), nrow = 3)\n",
        "matrix2 <- matrix(runif(9), nrow = 3)\n",
        "\n",
        "# Perform Mantel Test\n",
        "install.packages(\"vegan\")\n",
        "library(vegan)\n",
        "mantel_result <- mantel(matrix1, matrix2)\n",
        "print(mantel_result)"
      ],
      "metadata": {
        "colab": {
          "base_uri": "https://localhost:8080/"
        },
        "id": "Dg1duy7KiKsu",
        "outputId": "66f63e1c-7c40-42ec-d9f5-8410c416aacc"
      },
      "execution_count": 38,
      "outputs": [
        {
          "output_type": "stream",
          "name": "stderr",
          "text": [
            "Installing package into ‘/usr/local/lib/R/site-library’\n",
            "(as ‘lib’ is unspecified)\n",
            "\n",
            "also installing the dependency ‘permute’\n",
            "\n",
            "\n",
            "Loading required package: permute\n",
            "\n",
            "\n",
            "Attaching package: ‘permute’\n",
            "\n",
            "\n",
            "The following object is masked from ‘package:mosaic’:\n",
            "\n",
            "    shuffle\n",
            "\n",
            "\n",
            "'nperm' >= set of all permutations: complete enumeration.\n",
            "\n",
            "Set of permutations < 'minperm'. Generating entire set.\n",
            "\n"
          ]
        },
        {
          "output_type": "stream",
          "name": "stdout",
          "text": [
            "\n",
            "Mantel statistic based on Pearson's product-moment correlation \n",
            "\n",
            "Call:\n",
            "mantel(xdis = matrix1, ydis = matrix2) \n",
            "\n",
            "Mantel statistic r: -0.7349 \n",
            "      Significance: 1 \n",
            "\n",
            "Upper quantiles of permutations (null model):\n",
            "  90%   95% 97.5%   99% \n",
            "0.965 0.968 0.970 0.971 \n",
            "Permutation: free\n",
            "Number of permutations: 5\n",
            "\n"
          ]
        }
      ]
    },
    {
      "cell_type": "markdown",
      "source": [
        "**11) Friedman Test**"
      ],
      "metadata": {
        "id": "vIC2YehRiNof"
      }
    },
    {
      "cell_type": "markdown",
      "source": [
        "The Friedman test is a non-parametric test used to detect differences in treatments across multiple test attempts. It is used when there are repeated measures or matched groups, and you want to compare more than two groups."
      ],
      "metadata": {
        "id": "vXsJXWZQiRUI"
      }
    },
    {
      "cell_type": "code",
      "source": [
        "# Simulated data for three treatments over three time points\n",
        "treatment1 <- c(5, 8, 6, 7)\n",
        "treatment2 <- c(6, 9, 8, 7)\n",
        "treatment3 <- c(7, 10, 9, 8)\n",
        "\n",
        "# Combine into one dataframe\n",
        "data <- data.frame(\n",
        "  value = c(treatment1, treatment2, treatment3),\n",
        "  treatment = factor(rep(c(\"Treatment1\", \"Treatment2\", \"Treatment3\"), each = 4)),\n",
        "  subject = rep(1:4, times = 3)\n",
        ")\n",
        "\n",
        "# Perform Friedman Test\n",
        "friedman_result <- friedman.test(value ~ treatment | subject, data = data)\n",
        "print(friedman_result)"
      ],
      "metadata": {
        "colab": {
          "base_uri": "https://localhost:8080/"
        },
        "id": "ZqIolyLViTrp",
        "outputId": "4f4e85bd-b3e3-443b-8afd-8d20599565eb"
      },
      "execution_count": 39,
      "outputs": [
        {
          "output_type": "stream",
          "name": "stdout",
          "text": [
            "\n",
            "\tFriedman rank sum test\n",
            "\n",
            "data:  value and treatment and subject\n",
            "Friedman chi-squared = 7.6, df = 2, p-value = 0.02237\n",
            "\n"
          ]
        }
      ]
    },
    {
      "cell_type": "markdown",
      "source": [
        " **12) Multivariate Analysis of Variance (MANOVA)**"
      ],
      "metadata": {
        "id": "yYjW4SH_iV9B"
      }
    },
    {
      "cell_type": "markdown",
      "source": [
        "MANOVA is an extension of ANOVA to accommodate multiple dependent variables. It is used when you have more than one response variable and want to examine if the means of these variables differ across groups."
      ],
      "metadata": {
        "id": "9IoEciYQiaEh"
      }
    },
    {
      "cell_type": "code",
      "source": [
        "# Simulated data for two response variables and three groups\n",
        "group1 <- cbind(rnorm(10, 5, 2), rnorm(10, 6, 2))\n",
        "group2 <- cbind(rnorm(10, 6, 2), rnorm(10, 7, 2))\n",
        "group3 <- cbind(rnorm(10, 7, 2), rnorm(10, 8, 2))\n",
        "\n",
        "# Combine into one dataframe\n",
        "data <- data.frame(\n",
        "  value1 = c(group1[,1], group2[,1], group3[,1]),\n",
        "  value2 = c(group1[,2], group2[,2], group3[,2]),\n",
        "  group = factor(rep(c(\"Group1\", \"Group2\", \"Group3\"), each = 10))\n",
        ")\n",
        "\n",
        "# Perform MANOVA\n",
        "manova_result <- manova(cbind(value1, value2) ~ group, data = data)\n",
        "summary(manova_result)"
      ],
      "metadata": {
        "colab": {
          "base_uri": "https://localhost:8080/",
          "height": 71
        },
        "id": "KSco5xbUibz9",
        "outputId": "ffea7a6c-d17d-4207-a561-fd4418c81179"
      },
      "execution_count": 40,
      "outputs": [
        {
          "output_type": "display_data",
          "data": {
            "text/plain": [
              "          Df  Pillai approx F num Df den Df Pr(>F)\n",
              "group      2 0.23379    1.787      4     54 0.1449\n",
              "Residuals 27                                      "
            ]
          },
          "metadata": {}
        }
      ]
    },
    {
      "cell_type": "markdown",
      "source": [
        "These additional tests should give you a comprehensive list of statistical methods commonly used in genomics."
      ],
      "metadata": {
        "id": "Q91nssLCiflc"
      }
    }
  ]
}