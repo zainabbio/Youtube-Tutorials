{
  "nbformat": 4,
  "nbformat_minor": 0,
  "metadata": {
    "colab": {
      "provenance": [],
      "gpuType": "T4",
      "authorship_tag": "ABX9TyNl4WCOVW15dHceeP1XfMWl",
      "include_colab_link": true
    },
    "kernelspec": {
      "name": "ir",
      "display_name": "R"
    },
    "language_info": {
      "name": "R"
    },
    "accelerator": "GPU"
  },
  "cells": [
    {
      "cell_type": "markdown",
      "metadata": {
        "id": "view-in-github",
        "colab_type": "text"
      },
      "source": [
        "<a href=\"https://colab.research.google.com/github/zainabbio/Youtube-Tutorials/blob/main/R_for_Genomic_Data_Analysis_Part2.ipynb\" target=\"_parent\"><img src=\"https://colab.research.google.com/assets/colab-badge.svg\" alt=\"Open In Colab\"/></a>"
      ]
    },
    {
      "cell_type": "markdown",
      "source": [
        "# **Functions and control structures**"
      ],
      "metadata": {
        "id": "IKgQvxutNe7K"
      }
    },
    {
      "cell_type": "markdown",
      "source": [
        "**User-defined functions**"
      ],
      "metadata": {
        "id": "lmcQ1xfkNkkM"
      }
    },
    {
      "cell_type": "markdown",
      "source": [
        "Functions are a great way to turn repetitive tasks into reusable pieces of code.\n",
        "\n",
        "If you find yourself performing the same operations with different inputs multiple times, it's a good idea to write a function.\n",
        "\n",
        "In R, a function takes one or more inputs, performs operations on them, and returns an output.\n",
        "\n",
        "For example, here's a simple function that calculates the sum of the squares of two numbers, x and y."
      ],
      "metadata": {
        "id": "jW9yS207Nr-4"
      }
    },
    {
      "cell_type": "code",
      "source": [
        "sqSum<-function(x,y){\n",
        "result=x^2+y^2\n",
        "return(result)\n",
        "}\n",
        "# now try the function out\n",
        "sqSum(2,3)"
      ],
      "metadata": {
        "colab": {
          "base_uri": "https://localhost:8080/",
          "height": 34
        },
        "id": "XxDoafWTN4BX",
        "outputId": "9e16154b-0e2b-49e9-a895-b974b3be60ad"
      },
      "execution_count": 15,
      "outputs": [
        {
          "output_type": "display_data",
          "data": {
            "text/html": [
              "13"
            ],
            "text/markdown": "13",
            "text/latex": "13",
            "text/plain": [
              "[1] 13"
            ]
          },
          "metadata": {}
        }
      ]
    },
    {
      "cell_type": "markdown",
      "source": [
        "Functions can also output plots and/or messages to the terminal. Here is a function that prints a message to the terminal:"
      ],
      "metadata": {
        "id": "N8CClgmUN6qI"
      }
    },
    {
      "cell_type": "code",
      "source": [
        "sqSumPrint<-function(x,y){\n",
        "result=x^2+y^2\n",
        "cat(\"here is the result:\",result,\"\\n\")\n",
        "}\n",
        "# now try the function out\n",
        "sqSumPrint(2,3)"
      ],
      "metadata": {
        "colab": {
          "base_uri": "https://localhost:8080/"
        },
        "id": "uxNQK7peOB3j",
        "outputId": "701d54e8-38b6-4542-e995-2752bf3d77e9"
      },
      "execution_count": 16,
      "outputs": [
        {
          "output_type": "stream",
          "name": "stdout",
          "text": [
            "here is the result: 13 \n"
          ]
        }
      ]
    },
    {
      "cell_type": "markdown",
      "source": [
        "In R, if statements are used to execute code only when certain conditions are met. You can use them in functions to perform different actions depending on the input values. Here's an example where we use an if statement inside a function to classify the length of a CpG island as \"large\", \"normal\", or \"short\" based on its length."
      ],
      "metadata": {
        "id": "1TWPfWGCOEWN"
      }
    },
    {
      "cell_type": "code",
      "source": [
        "# Define a function to classify the CpG island length\n",
        "classify_cpg_island <- function(length) {\n",
        "  # Check if the length is greater than 1000\n",
        "  if (length > 1000) {\n",
        "    return(\"Large\")  # If greater than 1000, classify as \"Large\"\n",
        "  }\n",
        "  # Check if the length is between 500 and 1000\n",
        "  else if (length >= 500) {\n",
        "    return(\"Normal\")  # If between 500 and 1000, classify as \"Normal\"\n",
        "  }\n",
        "  # If the length is less than 500\n",
        "  else {\n",
        "    return(\"Short\")  # If less than 500, classify as \"Short\"\n",
        "  }\n",
        "}\n",
        "\n",
        "# Example usage of the function\n",
        "result1 <- classify_cpg_island(1200)  # This should return \"Large\"\n",
        "result2 <- classify_cpg_island(800)   # This should return \"Normal\"\n",
        "result3 <- classify_cpg_island(300)   # This should return \"Short\"\n",
        "\n",
        "# Print the results\n",
        "print(result1)\n",
        "print(result2)\n",
        "print(result3)"
      ],
      "metadata": {
        "colab": {
          "base_uri": "https://localhost:8080/"
        },
        "id": "fUtjE6ChOY5O",
        "outputId": "73d9734b-1d85-4bd5-daf6-d9e82a360893"
      },
      "execution_count": 17,
      "outputs": [
        {
          "output_type": "stream",
          "name": "stdout",
          "text": [
            "[1] \"Large\"\n",
            "[1] \"Normal\"\n",
            "[1] \"Short\"\n"
          ]
        }
      ]
    },
    {
      "cell_type": "markdown",
      "source": [
        "The function classify_cpg_island() takes a single argument length (the length of a CpG island).\n",
        "\n",
        "The if statement checks:\n",
        "\n",
        "If the length is greater than 1000, it returns \"Large\".\n",
        "\n",
        "If the length is between 500 and 1000 (inclusive), it returns \"Normal\".\n",
        "\n",
        "If the length is less than 500, it returns \"Short\"."
      ],
      "metadata": {
        "id": "eKMIVolWOac_"
      }
    },
    {
      "cell_type": "markdown",
      "source": [
        "# **Loops and looping structures in R**"
      ],
      "metadata": {
        "id": "Gwc2k9aWOhhZ"
      }
    },
    {
      "cell_type": "markdown",
      "source": [
        "In R, a for-loop is used to repeat a certain task multiple times. The loop runs for a specific number of iterations or until a condition is met. Below is an example of how a for-loop works in R to execute a task 10 times."
      ],
      "metadata": {
        "id": "Xbk8qtlHOrjD"
      }
    },
    {
      "cell_type": "code",
      "source": [
        "for(i in 1:10){ # number of repetitions\n",
        "cat(\"This is iteration\") # the task to be repeated\n",
        "print(i)\n",
        "}"
      ],
      "metadata": {
        "colab": {
          "base_uri": "https://localhost:8080/"
        },
        "id": "DIV6kX3VOsjn",
        "outputId": "9f506742-b63a-4c11-d0b2-7a4dc1dd8f9a"
      },
      "execution_count": 18,
      "outputs": [
        {
          "output_type": "stream",
          "name": "stdout",
          "text": [
            "This is iteration[1] 1\n",
            "This is iteration[1] 2\n",
            "This is iteration[1] 3\n",
            "This is iteration[1] 4\n",
            "This is iteration[1] 5\n",
            "This is iteration[1] 6\n",
            "This is iteration[1] 7\n",
            "This is iteration[1] 8\n",
            "This is iteration[1] 9\n",
            "This is iteration[1] 10\n"
          ]
        }
      ]
    },
    {
      "cell_type": "markdown",
      "source": [
        "Let us calculate the length of the CpG islands.\n",
        "\n",
        "The loop calculates the length of the first 100 CpG islands by subtracting the end coordinate from the start coordinate. It iterates over the first 100 rows of the data frame and stores the calculated lengths. For large datasets, start with a few repetitions to test the loop's functionality."
      ],
      "metadata": {
        "id": "GpGmeYnJO3S0"
      }
    },
    {
      "cell_type": "code",
      "source": [
        "# Example data frame with start and end coordinates for CpG islands (assuming you have such a dataset)\n",
        "# Here we'll simulate a small dataset for the demonstration\n",
        "cpg_islands <- data.frame(\n",
        "  start = sample(1000:10000, 200, replace = TRUE),  # Random start coordinates\n",
        "  end = sample(10001:20000, 200, replace = TRUE)   # Random end coordinates\n",
        ")\n",
        "\n",
        "# Function to calculate the length of CpG islands\n",
        "calculate_lengths <- function(cpg_data, num_islands = 100) {\n",
        "  lengths <- numeric(num_islands)  # Initialize a vector to store the lengths\n",
        "\n",
        "  for (i in 1:num_islands) {\n",
        "    # Calculate length by subtracting start from end\n",
        "    lengths[i] <- cpg_data$end[i] - cpg_data$start[i]\n",
        "  }\n",
        "\n",
        "  return(lengths)\n",
        "}\n",
        "\n",
        "# Calculate the lengths of the first 100 CpG islands\n",
        "cpg_lengths <- calculate_lengths(cpg_islands)\n",
        "\n",
        "# Print the lengths of the first 100 CpG islands\n",
        "print(cpg_lengths)"
      ],
      "metadata": {
        "colab": {
          "base_uri": "https://localhost:8080/"
        },
        "id": "CLjidU5gPT7L",
        "outputId": "922ed658-35f4-40d8-c89c-86837f7bc8ad"
      },
      "execution_count": 19,
      "outputs": [
        {
          "output_type": "stream",
          "name": "stdout",
          "text": [
            "  [1]  9849  9106 10626  8250  4848 14594  8183 11490 12375  3653  5795 10237\n",
            " [13]  9467  9267  6874  5759  7326  5479  2888  9995  8845  4930  8287 14905\n",
            " [25]  4854 10639 13328  1112  9312 15961 10145  2159  8240  5883 10341 10547\n",
            " [37]  7060 10736 10678 14899 13108 14527 16173  8234 11664  8879  9660 14594\n",
            " [49]  4161  6602 11257 11851 15280  5936 15468 10401 16863  1361 10347 11977\n",
            " [61]  6232 13608  9583 11638 10011  2819  5020 15969  8983 15570  2600 16855\n",
            " [73]  5253 11895  6731  6286  4587 10903 14599  7751 10524 13207  9228  9992\n",
            " [85]  4113  7650 10931  7941 10371 11163  5679  9089 10329  7764  7932 13179\n",
            " [97] 11034  8758 17000  3583\n"
          ]
        }
      ]
    },
    {
      "cell_type": "markdown",
      "source": [
        "# **Apply family functions instead of loops**"
      ],
      "metadata": {
        "id": "y0zvj6i7PVav"
      }
    },
    {
      "cell_type": "markdown",
      "source": [
        "When dealing with large datasets, you can use parallel functions from the parallel package, such as mclapply. These functions divide the workload into smaller tasks, which are processed concurrently on separate CPUs. The results from each processor are then combined into a single output, maintaining the order of the input data."
      ],
      "metadata": {
        "id": "jmeC5oIVPfpN"
      }
    },
    {
      "cell_type": "markdown",
      "source": [
        "**Vectorized functions in R**\n"
      ],
      "metadata": {
        "id": "KeexYo3DPoOF"
      }
    },
    {
      "cell_type": "markdown",
      "source": [
        "In R, many operations don't require loops because vectorized functions can directly handle vectors. For example, instead of using mapply() with sum(), you can simply use the + operator to sum vectors Xs and Ys without needing loops. This makes code simpler and more efficient."
      ],
      "metadata": {
        "id": "UEMCMpxtPw7_"
      }
    },
    {
      "cell_type": "code",
      "source": [
        "# Define Xs and Ys vectors\n",
        "Xs <- c(1, 2, 3, 4, 5)\n",
        "Ys <- c(6, 7, 8, 9, 10)\n",
        "\n",
        "# Perform the addition\n",
        "result <- Xs + Ys\n",
        "\n",
        "# Print the result\n",
        "print(result)"
      ],
      "metadata": {
        "colab": {
          "base_uri": "https://localhost:8080/"
        },
        "id": "R8WjSYGtP4-b",
        "outputId": "463850ba-36b4-4905-d291-1de1e9d7b621"
      },
      "execution_count": 20,
      "outputs": [
        {
          "output_type": "stream",
          "name": "stdout",
          "text": [
            "[1]  7  9 11 13 15\n"
          ]
        }
      ]
    },
    {
      "cell_type": "markdown",
      "source": [
        "In order to get the column or row sums, we can use the vectorized functions colSums() and rowSums().\n",
        "To calculate the column sums of a matrix, you can use the colSums() function. Here's an example:"
      ],
      "metadata": {
        "id": "_eWsfzxLQBhK"
      }
    },
    {
      "cell_type": "code",
      "source": [
        "# Example matrix\n",
        "mat <- matrix(1:9, nrow = 3, byrow = TRUE)\n",
        "\n",
        "# Calculate the column sums\n",
        "column_sums <- colSums(mat)\n",
        "\n",
        "# Print the result\n",
        "print(column_sums)"
      ],
      "metadata": {
        "colab": {
          "base_uri": "https://localhost:8080/"
        },
        "id": "XbVxYrTXQD6K",
        "outputId": "195d2a37-a3d4-4636-8b4c-c27ed77bb7b9"
      },
      "execution_count": 23,
      "outputs": [
        {
          "output_type": "stream",
          "name": "stdout",
          "text": [
            "[1] 12 15 18\n"
          ]
        }
      ]
    },
    {
      "cell_type": "markdown",
      "source": [
        "Similarly, to get the row sums, you can use the rowSums() function:"
      ],
      "metadata": {
        "id": "a8yB1mTIQVxh"
      }
    },
    {
      "cell_type": "code",
      "source": [
        "# Calculate the row sums\n",
        "row_sums <- rowSums(mat)\n",
        "\n",
        "# Print the result\n",
        "print(row_sums)"
      ],
      "metadata": {
        "colab": {
          "base_uri": "https://localhost:8080/"
        },
        "id": "HhK55yYiQWlQ",
        "outputId": "26d12f66-21b4-4d4b-9ccc-d820fd671506"
      },
      "execution_count": 24,
      "outputs": [
        {
          "output_type": "stream",
          "name": "stdout",
          "text": [
            "[1]  6 15 24\n"
          ]
        }
      ]
    }
  ]
}