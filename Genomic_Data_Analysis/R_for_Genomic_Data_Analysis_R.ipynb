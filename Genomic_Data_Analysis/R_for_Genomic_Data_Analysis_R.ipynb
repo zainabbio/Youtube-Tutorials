{
  "nbformat": 4,
  "nbformat_minor": 0,
  "metadata": {
    "colab": {
      "provenance": [],
      "gpuType": "T4",
      "authorship_tag": "ABX9TyNW2PwFpgwsvHpUZiNfrbsY",
      "include_colab_link": true
    },
    "kernelspec": {
      "name": "ir",
      "display_name": "R"
    },
    "language_info": {
      "name": "R"
    },
    "accelerator": "GPU"
  },
  "cells": [
    {
      "cell_type": "markdown",
      "metadata": {
        "id": "view-in-github",
        "colab_type": "text"
      },
      "source": [
        "<a href=\"https://colab.research.google.com/github/zainabbio/Youtube-Tutorials/blob/main/R_for_Genomic_Data_Analysis_R.ipynb\" target=\"_parent\"><img src=\"https://colab.research.google.com/assets/colab-badge.svg\" alt=\"Open In Colab\"/></a>"
      ]
    },
    {
      "cell_type": "markdown",
      "source": [
        "# **Reference and Acknowledgment:**\n",
        "\n",
        "This Google Colab notebook is prepared based on the book Computational Genomics with R by Altuna Akalin. Please refer to the book for more in-depth explanations and examples.\n",
        "\n",
        "Here is the link for the book: https://compgenomr.github.io/book/"
      ],
      "metadata": {
        "id": "fGbFkDqdiO9s"
      }
    },
    {
      "cell_type": "markdown",
      "source": [
        "# **Steps of Genomic Data Analysis**\n",
        "\n",
        "Data analysis follows a general process, which also applies to genomics. This process includes the following steps:\n",
        "\n",
        "**1) Data Collection:**\n",
        "\n",
        "Gathering the data you need for your research. In genomics, this can come from experiments, high-throughput assays (like DNA sequencing), or public databases.\n",
        "\n",
        "**2) Data Quality Check and Cleaning:**\n",
        "\n",
        "Checking the data for issues like missing or incorrect information. For genomics data, this step includes removing low-quality data, such as sequencing errors that may occur at the ends of DNA sequences.\n",
        "\n",
        "**3) Data Processing:**\n",
        "\n",
        "Transforming the raw data into a usable format. In genomics, this includes steps like aligning the sequenced DNA reads to a reference genome and counting how many times a gene or region is represented in the data (this helps measure gene expression).\n",
        "\n",
        "**4) Exploratory Data Analysis and Modeling:**\n",
        "\n",
        "This step involves using statistical or machine learning methods to look for patterns and relationships in the data. In genomics, this might mean comparing gene expressions between different conditions (like healthy vs. diseased samples) or creating models to predict outcomes (e.g., predicting disease based on gene expression).\n",
        "\n",
        "**5) Visualization and Reporting:**\n",
        "\n",
        "Creating graphs, charts, and tables to summarize your findings. This helps in understanding and communicating the results clearly.\n",
        "\n",
        "**6) Why Use R for Genomics?**\n",
        "\n",
        "R is a popular programming language for data analysis because it has powerful tools for both statistical analysis and creating graphs. It is particularly useful for genomics data because it offers many specialized packages for handling genomic data, like Bioconductor.\n"
      ],
      "metadata": {
        "id": "sYDypOYWcZF-"
      }
    },
    {
      "cell_type": "markdown",
      "source": [
        "# **Key Tasks in Genomics Using R**\n",
        "\n",
        "**1) Data Cleanup and Processing:**\n",
        "\n",
        "You can clean and organize genomic data using R.\n",
        "R can connect to databases (like MySQL) and import data for analysis.\n",
        "General Data Analysis and Exploration:\n",
        "\n",
        "**2) Unsupervised Analysis:**\n",
        "\n",
        "Grouping similar data together (e.g., clustering genes based on their expression patterns).\n",
        "\n",
        "**3) Supervised Analysis:**\n",
        "\n",
        "Predicting outcomes (e.g., predicting disease risk based on gene expression using models like random forests).\n",
        "Genomics-Specific Data Analysis:\n",
        "\n",
        "**4) Sequence Analysis:**\n",
        "\n",
        "Analyzing DNA sequences to find specific patterns like binding sites or GC content.\n",
        "\n",
        "**5) Differential Expression: **\n",
        "\n",
        "Identifying which genes are turned on or off in different conditions (e.g., comparing gene expression in cancer vs. normal cells).\n",
        "\n",
        "**6) Gene Set/Pathway Analysis:**\n",
        "\n",
        "Determining which biological pathways are active in a given gene set.\n",
        "Genomic Interval Operations: Analyzing overlapping genomic regions, like finding genes near certain DNA motifs.\n",
        "\n",
        "**7) Visualization:**\n",
        "\n",
        "Basic Plots: Creating histograms, scatter plots, and bar plots to show data patterns.\n",
        "\n",
        "Genomics-Specific Visualizations: Creating more complex visualizations like ideograms (showing genome features) or circos plots (visualizing gene relationships across the genome).\n",
        "\n",
        "Meta-Profiles: Visualizing data like DNA read enrichment over certain regions of the genome.\n",
        "\n",
        "R is a versatile tool that helps researchers clean, process, analyze, and visualize genomic data to answer important biological questions."
      ],
      "metadata": {
        "id": "tLaQYPEPdJp1"
      }
    },
    {
      "cell_type": "markdown",
      "source": [
        "# **Getting started with R**"
      ],
      "metadata": {
        "id": "XO6HcY7Ud024"
      }
    },
    {
      "cell_type": "markdown",
      "source": [
        "# **1) Computations in R**"
      ],
      "metadata": {
        "id": "DCcnpU0GeNlU"
      }
    },
    {
      "cell_type": "markdown",
      "source": [
        "R can be used as an ordinary calculator, and some say it is an over-grown calculator. Here are some examples. Remember that # is the comment character. The comments give details about the operations in case they are not clear."
      ],
      "metadata": {
        "id": "kx9DDqrMe1yd"
      }
    },
    {
      "cell_type": "code",
      "source": [
        "3 + 9 * 2      # Note the order of operations.\n",
        "log(5)        # Natural logarithm with base e\n",
        "5^3            # 5 raised to the second power\n",
        "9/2            # Division\n",
        "sqrt(4)      # Square root\n",
        "abs(2-9)      # Absolute value of 3-7\n",
        "pi             # The number\n",
        "exp(1)        # exponential function\n",
        "# This is a comment line"
      ],
      "metadata": {
        "colab": {
          "base_uri": "https://localhost:8080/",
          "height": 156
        },
        "id": "_jFs9QCRe3Zu",
        "outputId": "10ed7d09-cc45-4ab9-90bf-e758948abce3"
      },
      "execution_count": null,
      "outputs": [
        {
          "output_type": "display_data",
          "data": {
            "text/html": [
              "21"
            ],
            "text/markdown": "21",
            "text/latex": "21",
            "text/plain": [
              "[1] 21"
            ]
          },
          "metadata": {}
        },
        {
          "output_type": "display_data",
          "data": {
            "text/html": [
              "1.6094379124341"
            ],
            "text/markdown": "1.6094379124341",
            "text/latex": "1.6094379124341",
            "text/plain": [
              "[1] 1.609438"
            ]
          },
          "metadata": {}
        },
        {
          "output_type": "display_data",
          "data": {
            "text/html": [
              "125"
            ],
            "text/markdown": "125",
            "text/latex": "125",
            "text/plain": [
              "[1] 125"
            ]
          },
          "metadata": {}
        },
        {
          "output_type": "display_data",
          "data": {
            "text/html": [
              "4.5"
            ],
            "text/markdown": "4.5",
            "text/latex": "4.5",
            "text/plain": [
              "[1] 4.5"
            ]
          },
          "metadata": {}
        },
        {
          "output_type": "display_data",
          "data": {
            "text/html": [
              "2"
            ],
            "text/markdown": "2",
            "text/latex": "2",
            "text/plain": [
              "[1] 2"
            ]
          },
          "metadata": {}
        },
        {
          "output_type": "display_data",
          "data": {
            "text/html": [
              "7"
            ],
            "text/markdown": "7",
            "text/latex": "7",
            "text/plain": [
              "[1] 7"
            ]
          },
          "metadata": {}
        },
        {
          "output_type": "display_data",
          "data": {
            "text/html": [
              "3.14159265358979"
            ],
            "text/markdown": "3.14159265358979",
            "text/latex": "3.14159265358979",
            "text/plain": [
              "[1] 3.141593"
            ]
          },
          "metadata": {}
        },
        {
          "output_type": "display_data",
          "data": {
            "text/html": [
              "2.71828182845905"
            ],
            "text/markdown": "2.71828182845905",
            "text/latex": "2.71828182845905",
            "text/plain": [
              "[1] 2.718282"
            ]
          },
          "metadata": {}
        }
      ]
    },
    {
      "cell_type": "markdown",
      "source": [
        "# **2) Data structures**"
      ],
      "metadata": {
        "id": "B8BWVi0NfnjU"
      }
    },
    {
      "cell_type": "markdown",
      "source": [
        "R has different types of data structures, which are like building blocks for organizing data. If you're familiar with Excel, you can think of each data structure as a table. Most of the time, you'll work with tabular data (like an Excel sheet) or convert your raw data into a table format to manipulate it. For example, you might want to extract certain rows or columns. It's important to know the common data structures in R, how to name them, and how to use those names to manage and work with your data."
      ],
      "metadata": {
        "id": "hAj8qhB3fxw9"
      }
    },
    {
      "cell_type": "markdown",
      "source": [
        "## **Vectors**"
      ],
      "metadata": {
        "id": "05e7I9Iogf8T"
      }
    },
    {
      "cell_type": "markdown",
      "source": [
        "Vectors are a fundamental data structure in R. They are simply lists of elements that are all of the same type, such as numbers, characters, or logical values. In fact, each column in a table is represented as a vector. R makes it easy and intuitive to work with vectors. You can create a vector using the c() function, but there are other methods as well. When performing operations on vectors, the changes apply to every element in the vector automatically."
      ],
      "metadata": {
        "id": "G5T9JGcSgyd_"
      }
    },
    {
      "cell_type": "code",
      "source": [
        "x<-c(4,5,11,5)    #create a vector named x with 4 components\n",
        "x = c(2,12,3,6)\n",
        "x"
      ],
      "metadata": {
        "colab": {
          "base_uri": "https://localhost:8080/",
          "height": 34
        },
        "id": "6Kxi5cbIhBRc",
        "outputId": "eb5a4f4a-d504-44a4-beb4-ae233c350b82"
      },
      "execution_count": null,
      "outputs": [
        {
          "output_type": "display_data",
          "data": {
            "text/html": [
              "<style>\n",
              ".list-inline {list-style: none; margin:0; padding: 0}\n",
              ".list-inline>li {display: inline-block}\n",
              ".list-inline>li:not(:last-child)::after {content: \"\\00b7\"; padding: 0 .5ex}\n",
              "</style>\n",
              "<ol class=list-inline><li>2</li><li>12</li><li>3</li><li>6</li></ol>\n"
            ],
            "text/markdown": "1. 2\n2. 12\n3. 3\n4. 6\n\n\n",
            "text/latex": "\\begin{enumerate*}\n\\item 2\n\\item 12\n\\item 3\n\\item 6\n\\end{enumerate*}\n",
            "text/plain": [
              "[1]  2 12  3  6"
            ]
          },
          "metadata": {}
        }
      ]
    },
    {
      "cell_type": "code",
      "source": [
        "y = c(3,4,5)\n",
        "y = c(2,9,6)\n",
        "y"
      ],
      "metadata": {
        "colab": {
          "base_uri": "https://localhost:8080/",
          "height": 34
        },
        "id": "1CBnuklAsdaw",
        "outputId": "036519b4-f4ca-49e8-94d9-d3ca3bdb4931"
      },
      "execution_count": null,
      "outputs": [
        {
          "output_type": "display_data",
          "data": {
            "text/html": [
              "<style>\n",
              ".list-inline {list-style: none; margin:0; padding: 0}\n",
              ".list-inline>li {display: inline-block}\n",
              ".list-inline>li:not(:last-child)::after {content: \"\\00b7\"; padding: 0 .5ex}\n",
              "</style>\n",
              "<ol class=list-inline><li>2</li><li>9</li><li>6</li></ol>\n"
            ],
            "text/markdown": "1. 2\n2. 9\n3. 6\n\n\n",
            "text/latex": "\\begin{enumerate*}\n\\item 2\n\\item 9\n\\item 6\n\\end{enumerate*}\n",
            "text/plain": [
              "[1] 2 9 6"
            ]
          },
          "metadata": {}
        }
      ]
    },
    {
      "cell_type": "code",
      "source": [
        "x <- 3:5              #create a vector of consecutive integers y\n",
        "x + 9               #scalar addition"
      ],
      "metadata": {
        "colab": {
          "base_uri": "https://localhost:8080/",
          "height": 34
        },
        "id": "FTl86-s2hVYI",
        "outputId": "0fe6628f-2089-42c1-fd9c-0c077e6f8975"
      },
      "execution_count": null,
      "outputs": [
        {
          "output_type": "display_data",
          "data": {
            "text/html": [
              "<style>\n",
              ".list-inline {list-style: none; margin:0; padding: 0}\n",
              ".list-inline>li {display: inline-block}\n",
              ".list-inline>li:not(:last-child)::after {content: \"\\00b7\"; padding: 0 .5ex}\n",
              "</style>\n",
              "<ol class=list-inline><li>12</li><li>13</li><li>14</li></ol>\n"
            ],
            "text/markdown": "1. 12\n2. 13\n3. 14\n\n\n",
            "text/latex": "\\begin{enumerate*}\n\\item 12\n\\item 13\n\\item 14\n\\end{enumerate*}\n",
            "text/plain": [
              "[1] 12 13 14"
            ]
          },
          "metadata": {}
        }
      ]
    },
    {
      "cell_type": "code",
      "source": [
        "5*x                #scalar multiplication"
      ],
      "metadata": {
        "colab": {
          "base_uri": "https://localhost:8080/",
          "height": 34
        },
        "id": "NIcnpvixhahO",
        "outputId": "8481fccf-1312-40c6-87fb-d9f73eae7f0b"
      },
      "execution_count": null,
      "outputs": [
        {
          "output_type": "display_data",
          "data": {
            "text/html": [
              "<style>\n",
              ".list-inline {list-style: none; margin:0; padding: 0}\n",
              ".list-inline>li {display: inline-block}\n",
              ".list-inline>li:not(:last-child)::after {content: \"\\00b7\"; padding: 0 .5ex}\n",
              "</style>\n",
              "<ol class=list-inline><li>10</li><li>60</li><li>15</li><li>30</li></ol>\n"
            ],
            "text/markdown": "1. 10\n2. 60\n3. 15\n4. 30\n\n\n",
            "text/latex": "\\begin{enumerate*}\n\\item 10\n\\item 60\n\\item 15\n\\item 30\n\\end{enumerate*}\n",
            "text/plain": [
              "[1] 10 60 15 30"
            ]
          },
          "metadata": {}
        }
      ]
    },
    {
      "cell_type": "code",
      "source": [
        "x^4                #raise each component to the second power"
      ],
      "metadata": {
        "colab": {
          "base_uri": "https://localhost:8080/",
          "height": 34
        },
        "id": "qSotzN3hhgIU",
        "outputId": "c0812b0a-4e15-4d41-fbb8-c1f18d5b4f6e"
      },
      "execution_count": null,
      "outputs": [
        {
          "output_type": "display_data",
          "data": {
            "text/html": [
              "<style>\n",
              ".list-inline {list-style: none; margin:0; padding: 0}\n",
              ".list-inline>li {display: inline-block}\n",
              ".list-inline>li:not(:last-child)::after {content: \"\\00b7\"; padding: 0 .5ex}\n",
              "</style>\n",
              "<ol class=list-inline><li>16</li><li>20736</li><li>81</li><li>1296</li></ol>\n"
            ],
            "text/markdown": "1. 16\n2. 20736\n3. 81\n4. 1296\n\n\n",
            "text/latex": "\\begin{enumerate*}\n\\item 16\n\\item 20736\n\\item 81\n\\item 1296\n\\end{enumerate*}\n",
            "text/plain": [
              "[1]    16 20736    81  1296"
            ]
          },
          "metadata": {}
        }
      ]
    },
    {
      "cell_type": "code",
      "source": [
        "13^x                #raise 2 to the first through fifth power"
      ],
      "metadata": {
        "colab": {
          "base_uri": "https://localhost:8080/",
          "height": 34
        },
        "id": "m7dPgk6Ehk-m",
        "outputId": "a5546254-d52f-48cc-cff5-bd14096b824e"
      },
      "execution_count": null,
      "outputs": [
        {
          "output_type": "display_data",
          "data": {
            "text/html": [
              "<style>\n",
              ".list-inline {list-style: none; margin:0; padding: 0}\n",
              ".list-inline>li {display: inline-block}\n",
              ".list-inline>li:not(:last-child)::after {content: \"\\00b7\"; padding: 0 .5ex}\n",
              "</style>\n",
              "<ol class=list-inline><li>2197</li><li>28561</li><li>371293</li></ol>\n"
            ],
            "text/markdown": "1. 2197\n2. 28561\n3. 371293\n\n\n",
            "text/latex": "\\begin{enumerate*}\n\\item 2197\n\\item 28561\n\\item 371293\n\\end{enumerate*}\n",
            "text/plain": [
              "[1]   2197  28561 371293"
            ]
          },
          "metadata": {}
        }
      ]
    },
    {
      "cell_type": "code",
      "source": [
        "x                   #y itself has not been unchanged"
      ],
      "metadata": {
        "colab": {
          "base_uri": "https://localhost:8080/",
          "height": 34
        },
        "id": "qjUP4sMWhpsI",
        "outputId": "e0cf0519-d414-467e-d87a-397f21ef09bf"
      },
      "execution_count": null,
      "outputs": [
        {
          "output_type": "display_data",
          "data": {
            "text/html": [
              "<style>\n",
              ".list-inline {list-style: none; margin:0; padding: 0}\n",
              ".list-inline>li {display: inline-block}\n",
              ".list-inline>li:not(:last-child)::after {content: \"\\00b7\"; padding: 0 .5ex}\n",
              "</style>\n",
              "<ol class=list-inline><li>3</li><li>4</li><li>5</li></ol>\n"
            ],
            "text/markdown": "1. 3\n2. 4\n3. 5\n\n\n",
            "text/latex": "\\begin{enumerate*}\n\\item 3\n\\item 4\n\\item 5\n\\end{enumerate*}\n",
            "text/plain": [
              "[1] 3 4 5"
            ]
          },
          "metadata": {}
        }
      ]
    },
    {
      "cell_type": "code",
      "source": [
        "x <- x*2\n",
        "x                   #it is now changed"
      ],
      "metadata": {
        "colab": {
          "base_uri": "https://localhost:8080/",
          "height": 34
        },
        "id": "47RNyw6phtrH",
        "outputId": "fd2f922f-8fca-4e78-ca64-dc842b6dc38d"
      },
      "execution_count": null,
      "outputs": [
        {
          "output_type": "display_data",
          "data": {
            "text/html": [
              "<style>\n",
              ".list-inline {list-style: none; margin:0; padding: 0}\n",
              ".list-inline>li {display: inline-block}\n",
              ".list-inline>li:not(:last-child)::after {content: \"\\00b7\"; padding: 0 .5ex}\n",
              "</style>\n",
              "<ol class=list-inline><li>6</li><li>8</li><li>10</li></ol>\n"
            ],
            "text/markdown": "1. 6\n2. 8\n3. 10\n\n\n",
            "text/latex": "\\begin{enumerate*}\n\\item 6\n\\item 8\n\\item 10\n\\end{enumerate*}\n",
            "text/plain": [
              "[1]  6  8 10"
            ]
          },
          "metadata": {}
        }
      ]
    },
    {
      "cell_type": "code",
      "source": [
        "r1<-rep(1,3)        # create a vector of 1s, length 3\n",
        "length(r1)"
      ],
      "metadata": {
        "colab": {
          "base_uri": "https://localhost:8080/",
          "height": 34
        },
        "id": "oNVWPf7LhyT3",
        "outputId": "dce4c558-0c5f-4b7c-99f2-0425fa2ea9f2"
      },
      "execution_count": null,
      "outputs": [
        {
          "output_type": "display_data",
          "data": {
            "text/html": [
              "3"
            ],
            "text/markdown": "3",
            "text/latex": "3",
            "text/plain": [
              "[1] 3"
            ]
          },
          "metadata": {}
        }
      ]
    },
    {
      "cell_type": "code",
      "source": [
        "class(r1)            # class of the vector"
      ],
      "metadata": {
        "colab": {
          "base_uri": "https://localhost:8080/",
          "height": 34
        },
        "id": "AXN50vvdh1vs",
        "outputId": "0a0b2c7a-51c3-43de-bdad-6770a4eb2b71"
      },
      "execution_count": null,
      "outputs": [
        {
          "output_type": "display_data",
          "data": {
            "text/html": [
              "'numeric'"
            ],
            "text/markdown": "'numeric'",
            "text/latex": "'numeric'",
            "text/plain": [
              "[1] \"numeric\""
            ]
          },
          "metadata": {}
        }
      ]
    },
    {
      "cell_type": "code",
      "source": [
        "a <-1                # this is actually a vector length one"
      ],
      "metadata": {
        "id": "ePw_NJhvh4wn"
      },
      "execution_count": null,
      "outputs": []
    },
    {
      "cell_type": "markdown",
      "source": [
        "### **Matrices**"
      ],
      "metadata": {
        "id": "Ww6SjIFQh8u8"
      }
    },
    {
      "cell_type": "markdown",
      "source": [
        "A matrix is a numerical array with rows and columns. It's similar to stacking vectors, where each row or column represents a vector. One of the simplest ways to create a matrix is by combining vectors of the same length using the cbind() function, which stands for \"column bind.\""
      ],
      "metadata": {
        "id": "1X2emRl7iLVI"
      }
    },
    {
      "cell_type": "code",
      "source": [
        "x = c(4,9,3,2)\n",
        "y = c(14,5,8,7)\n",
        "m1 = cbind(x,y);m1"
      ],
      "metadata": {
        "colab": {
          "base_uri": "https://localhost:8080/",
          "height": 244
        },
        "id": "qmRpz9WUjHhi",
        "outputId": "40b8c0bf-bdcd-4f0a-e162-9eeb6a77f14d"
      },
      "execution_count": null,
      "outputs": [
        {
          "output_type": "display_data",
          "data": {
            "text/html": [
              "<table class=\"dataframe\">\n",
              "<caption>A matrix: 4 × 2 of type dbl</caption>\n",
              "<thead>\n",
              "\t<tr><th scope=col>x</th><th scope=col>y</th></tr>\n",
              "</thead>\n",
              "<tbody>\n",
              "\t<tr><td>4</td><td>14</td></tr>\n",
              "\t<tr><td>9</td><td> 5</td></tr>\n",
              "\t<tr><td>3</td><td> 8</td></tr>\n",
              "\t<tr><td>2</td><td> 7</td></tr>\n",
              "</tbody>\n",
              "</table>\n"
            ],
            "text/markdown": "\nA matrix: 4 × 2 of type dbl\n\n| x | y |\n|---|---|\n| 4 | 14 |\n| 9 |  5 |\n| 3 |  8 |\n| 2 |  7 |\n\n",
            "text/latex": "A matrix: 4 × 2 of type dbl\n\\begin{tabular}{ll}\n x & y\\\\\n\\hline\n\t 4 & 14\\\\\n\t 9 &  5\\\\\n\t 3 &  8\\\\\n\t 2 &  7\\\\\n\\end{tabular}\n",
            "text/plain": [
              "     x y \n",
              "[1,] 4 14\n",
              "[2,] 9  5\n",
              "[3,] 3  8\n",
              "[4,] 2  7"
            ]
          },
          "metadata": {}
        }
      ]
    },
    {
      "cell_type": "code",
      "source": [
        "t(m1)                # transpose of m1"
      ],
      "metadata": {
        "colab": {
          "base_uri": "https://localhost:8080/",
          "height": 114
        },
        "id": "AfzmVaY0jQc3",
        "outputId": "49788c96-a09f-457f-a8a7-df323ba81173"
      },
      "execution_count": null,
      "outputs": [
        {
          "output_type": "display_data",
          "data": {
            "text/html": [
              "<table class=\"dataframe\">\n",
              "<caption>A matrix: 2 × 4 of type dbl</caption>\n",
              "<tbody>\n",
              "\t<tr><th scope=row>x</th><td> 4</td><td>9</td><td>3</td><td>2</td></tr>\n",
              "\t<tr><th scope=row>y</th><td>14</td><td>5</td><td>8</td><td>7</td></tr>\n",
              "</tbody>\n",
              "</table>\n"
            ],
            "text/markdown": "\nA matrix: 2 × 4 of type dbl\n\n| x |  4 | 9 | 3 | 2 |\n| y | 14 | 5 | 8 | 7 |\n\n",
            "text/latex": "A matrix: 2 × 4 of type dbl\n\\begin{tabular}{r|llll}\n\tx &  4 & 9 & 3 & 2\\\\\n\ty & 14 & 5 & 8 & 7\\\\\n\\end{tabular}\n",
            "text/plain": [
              "  [,1] [,2] [,3] [,4]\n",
              "x  4   9    3    2   \n",
              "y 14   5    8    7   "
            ]
          },
          "metadata": {}
        }
      ]
    },
    {
      "cell_type": "code",
      "source": [
        "dim(m1)              # 2 by 5 matrix"
      ],
      "metadata": {
        "colab": {
          "base_uri": "https://localhost:8080/",
          "height": 34
        },
        "id": "LyXjst0gjT-P",
        "outputId": "677e6758-7a06-46ad-dc46-64f823fd9038"
      },
      "execution_count": null,
      "outputs": [
        {
          "output_type": "display_data",
          "data": {
            "text/html": [
              "<style>\n",
              ".list-inline {list-style: none; margin:0; padding: 0}\n",
              ".list-inline>li {display: inline-block}\n",
              ".list-inline>li:not(:last-child)::after {content: \"\\00b7\"; padding: 0 .5ex}\n",
              "</style>\n",
              "<ol class=list-inline><li>4</li><li>2</li></ol>\n"
            ],
            "text/markdown": "1. 4\n2. 2\n\n\n",
            "text/latex": "\\begin{enumerate*}\n\\item 4\n\\item 2\n\\end{enumerate*}\n",
            "text/plain": [
              "[1] 4 2"
            ]
          },
          "metadata": {}
        }
      ]
    },
    {
      "cell_type": "code",
      "source": [
        "m2 = matrix(c(1,3,2,5,-1,2,2,3,9),nrow=3)\n",
        "m2"
      ],
      "metadata": {
        "colab": {
          "base_uri": "https://localhost:8080/",
          "height": 163
        },
        "id": "59wVC-qVjW_s",
        "outputId": "d526eefd-b874-4318-a403-122be7fd2af2"
      },
      "execution_count": null,
      "outputs": [
        {
          "output_type": "display_data",
          "data": {
            "text/html": [
              "<table class=\"dataframe\">\n",
              "<caption>A matrix: 3 × 3 of type dbl</caption>\n",
              "<tbody>\n",
              "\t<tr><td>1</td><td> 5</td><td>2</td></tr>\n",
              "\t<tr><td>3</td><td>-1</td><td>3</td></tr>\n",
              "\t<tr><td>2</td><td> 2</td><td>9</td></tr>\n",
              "</tbody>\n",
              "</table>\n"
            ],
            "text/markdown": "\nA matrix: 3 × 3 of type dbl\n\n| 1 |  5 | 2 |\n| 3 | -1 | 3 |\n| 2 |  2 | 9 |\n\n",
            "text/latex": "A matrix: 3 × 3 of type dbl\n\\begin{tabular}{lll}\n\t 1 &  5 & 2\\\\\n\t 3 & -1 & 3\\\\\n\t 2 &  2 & 9\\\\\n\\end{tabular}\n",
            "text/plain": [
              "     [,1] [,2] [,3]\n",
              "[1,] 1     5   2   \n",
              "[2,] 3    -1   3   \n",
              "[3,] 2     2   9   "
            ]
          },
          "metadata": {}
        }
      ]
    },
    {
      "cell_type": "markdown",
      "source": [
        "# **Data frames**"
      ],
      "metadata": {
        "id": "L9xpeESAjiId"
      }
    },
    {
      "cell_type": "markdown",
      "source": [
        "A data frame is more flexible than a matrix because it allows each column to have different types of data (such as numeric, character, or factor). You can create a data frame using the data.frame() function. For instance, you can construct a data frame from genomic intervals or coordinates."
      ],
      "metadata": {
        "id": "IMI7vxYUjnG_"
      }
    },
    {
      "cell_type": "code",
      "source": [
        "chr <- c(\"chr1\", \"chr1\", \"chr2\", \"chr2\")\n",
        "strand <- c(\"-\",\"-\",\"+\",\"+\")\n",
        "start<- c(200,4000,100,400)\n",
        "end <-c(250,410,200,450)\n",
        "gene1 <- data.frame(chr,start,end,strand)\n",
        "#change column names\n",
        "names(gene1) <- c(\"chr\",\"start\",\"end\",\"strand\")\n",
        "gene1 # OR this will work too"
      ],
      "metadata": {
        "colab": {
          "base_uri": "https://localhost:8080/",
          "height": 224
        },
        "id": "fjz8A4BWjuS1",
        "outputId": "fef6abd2-fd41-4e42-a0b4-5b0063114130"
      },
      "execution_count": null,
      "outputs": [
        {
          "output_type": "display_data",
          "data": {
            "text/html": [
              "<table class=\"dataframe\">\n",
              "<caption>A data.frame: 4 × 4</caption>\n",
              "<thead>\n",
              "\t<tr><th scope=col>chr</th><th scope=col>start</th><th scope=col>end</th><th scope=col>strand</th></tr>\n",
              "\t<tr><th scope=col>&lt;chr&gt;</th><th scope=col>&lt;dbl&gt;</th><th scope=col>&lt;dbl&gt;</th><th scope=col>&lt;chr&gt;</th></tr>\n",
              "</thead>\n",
              "<tbody>\n",
              "\t<tr><td>chr1</td><td> 200</td><td>250</td><td>-</td></tr>\n",
              "\t<tr><td>chr1</td><td>4000</td><td>410</td><td>-</td></tr>\n",
              "\t<tr><td>chr2</td><td> 100</td><td>200</td><td>+</td></tr>\n",
              "\t<tr><td>chr2</td><td> 400</td><td>450</td><td>+</td></tr>\n",
              "</tbody>\n",
              "</table>\n"
            ],
            "text/markdown": "\nA data.frame: 4 × 4\n\n| chr &lt;chr&gt; | start &lt;dbl&gt; | end &lt;dbl&gt; | strand &lt;chr&gt; |\n|---|---|---|---|\n| chr1 |  200 | 250 | - |\n| chr1 | 4000 | 410 | - |\n| chr2 |  100 | 200 | + |\n| chr2 |  400 | 450 | + |\n\n",
            "text/latex": "A data.frame: 4 × 4\n\\begin{tabular}{llll}\n chr & start & end & strand\\\\\n <chr> & <dbl> & <dbl> & <chr>\\\\\n\\hline\n\t chr1 &  200 & 250 & -\\\\\n\t chr1 & 4000 & 410 & -\\\\\n\t chr2 &  100 & 200 & +\\\\\n\t chr2 &  400 & 450 & +\\\\\n\\end{tabular}\n",
            "text/plain": [
              "  chr  start end strand\n",
              "1 chr1  200  250 -     \n",
              "2 chr1 4000  410 -     \n",
              "3 chr2  100  200 +     \n",
              "4 chr2  400  450 +     "
            ]
          },
          "metadata": {}
        }
      ]
    },
    {
      "cell_type": "code",
      "source": [
        "gene1 <- data.frame(chr=chr,start=start,end=end,strand=strand)\n",
        "gene1"
      ],
      "metadata": {
        "colab": {
          "base_uri": "https://localhost:8080/",
          "height": 224
        },
        "id": "P8GuRKJtjxwC",
        "outputId": "6700545f-caf3-4827-ca23-ef84b82784d9"
      },
      "execution_count": null,
      "outputs": [
        {
          "output_type": "display_data",
          "data": {
            "text/html": [
              "<table class=\"dataframe\">\n",
              "<caption>A data.frame: 4 × 4</caption>\n",
              "<thead>\n",
              "\t<tr><th scope=col>chr</th><th scope=col>start</th><th scope=col>end</th><th scope=col>strand</th></tr>\n",
              "\t<tr><th scope=col>&lt;chr&gt;</th><th scope=col>&lt;dbl&gt;</th><th scope=col>&lt;dbl&gt;</th><th scope=col>&lt;chr&gt;</th></tr>\n",
              "</thead>\n",
              "<tbody>\n",
              "\t<tr><td>chr1</td><td> 200</td><td>250</td><td>-</td></tr>\n",
              "\t<tr><td>chr1</td><td>4000</td><td>410</td><td>-</td></tr>\n",
              "\t<tr><td>chr2</td><td> 100</td><td>200</td><td>+</td></tr>\n",
              "\t<tr><td>chr2</td><td> 400</td><td>450</td><td>+</td></tr>\n",
              "</tbody>\n",
              "</table>\n"
            ],
            "text/markdown": "\nA data.frame: 4 × 4\n\n| chr &lt;chr&gt; | start &lt;dbl&gt; | end &lt;dbl&gt; | strand &lt;chr&gt; |\n|---|---|---|---|\n| chr1 |  200 | 250 | - |\n| chr1 | 4000 | 410 | - |\n| chr2 |  100 | 200 | + |\n| chr2 |  400 | 450 | + |\n\n",
            "text/latex": "A data.frame: 4 × 4\n\\begin{tabular}{llll}\n chr & start & end & strand\\\\\n <chr> & <dbl> & <dbl> & <chr>\\\\\n\\hline\n\t chr1 &  200 & 250 & -\\\\\n\t chr1 & 4000 & 410 & -\\\\\n\t chr2 &  100 & 200 & +\\\\\n\t chr2 &  400 & 450 & +\\\\\n\\end{tabular}\n",
            "text/plain": [
              "  chr  start end strand\n",
              "1 chr1  200  250 -     \n",
              "2 chr1 4000  410 -     \n",
              "3 chr2  100  200 +     \n",
              "4 chr2  400  450 +     "
            ]
          },
          "metadata": {}
        }
      ]
    },
    {
      "cell_type": "markdown",
      "source": [
        "There are several ways to extract elements from a data frame. You can select specific columns by their numbers or names, or you can choose particular rows using their row numbers. Additionally, you can filter data based on logical conditions, such as selecting all rows where the value in a column exceeds a certain threshold."
      ],
      "metadata": {
        "id": "OlKAUF5pj7oI"
      }
    },
    {
      "cell_type": "code",
      "source": [
        "gene1[,2:4] # columns 2,3,4 of data frame"
      ],
      "metadata": {
        "colab": {
          "base_uri": "https://localhost:8080/",
          "height": 224
        },
        "id": "BQb1Jk3Ej85k",
        "outputId": "e6d91b0b-310d-4d27-d02c-ba468394d194"
      },
      "execution_count": null,
      "outputs": [
        {
          "output_type": "display_data",
          "data": {
            "text/html": [
              "<table class=\"dataframe\">\n",
              "<caption>A data.frame: 4 × 3</caption>\n",
              "<thead>\n",
              "\t<tr><th scope=col>start</th><th scope=col>end</th><th scope=col>strand</th></tr>\n",
              "\t<tr><th scope=col>&lt;dbl&gt;</th><th scope=col>&lt;dbl&gt;</th><th scope=col>&lt;chr&gt;</th></tr>\n",
              "</thead>\n",
              "<tbody>\n",
              "\t<tr><td> 200</td><td>250</td><td>-</td></tr>\n",
              "\t<tr><td>4000</td><td>410</td><td>-</td></tr>\n",
              "\t<tr><td> 100</td><td>200</td><td>+</td></tr>\n",
              "\t<tr><td> 400</td><td>450</td><td>+</td></tr>\n",
              "</tbody>\n",
              "</table>\n"
            ],
            "text/markdown": "\nA data.frame: 4 × 3\n\n| start &lt;dbl&gt; | end &lt;dbl&gt; | strand &lt;chr&gt; |\n|---|---|---|\n|  200 | 250 | - |\n| 4000 | 410 | - |\n|  100 | 200 | + |\n|  400 | 450 | + |\n\n",
            "text/latex": "A data.frame: 4 × 3\n\\begin{tabular}{lll}\n start & end & strand\\\\\n <dbl> & <dbl> & <chr>\\\\\n\\hline\n\t  200 & 250 & -\\\\\n\t 4000 & 410 & -\\\\\n\t  100 & 200 & +\\\\\n\t  400 & 450 & +\\\\\n\\end{tabular}\n",
            "text/plain": [
              "  start end strand\n",
              "1  200  250 -     \n",
              "2 4000  410 -     \n",
              "3  100  200 +     \n",
              "4  400  450 +     "
            ]
          },
          "metadata": {}
        }
      ]
    },
    {
      "cell_type": "code",
      "source": [
        "gene1[,c(\"chr\",\"start\")] # columns chr and start from data frame"
      ],
      "metadata": {
        "colab": {
          "base_uri": "https://localhost:8080/",
          "height": 241
        },
        "id": "mHLq-PmEj_cd",
        "outputId": "b82a205c-3c68-499e-d17d-40abd42e2246"
      },
      "execution_count": null,
      "outputs": [
        {
          "output_type": "display_data",
          "data": {
            "text/html": [
              "<table class=\"dataframe\">\n",
              "<caption>A data.frame: 4 × 2</caption>\n",
              "<thead>\n",
              "\t<tr><th scope=col>chr</th><th scope=col>start</th></tr>\n",
              "\t<tr><th scope=col>&lt;chr&gt;</th><th scope=col>&lt;dbl&gt;</th></tr>\n",
              "</thead>\n",
              "<tbody>\n",
              "\t<tr><td>chr1</td><td> 200</td></tr>\n",
              "\t<tr><td>chr1</td><td>4000</td></tr>\n",
              "\t<tr><td>chr2</td><td> 100</td></tr>\n",
              "\t<tr><td>chr2</td><td> 400</td></tr>\n",
              "</tbody>\n",
              "</table>\n"
            ],
            "text/markdown": "\nA data.frame: 4 × 2\n\n| chr &lt;chr&gt; | start &lt;dbl&gt; |\n|---|---|\n| chr1 |  200 |\n| chr1 | 4000 |\n| chr2 |  100 |\n| chr2 |  400 |\n\n",
            "text/latex": "A data.frame: 4 × 2\n\\begin{tabular}{ll}\n chr & start\\\\\n <chr> & <dbl>\\\\\n\\hline\n\t chr1 &  200\\\\\n\t chr1 & 4000\\\\\n\t chr2 &  100\\\\\n\t chr2 &  400\\\\\n\\end{tabular}\n",
            "text/plain": [
              "  chr  start\n",
              "1 chr1  200 \n",
              "2 chr1 4000 \n",
              "3 chr2  100 \n",
              "4 chr2  400 "
            ]
          },
          "metadata": {}
        }
      ]
    },
    {
      "cell_type": "code",
      "source": [
        "gene1$start # variable start in the data frame"
      ],
      "metadata": {
        "colab": {
          "base_uri": "https://localhost:8080/",
          "height": 34
        },
        "id": "gIKwiNRFkCOf",
        "outputId": "aa1dd4be-32bd-4542-c843-2784a9e93930"
      },
      "execution_count": null,
      "outputs": [
        {
          "output_type": "display_data",
          "data": {
            "text/html": [
              "<style>\n",
              ".list-inline {list-style: none; margin:0; padding: 0}\n",
              ".list-inline>li {display: inline-block}\n",
              ".list-inline>li:not(:last-child)::after {content: \"\\00b7\"; padding: 0 .5ex}\n",
              "</style>\n",
              "<ol class=list-inline><li>200</li><li>4000</li><li>100</li><li>400</li></ol>\n"
            ],
            "text/markdown": "1. 200\n2. 4000\n3. 100\n4. 400\n\n\n",
            "text/latex": "\\begin{enumerate*}\n\\item 200\n\\item 4000\n\\item 100\n\\item 400\n\\end{enumerate*}\n",
            "text/plain": [
              "[1]  200 4000  100  400"
            ]
          },
          "metadata": {}
        }
      ]
    },
    {
      "cell_type": "code",
      "source": [
        "gene1[c(1,3),] # get 1st and 3rd rows"
      ],
      "metadata": {
        "colab": {
          "base_uri": "https://localhost:8080/",
          "height": 161
        },
        "id": "k-4ZUGwzkE2_",
        "outputId": "0ec565bd-d23e-418f-f8e8-b4c7d19fab62"
      },
      "execution_count": null,
      "outputs": [
        {
          "output_type": "display_data",
          "data": {
            "text/html": [
              "<table class=\"dataframe\">\n",
              "<caption>A data.frame: 2 × 4</caption>\n",
              "<thead>\n",
              "\t<tr><th></th><th scope=col>chr</th><th scope=col>start</th><th scope=col>end</th><th scope=col>strand</th></tr>\n",
              "\t<tr><th></th><th scope=col>&lt;chr&gt;</th><th scope=col>&lt;dbl&gt;</th><th scope=col>&lt;dbl&gt;</th><th scope=col>&lt;chr&gt;</th></tr>\n",
              "</thead>\n",
              "<tbody>\n",
              "\t<tr><th scope=row>1</th><td>chr1</td><td>200</td><td>250</td><td>-</td></tr>\n",
              "\t<tr><th scope=row>3</th><td>chr2</td><td>100</td><td>200</td><td>+</td></tr>\n",
              "</tbody>\n",
              "</table>\n"
            ],
            "text/markdown": "\nA data.frame: 2 × 4\n\n| <!--/--> | chr &lt;chr&gt; | start &lt;dbl&gt; | end &lt;dbl&gt; | strand &lt;chr&gt; |\n|---|---|---|---|---|\n| 1 | chr1 | 200 | 250 | - |\n| 3 | chr2 | 100 | 200 | + |\n\n",
            "text/latex": "A data.frame: 2 × 4\n\\begin{tabular}{r|llll}\n  & chr & start & end & strand\\\\\n  & <chr> & <dbl> & <dbl> & <chr>\\\\\n\\hline\n\t1 & chr1 & 200 & 250 & -\\\\\n\t3 & chr2 & 100 & 200 & +\\\\\n\\end{tabular}\n",
            "text/plain": [
              "  chr  start end strand\n",
              "1 chr1 200   250 -     \n",
              "3 chr2 100   200 +     "
            ]
          },
          "metadata": {}
        }
      ]
    },
    {
      "cell_type": "code",
      "source": [
        "gene1[gene1$start>400,] # get all rows where start>400"
      ],
      "metadata": {
        "colab": {
          "base_uri": "https://localhost:8080/",
          "height": 129
        },
        "id": "Tu4GLBVfkI3U",
        "outputId": "1a3e47f4-dfa5-4486-f35d-2ecaf50d304c"
      },
      "execution_count": null,
      "outputs": [
        {
          "output_type": "display_data",
          "data": {
            "text/html": [
              "<table class=\"dataframe\">\n",
              "<caption>A data.frame: 1 × 4</caption>\n",
              "<thead>\n",
              "\t<tr><th></th><th scope=col>chr</th><th scope=col>start</th><th scope=col>end</th><th scope=col>strand</th></tr>\n",
              "\t<tr><th></th><th scope=col>&lt;chr&gt;</th><th scope=col>&lt;dbl&gt;</th><th scope=col>&lt;dbl&gt;</th><th scope=col>&lt;chr&gt;</th></tr>\n",
              "</thead>\n",
              "<tbody>\n",
              "\t<tr><th scope=row>2</th><td>chr1</td><td>4000</td><td>410</td><td>-</td></tr>\n",
              "</tbody>\n",
              "</table>\n"
            ],
            "text/markdown": "\nA data.frame: 1 × 4\n\n| <!--/--> | chr &lt;chr&gt; | start &lt;dbl&gt; | end &lt;dbl&gt; | strand &lt;chr&gt; |\n|---|---|---|---|---|\n| 2 | chr1 | 4000 | 410 | - |\n\n",
            "text/latex": "A data.frame: 1 × 4\n\\begin{tabular}{r|llll}\n  & chr & start & end & strand\\\\\n  & <chr> & <dbl> & <dbl> & <chr>\\\\\n\\hline\n\t2 & chr1 & 4000 & 410 & -\\\\\n\\end{tabular}\n",
            "text/plain": [
              "  chr  start end strand\n",
              "2 chr1 4000  410 -     "
            ]
          },
          "metadata": {}
        }
      ]
    },
    {
      "cell_type": "markdown",
      "source": [
        "# **Lists**"
      ],
      "metadata": {
        "id": "qB334q2WkKbe"
      }
    },
    {
      "cell_type": "markdown",
      "source": [
        "In R, a list is an ordered collection of items (components). It enables you to store different types of objects, even if they are unrelated, under a single name. You can create a list using the list() function. Each item in the list is assigned a position number and can also have a name. Here are some examples of how to create lists."
      ],
      "metadata": {
        "id": "vRx0HI0TkYJo"
      }
    },
    {
      "cell_type": "code",
      "source": [
        "# example of a list with 4 components\n",
        "# a string, a numeric vector, a matrix, and a scalar\n",
        "w <- list(name=\"Fred\",\n",
        "       mynumbers=c(1,2,3),\n",
        "       mymatrix=matrix(1:4,ncol=2),\n",
        "       age=5.3)\n",
        "w"
      ],
      "metadata": {
        "colab": {
          "base_uri": "https://localhost:8080/",
          "height": 316
        },
        "id": "OHX4N3qikZYs",
        "outputId": "30055a77-424b-4998-a46b-4683f1d8ab7e"
      },
      "execution_count": null,
      "outputs": [
        {
          "output_type": "display_data",
          "data": {
            "text/html": [
              "<dl>\n",
              "\t<dt>$name</dt>\n",
              "\t\t<dd>'Fred'</dd>\n",
              "\t<dt>$mynumbers</dt>\n",
              "\t\t<dd><style>\n",
              ".list-inline {list-style: none; margin:0; padding: 0}\n",
              ".list-inline>li {display: inline-block}\n",
              ".list-inline>li:not(:last-child)::after {content: \"\\00b7\"; padding: 0 .5ex}\n",
              "</style>\n",
              "<ol class=list-inline><li>1</li><li>2</li><li>3</li></ol>\n",
              "</dd>\n",
              "\t<dt>$mymatrix</dt>\n",
              "\t\t<dd><table class=\"dataframe\">\n",
              "<caption>A matrix: 2 × 2 of type int</caption>\n",
              "<tbody>\n",
              "\t<tr><td>1</td><td>3</td></tr>\n",
              "\t<tr><td>2</td><td>4</td></tr>\n",
              "</tbody>\n",
              "</table>\n",
              "</dd>\n",
              "\t<dt>$age</dt>\n",
              "\t\t<dd>5.3</dd>\n",
              "</dl>\n"
            ],
            "text/markdown": "$name\n:   'Fred'\n$mynumbers\n:   1. 1\n2. 2\n3. 3\n\n\n\n$mymatrix\n:   \nA matrix: 2 × 2 of type int\n\n| 1 | 3 |\n| 2 | 4 |\n\n\n$age\n:   5.3\n\n\n",
            "text/latex": "\\begin{description}\n\\item[\\$name] 'Fred'\n\\item[\\$mynumbers] \\begin{enumerate*}\n\\item 1\n\\item 2\n\\item 3\n\\end{enumerate*}\n\n\\item[\\$mymatrix] A matrix: 2 × 2 of type int\n\\begin{tabular}{ll}\n\t 1 & 3\\\\\n\t 2 & 4\\\\\n\\end{tabular}\n\n\\item[\\$age] 5.3\n\\end{description}\n",
            "text/plain": [
              "$name\n",
              "[1] \"Fred\"\n",
              "\n",
              "$mynumbers\n",
              "[1] 1 2 3\n",
              "\n",
              "$mymatrix\n",
              "     [,1] [,2]\n",
              "[1,]    1    3\n",
              "[2,]    2    4\n",
              "\n",
              "$age\n",
              "[1] 5.3\n"
            ]
          },
          "metadata": {}
        }
      ]
    },
    {
      "cell_type": "markdown",
      "source": [
        "You can extract elements of a list using the [[]], the double square-bracket, convention using either its position in the list or its name."
      ],
      "metadata": {
        "id": "4U607wktkfWo"
      }
    },
    {
      "cell_type": "code",
      "source": [
        "w[[3]] # 3rd component of the list"
      ],
      "metadata": {
        "colab": {
          "base_uri": "https://localhost:8080/",
          "height": 167
        },
        "id": "D3M-uknMkghC",
        "outputId": "1acd7fba-fc0c-4ec9-878e-26432df9a3f3"
      },
      "execution_count": null,
      "outputs": [
        {
          "output_type": "display_data",
          "data": {
            "text/html": [
              "<table class=\"dataframe\">\n",
              "<caption>A matrix: 2 × 2 of type int</caption>\n",
              "<tbody>\n",
              "\t<tr><td>1</td><td>3</td></tr>\n",
              "\t<tr><td>2</td><td>4</td></tr>\n",
              "</tbody>\n",
              "</table>\n"
            ],
            "text/markdown": "\nA matrix: 2 × 2 of type int\n\n| 1 | 3 |\n| 2 | 4 |\n\n",
            "text/latex": "A matrix: 2 × 2 of type int\n\\begin{tabular}{ll}\n\t 1 & 3\\\\\n\t 2 & 4\\\\\n\\end{tabular}\n",
            "text/plain": [
              "     [,1] [,2]\n",
              "[1,] 1    3   \n",
              "[2,] 2    4   "
            ]
          },
          "metadata": {}
        }
      ]
    },
    {
      "cell_type": "code",
      "source": [
        "w[[\"mynumbers\"]] # component named mynumbers in list"
      ],
      "metadata": {
        "colab": {
          "base_uri": "https://localhost:8080/",
          "height": 34
        },
        "id": "5YUFnuySklrw",
        "outputId": "fc1401a8-19b3-43da-e9aa-e2ae5da4adc5"
      },
      "execution_count": null,
      "outputs": [
        {
          "output_type": "display_data",
          "data": {
            "text/html": [
              "<style>\n",
              ".list-inline {list-style: none; margin:0; padding: 0}\n",
              ".list-inline>li {display: inline-block}\n",
              ".list-inline>li:not(:last-child)::after {content: \"\\00b7\"; padding: 0 .5ex}\n",
              "</style>\n",
              "<ol class=list-inline><li>1</li><li>2</li><li>3</li></ol>\n"
            ],
            "text/markdown": "1. 1\n2. 2\n3. 3\n\n\n",
            "text/latex": "\\begin{enumerate*}\n\\item 1\n\\item 2\n\\item 3\n\\end{enumerate*}\n",
            "text/plain": [
              "[1] 1 2 3"
            ]
          },
          "metadata": {}
        }
      ]
    },
    {
      "cell_type": "code",
      "source": [
        "w$age"
      ],
      "metadata": {
        "colab": {
          "base_uri": "https://localhost:8080/",
          "height": 34
        },
        "id": "nl2x4F0yknmN",
        "outputId": "62c7b344-5d50-47b8-8856-71dc39ee2873"
      },
      "execution_count": null,
      "outputs": [
        {
          "output_type": "display_data",
          "data": {
            "text/html": [
              "5.3"
            ],
            "text/markdown": "5.3",
            "text/latex": "5.3",
            "text/plain": [
              "[1] 5.3"
            ]
          },
          "metadata": {}
        }
      ]
    },
    {
      "cell_type": "markdown",
      "source": [
        "# **Factors**"
      ],
      "metadata": {
        "id": "649wzfTakqTC"
      }
    },
    {
      "cell_type": "markdown",
      "source": [
        "Factors are used to store categorical data. They are important for statistical modeling since categorical variables are treated differently in statistical models than continuous variables. This ensures categorical data treated accordingly in statistical models."
      ],
      "metadata": {
        "id": "uDTv2YkPkx0H"
      }
    },
    {
      "cell_type": "code",
      "source": [
        "features=c(\"promoter\",\"exon\",\"intron\")\n",
        "f.feat=factor(features)"
      ],
      "metadata": {
        "id": "wC7_U8P-kzG0"
      },
      "execution_count": null,
      "outputs": []
    },
    {
      "cell_type": "markdown",
      "source": [
        "An important thing to note is that when you are reading a data frame with read.table() or creating a data frame with data.frame() function, the character columns are stored as factors by default, to change this behavior you need to set stringsAsFactors=FALSE in read.table() and/or data.frame() function arguments."
      ],
      "metadata": {
        "id": "UfWNPZspk3TS"
      }
    },
    {
      "cell_type": "markdown",
      "source": [
        "# **3) Data types**"
      ],
      "metadata": {
        "id": "2213Qg2tk8c4"
      }
    },
    {
      "cell_type": "markdown",
      "source": [
        "There are four common data types in R, they are numeric, logical, character and integer. All these data types can be used to create vectors natively."
      ],
      "metadata": {
        "id": "XEtNJbpdlECK"
      }
    },
    {
      "cell_type": "code",
      "source": [
        "#create a numeric vector x with 5 components\n",
        "x<-c(1,3,2,10,5)\n",
        "x"
      ],
      "metadata": {
        "colab": {
          "base_uri": "https://localhost:8080/",
          "height": 34
        },
        "id": "Eqr-k6xplGjw",
        "outputId": "7f2005f6-aa91-413e-dcf3-74f5468549b1"
      },
      "execution_count": null,
      "outputs": [
        {
          "output_type": "display_data",
          "data": {
            "text/html": [
              "<style>\n",
              ".list-inline {list-style: none; margin:0; padding: 0}\n",
              ".list-inline>li {display: inline-block}\n",
              ".list-inline>li:not(:last-child)::after {content: \"\\00b7\"; padding: 0 .5ex}\n",
              "</style>\n",
              "<ol class=list-inline><li>1</li><li>3</li><li>2</li><li>10</li><li>5</li></ol>\n"
            ],
            "text/markdown": "1. 1\n2. 3\n3. 2\n4. 10\n5. 5\n\n\n",
            "text/latex": "\\begin{enumerate*}\n\\item 1\n\\item 3\n\\item 2\n\\item 10\n\\item 5\n\\end{enumerate*}\n",
            "text/plain": [
              "[1]  1  3  2 10  5"
            ]
          },
          "metadata": {}
        }
      ]
    },
    {
      "cell_type": "code",
      "source": [
        "y = c(2,3,5)\n",
        "y"
      ],
      "metadata": {
        "colab": {
          "base_uri": "https://localhost:8080/",
          "height": 34
        },
        "id": "jUSVnGtPuVgP",
        "outputId": "21633ce0-fb5e-47cd-b070-f97b502b0f5e"
      },
      "execution_count": null,
      "outputs": [
        {
          "output_type": "display_data",
          "data": {
            "text/html": [
              "<style>\n",
              ".list-inline {list-style: none; margin:0; padding: 0}\n",
              ".list-inline>li {display: inline-block}\n",
              ".list-inline>li:not(:last-child)::after {content: \"\\00b7\"; padding: 0 .5ex}\n",
              "</style>\n",
              "<ol class=list-inline><li>2</li><li>3</li><li>5</li></ol>\n"
            ],
            "text/markdown": "1. 2\n2. 3\n3. 5\n\n\n",
            "text/latex": "\\begin{enumerate*}\n\\item 2\n\\item 3\n\\item 5\n\\end{enumerate*}\n",
            "text/plain": [
              "[1] 2 3 5"
            ]
          },
          "metadata": {}
        }
      ]
    },
    {
      "cell_type": "code",
      "source": [
        "#create a logical vector x\n",
        "x<-c(TRUE,FALSE,TRUE)\n",
        "x"
      ],
      "metadata": {
        "colab": {
          "base_uri": "https://localhost:8080/",
          "height": 34
        },
        "id": "Spju4XSElJuz",
        "outputId": "9b2523b5-a503-4b3b-ceaf-47e2d956eefa"
      },
      "execution_count": null,
      "outputs": [
        {
          "output_type": "display_data",
          "data": {
            "text/html": [
              "<style>\n",
              ".list-inline {list-style: none; margin:0; padding: 0}\n",
              ".list-inline>li {display: inline-block}\n",
              ".list-inline>li:not(:last-child)::after {content: \"\\00b7\"; padding: 0 .5ex}\n",
              "</style>\n",
              "<ol class=list-inline><li>TRUE</li><li>FALSE</li><li>TRUE</li></ol>\n"
            ],
            "text/markdown": "1. TRUE\n2. FALSE\n3. TRUE\n\n\n",
            "text/latex": "\\begin{enumerate*}\n\\item TRUE\n\\item FALSE\n\\item TRUE\n\\end{enumerate*}\n",
            "text/plain": [
              "[1]  TRUE FALSE  TRUE"
            ]
          },
          "metadata": {}
        }
      ]
    },
    {
      "cell_type": "code",
      "source": [
        "# create a character vector\n",
        "x<-c(\"sds\",\"sd\",\"as\")\n",
        "x"
      ],
      "metadata": {
        "colab": {
          "base_uri": "https://localhost:8080/",
          "height": 34
        },
        "id": "Jc_SWB_QlMJr",
        "outputId": "8dcb18cf-5040-4d4c-e388-0b44da4c520a"
      },
      "execution_count": null,
      "outputs": [
        {
          "output_type": "display_data",
          "data": {
            "text/html": [
              "<style>\n",
              ".list-inline {list-style: none; margin:0; padding: 0}\n",
              ".list-inline>li {display: inline-block}\n",
              ".list-inline>li:not(:last-child)::after {content: \"\\00b7\"; padding: 0 .5ex}\n",
              "</style>\n",
              "<ol class=list-inline><li>'sds'</li><li>'sd'</li><li>'as'</li></ol>\n"
            ],
            "text/markdown": "1. 'sds'\n2. 'sd'\n3. 'as'\n\n\n",
            "text/latex": "\\begin{enumerate*}\n\\item 'sds'\n\\item 'sd'\n\\item 'as'\n\\end{enumerate*}\n",
            "text/plain": [
              "[1] \"sds\" \"sd\"  \"as\" "
            ]
          },
          "metadata": {}
        }
      ]
    },
    {
      "cell_type": "code",
      "source": [
        "class(x)"
      ],
      "metadata": {
        "colab": {
          "base_uri": "https://localhost:8080/",
          "height": 34
        },
        "id": "hT6gxpvSlOy3",
        "outputId": "e2fbbce2-d35a-4835-ae09-48419eaa480f"
      },
      "execution_count": null,
      "outputs": [
        {
          "output_type": "display_data",
          "data": {
            "text/html": [
              "'character'"
            ],
            "text/markdown": "'character'",
            "text/latex": "'character'",
            "text/plain": [
              "[1] \"character\""
            ]
          },
          "metadata": {}
        }
      ]
    },
    {
      "cell_type": "code",
      "source": [
        "class(y)"
      ],
      "metadata": {
        "colab": {
          "base_uri": "https://localhost:8080/",
          "height": 34
        },
        "id": "KF8M6C4mukvO",
        "outputId": "c0dfb5ed-77f0-4cd9-f3fa-4f47911bc179"
      },
      "execution_count": null,
      "outputs": [
        {
          "output_type": "display_data",
          "data": {
            "text/html": [
              "'numeric'"
            ],
            "text/markdown": "'numeric'",
            "text/latex": "'numeric'",
            "text/plain": [
              "[1] \"numeric\""
            ]
          },
          "metadata": {}
        }
      ]
    },
    {
      "cell_type": "code",
      "source": [
        "# create an integer vector\n",
        "x<-c(1L,2L,3L)\n",
        "x"
      ],
      "metadata": {
        "colab": {
          "base_uri": "https://localhost:8080/",
          "height": 34
        },
        "id": "ELvgBZ3olRSc",
        "outputId": "535beff5-6bc7-4b0e-ff66-b831274eb634"
      },
      "execution_count": null,
      "outputs": [
        {
          "output_type": "display_data",
          "data": {
            "text/html": [
              "<style>\n",
              ".list-inline {list-style: none; margin:0; padding: 0}\n",
              ".list-inline>li {display: inline-block}\n",
              ".list-inline>li:not(:last-child)::after {content: \"\\00b7\"; padding: 0 .5ex}\n",
              "</style>\n",
              "<ol class=list-inline><li>1</li><li>2</li><li>3</li></ol>\n"
            ],
            "text/markdown": "1. 1\n2. 2\n3. 3\n\n\n",
            "text/latex": "\\begin{enumerate*}\n\\item 1\n\\item 2\n\\item 3\n\\end{enumerate*}\n",
            "text/plain": [
              "[1] 1 2 3"
            ]
          },
          "metadata": {}
        }
      ]
    },
    {
      "cell_type": "code",
      "source": [
        "class(x)"
      ],
      "metadata": {
        "colab": {
          "base_uri": "https://localhost:8080/",
          "height": 34
        },
        "id": "MIPDZdLPlWMe",
        "outputId": "8b901364-cc6c-48af-f9b4-3068e1f52bbb"
      },
      "execution_count": null,
      "outputs": [
        {
          "output_type": "display_data",
          "data": {
            "text/html": [
              "'integer'"
            ],
            "text/markdown": "'integer'",
            "text/latex": "'integer'",
            "text/plain": [
              "[1] \"integer\""
            ]
          },
          "metadata": {}
        }
      ]
    },
    {
      "cell_type": "markdown",
      "source": [
        "# **4) Plotting in R with base graphics**"
      ],
      "metadata": {
        "id": "tWR8WTzVmIwk"
      }
    },
    {
      "cell_type": "markdown",
      "source": [
        "R has great support for plotting and customizing plots by default. This basic capability for plotting in R is referred to as “base graphics” or “R base graphics”. We will show only a few below. Let us sample 50 values from the normal distribution and plot them as a histogram. A histogram is an approximate representation of a distribution. Bars show how frequently we observe certain values in our sample."
      ],
      "metadata": {
        "id": "18pIYzk2mONd"
      }
    },
    {
      "cell_type": "code",
      "source": [
        "# sample 50 values from normal distribution\n",
        "# and store them in vector x\n",
        "x<-rnorm(50)\n",
        "hist(x) # plot the histogram of those values"
      ],
      "metadata": {
        "colab": {
          "base_uri": "https://localhost:8080/",
          "height": 437
        },
        "id": "Te4ouJHUmS0e",
        "outputId": "85a1a41b-18cd-4c08-c74e-fab097ecd111"
      },
      "execution_count": null,
      "outputs": [
        {
          "output_type": "display_data",
          "data": {
            "text/plain": [
              "Plot with title “Histogram of x”"
            ],
            "image/png": "[encoded data removed]"
          },
          "metadata": {
            "image/png": {
              "width": 420,
              "height": 420
            }
          }
        }
      ]
    },
    {
      "cell_type": "markdown",
      "source": [
        "We can modify all the plots by providing certain arguments to the plotting function. Now let’s give a title to the plot using the main argument. We can also change the color of the bars using the col argument. You can simply provide the name of the color. Below, we are using 'red' for the color."
      ],
      "metadata": {
        "id": "pLFDaIlumYOx"
      }
    },
    {
      "cell_type": "code",
      "source": [
        "hist(x,main=\"Hello histogram!!!\",col=\"red\")"
      ],
      "metadata": {
        "colab": {
          "base_uri": "https://localhost:8080/",
          "height": 437
        },
        "id": "6Bo_whJnmaBM",
        "outputId": "ec1a5b13-42f8-4dce-9982-7fc364cd2100"
      },
      "execution_count": null,
      "outputs": [
        {
          "output_type": "display_data",
          "data": {
            "text/plain": [
              "Plot with title “Hello histogram!!!”"
            ],
            "image/png": "[encoded data removed]"
          },
          "metadata": {
            "image/png": {
              "width": 420,
              "height": 420
            }
          }
        }
      ]
    },
    {
      "cell_type": "code",
      "source": [
        "hist(x,main=\"histogram!!!\",col=\"blue\")"
      ],
      "metadata": {
        "colab": {
          "base_uri": "https://localhost:8080/",
          "height": 437
        },
        "id": "mNKqTQdxu-Xw",
        "outputId": "1b5ed833-cab0-4ff7-9ee7-9db9ecd86b63"
      },
      "execution_count": null,
      "outputs": [
        {
          "output_type": "display_data",
          "data": {
            "text/plain": [
              "Plot with title “histogram!!!”"
            ],
            "image/png": "[encoded data removed]"
          },
          "metadata": {
            "image/png": {
              "width": 420,
              "height": 420
            }
          }
        }
      ]
    },
    {
      "cell_type": "markdown",
      "source": [
        "Next, we will make a scatter plot. Scatter plots are one the most common plots you will encounter in data analysis. We will sample another set of 50 values and plot those against the ones we sampled earlier. The scatter plot shows values of two variables for a set of data points. It is useful to visualize relationships between two variables. It is frequently used in connection with correlation and linear regression. There are other variants of scatter plots which show density of the points with different colors."
      ],
      "metadata": {
        "id": "1NMmeugJmcwF"
      }
    },
    {
      "cell_type": "code",
      "source": [
        "# randomly sample 50 points from normal distribution\n",
        "y<-rnorm(50)\n",
        "#plot a scatter plot\n",
        "# control x-axis and y-axis labels\n",
        "plot(x,y,main=\"scatterplot of random samples\",\n",
        "        ylab=\"y values\",xlab=\"x values\")"
      ],
      "metadata": {
        "colab": {
          "base_uri": "https://localhost:8080/",
          "height": 437
        },
        "id": "9eKKxlSumhFW",
        "outputId": "d8325abd-a0f7-458f-f473-bb01fa44a1b1"
      },
      "execution_count": null,
      "outputs": [
        {
          "output_type": "display_data",
          "data": {
            "text/plain": [
              "Plot with title “scatterplot of random samples”"
            ],
            "image/png": "[encoded data removed]"
          },
          "metadata": {
            "image/png": {
              "width": 420,
              "height": 420
            }
          }
        }
      ]
    },
    {
      "cell_type": "markdown",
      "source": [
        "We can also plot boxplots for vectors x and y. Boxplots depict groups of numerical data through their quartiles. The edges of the box denote the 1st and 3rd quartiles, and the line that crosses the box is the median. The distance between the 1st and the 3rd quartiles is called interquartile tange. The whiskers (lines extending from the boxes) are usually defined using the interquartile range for symmetric distributions as follows: lowerWhisker=Q1-1.5[IQR] and upperWhisker=Q3+1.5[IQR].\n",
        "\n",
        "In addition, outliers can be depicted as dots. In this case, outliers are the values that remain outside the whiskers."
      ],
      "metadata": {
        "id": "6DcZdyyLmj0g"
      }
    },
    {
      "cell_type": "code",
      "source": [
        "boxplot(x,y,main=\"boxplots of random samples\")"
      ],
      "metadata": {
        "colab": {
          "base_uri": "https://localhost:8080/",
          "height": 437
        },
        "id": "mO-kUbIamnSz",
        "outputId": "b99aa944-09e9-42f9-efa5-cf232ba6ddc9"
      },
      "execution_count": null,
      "outputs": [
        {
          "output_type": "display_data",
          "data": {
            "text/plain": [
              "Plot with title “boxplots of random samples”"
            ],
            "image/png": "[encoded data removed]"
          },
          "metadata": {
            "image/png": {
              "width": 420,
              "height": 420
            }
          }
        }
      ]
    },
    {
      "cell_type": "markdown",
      "source": [],
      "metadata": {
        "id": "wCPgF07OvfPv"
      }
    },
    {
      "cell_type": "code",
      "source": [
        "boxplot(x,y,main=\"boxplots of random samples\", col=\"red\")"
      ],
      "metadata": {
        "colab": {
          "base_uri": "https://localhost:8080/",
          "height": 437
        },
        "id": "qAt9uNE7vb1_",
        "outputId": "551568b6-6016-42f0-bcee-b6ef4c765fa5"
      },
      "execution_count": null,
      "outputs": [
        {
          "output_type": "display_data",
          "data": {
            "text/plain": [
              "Plot with title “boxplots of random samples”"
            ],
            "image/png": "[encoded data removed]"
          },
          "metadata": {
            "image/png": {
              "width": 420,
              "height": 420
            }
          }
        }
      ]
    },
    {
      "cell_type": "markdown",
      "source": [
        "Next up is the bar plot, which you can plot using the barplot() function. We are going to plot four imaginary percentage values and color them with two colors, and this time we will also show how to draw a legend on the plot using the legend() function."
      ],
      "metadata": {
        "id": "02vUiJyEmqI5"
      }
    },
    {
      "cell_type": "code",
      "source": [
        "perc=c(50,70,35,25)\n",
        "barplot(height=perc,\n",
        "        names.arg=c(\"CpGi\",\"exon\",\"CpGi\",\"exon\"),\n",
        "        ylab=\"percentages\",main=\"imagine %s\",\n",
        "        col=c(\"red\",\"red\",\"blue\",\"blue\"))\n",
        "legend(\"topright\",legend=c(\"test\",\"control\"),\n",
        "       fill=c(\"red\",\"blue\"))"
      ],
      "metadata": {
        "colab": {
          "base_uri": "https://localhost:8080/",
          "height": 437
        },
        "id": "tyQK9cwomsul",
        "outputId": "a4f7e121-f1c8-4245-c8dc-0162930768aa"
      },
      "execution_count": null,
      "outputs": [
        {
          "output_type": "display_data",
          "data": {
            "text/plain": [
              "Plot with title “imagine %s”"
            ],
            "image/png": "[encoded data removed]"
          },
          "metadata": {
            "image/png": {
              "width": 420,
              "height": 420
            }
          }
        }
      ]
    },
    {
      "cell_type": "markdown",
      "source": [
        "# **Combining multiple plots**"
      ],
      "metadata": {
        "id": "EMN19HelmvzU"
      }
    },
    {
      "cell_type": "markdown",
      "source": [
        "In R, we can combine multiple plots in the same graphic. For this purpose, we use the par() function for simple combinations. More complicated arrangements with different sizes of sub-plots can be created with the layout() function. Below we will show how to combine two plots side-by-side using par(mfrow=c(1,2)). The mfrow=c(nrows, ncols) construct will create a matrix of nrows x ncols plots that are filled in by row. The following code will produce a histogram and a scatter plot stacked side by side. If you want to see the plots on top of each other, simply change mfrow=c(1,2) to mfrow=c(2,1)."
      ],
      "metadata": {
        "id": "ktuSgFKAm0dD"
      }
    },
    {
      "cell_type": "code",
      "source": [
        "par(mfrow=c(1,2)) #\n",
        "\n",
        "# make the plots\n",
        "hist(x,main=\"Hello histogram!!!\",col=\"red\")\n",
        "plot(x,y,main=\"scatterplot\",\n",
        "        ylab=\"y values\",xlab=\"x values\")"
      ],
      "metadata": {
        "colab": {
          "base_uri": "https://localhost:8080/",
          "height": 437
        },
        "id": "zNwb-Md0m29Q",
        "outputId": "7c6f252c-5797-4ea2-cbb5-5c2b4ee1dc46"
      },
      "execution_count": null,
      "outputs": [
        {
          "output_type": "display_data",
          "data": {
            "text/plain": [
              "Plot with title “scatterplot”"
            ],
            "image/png": "[encoded data removed]"
          },
          "metadata": {
            "image/png": {
              "width": 420,
              "height": 420
            }
          }
        }
      ]
    },
    {
      "cell_type": "code",
      "source": [
        "par(mfrow=c(1,2)) #\n",
        "\n",
        "# make the plots\n",
        "hist(x,main=\"histogram!!!\",col=\"green\")\n",
        "plot(x,y,main=\"scatterplot\",\n",
        "        ylab=\"y values\",xlab=\"x values\", col=\"red\")"
      ],
      "metadata": {
        "colab": {
          "base_uri": "https://localhost:8080/",
          "height": 437
        },
        "id": "OmFSO_y5wL9E",
        "outputId": "a1ab827a-88d2-48d4-d267-3fdfb3e70265"
      },
      "execution_count": null,
      "outputs": [
        {
          "output_type": "display_data",
          "data": {
            "text/plain": [
              "Plot with title “scatterplot”"
            ],
            "image/png": "[encoded data removed]"
          },
          "metadata": {
            "image/png": {
              "width": 420,
              "height": 420
            }
          }
        }
      ]
    }
  ]
}