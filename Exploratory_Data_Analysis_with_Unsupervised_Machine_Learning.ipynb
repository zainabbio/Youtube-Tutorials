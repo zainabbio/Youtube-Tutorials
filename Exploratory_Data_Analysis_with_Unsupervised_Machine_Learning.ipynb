{
  "nbformat": 4,
  "nbformat_minor": 0,
  "metadata": {
    "colab": {
      "provenance": [],
      "authorship_tag": "ABX9TyMbSRlNoAbQnPvgCk2Hvj6S",
      "include_colab_link": true
    },
    "kernelspec": {
      "name": "ir",
      "display_name": "R"
    },
    "language_info": {
      "name": "R"
    }
  },
  "cells": [
    {
      "cell_type": "markdown",
      "metadata": {
        "id": "view-in-github",
        "colab_type": "text"
      },
      "source": [
        "<a href=\"https://colab.research.google.com/github/zainabbio/Youtube-Tutorials/blob/main/Exploratory_Data_Analysis_with_Unsupervised_Machine_Learning.ipynb\" target=\"_parent\"><img src=\"https://colab.research.google.com/assets/colab-badge.svg\" alt=\"Open In Colab\"/></a>"
      ]
    },
    {
      "cell_type": "markdown",
      "source": [
        "# **Reference and Acknowledgment:**\n",
        "This Google Colab notebook is prepared based on the book Computational Genomics with R by Altuna Akalin. Please refer to the book for more in-depth explanations and examples.\n",
        "\n",
        "Here is the link for the book: https://compgenomr.github.io/book/"
      ],
      "metadata": {
        "id": "94eY_ZA6inxc"
      }
    },
    {
      "cell_type": "markdown",
      "source": [
        "# **Machine Learning to explore Genomics Data**"
      ],
      "metadata": {
        "id": "0-ZjoiIViMDW"
      }
    },
    {
      "cell_type": "markdown",
      "source": [
        "# **1) Clustering**"
      ],
      "metadata": {
        "id": "0Ueg2_DviVPp"
      }
    },
    {
      "cell_type": "markdown",
      "source": [
        "**Introduction to Clustering**"
      ],
      "metadata": {
        "id": "SgmxZD_zih5e"
      }
    },
    {
      "cell_type": "markdown",
      "source": [
        "**Definition:**\n",
        "Clustering is a technique used to group similar objects based on predefined criteria, aiming to maximize intra-group similarity and minimize inter-group similarity.\n",
        "\n",
        "**Purpose in Genomics:** Identify patterns in gene expression, genetic mutations, or clinical data by grouping samples with similar profiles.\n",
        "\n",
        "**Application Examples:**\n",
        "\n",
        "Identifying gene expression patterns across different treatment groups.\n",
        "\n",
        "Grouping patients with similar diseases based on their gene expression profiles.\n",
        "\n",
        "Finding subtypes of diseases based on molecular characteristics."
      ],
      "metadata": {
        "id": "d5Y8nOAei_NR"
      }
    },
    {
      "cell_type": "markdown",
      "source": [
        "**Clustering Workflow**"
      ],
      "metadata": {
        "id": "cqV1ozymjILR"
      }
    },
    {
      "cell_type": "markdown",
      "source": [
        "**Step 1: Defining Similarity/Dissimilarity**\n",
        "\n",
        "Distance Metric: The key to clustering; defines how we measure the 'closeness' of samples.\n",
        "\n",
        "Common distance metrics include:\n",
        "\n",
        "Euclidean Distance: Suitable for continuous data like gene expression levels.\n",
        "\n",
        "Manhattan Distance: Useful for data with large outliers.\n",
        "\n",
        "Correlation-based Metrics: Measures similarity based on expression patterns (e.g., Pearson correlation).\n",
        "\n",
        "Choosing the Right Metric: Depends on the nature of the data and the research question.\n",
        "\n",
        "**Step 2: Choosing Clustering Algorithms**\n",
        "\n",
        "Hierarchical Clustering: Builds a tree-like structure (dendrogram), useful for exploring hierarchical relationships.\n",
        "\n",
        "K-means Clustering: Partitions the data into a predefined number of clusters, useful when the number of groups is known.\n",
        "\n",
        "DBSCAN: Density-based clustering, good for finding clusters of arbitrary shape and handling noise.\n",
        "\n",
        "Gaussian Mixture Models (GMM): Assumes the data is generated from a mixture of several Gaussian distributions.\n",
        "\n",
        "**Step 3: Visualizing Clusters**\n",
        "\n",
        "Heatmaps: Display gene expression data in clusters to show similarities visually.\n",
        "\n",
        "t-SNE/UMAP: Dimensionality reduction techniques to visualize clusters in a 2D or 3D space."
      ],
      "metadata": {
        "id": "4TWw4H0ejh_P"
      }
    },
    {
      "cell_type": "markdown",
      "source": [
        "**Step 1) Distance metrics**"
      ],
      "metadata": {
        "id": "TAyfPi8cj8Cq"
      }
    },
    {
      "cell_type": "markdown",
      "source": [],
      "metadata": {
        "id": "UroYEkJHkDno"
      }
    },
    {
      "cell_type": "code",
      "source": [
        "# Creating the dataset\n",
        "data <- data.frame(\n",
        "  IRX1 = c(5, 8, 3, 2),\n",
        "  OCT2 = c(11, 15, 6, 9),\n",
        "  PAX7 = c(2, 4, 12, 7)\n",
        ")\n",
        "\n",
        "# Adding row names for patients\n",
        "rownames(data) <- c(\"patient1\", \"patient2\", \"patient3\", \"patient4\")\n",
        "\n",
        "# Viewing the data\n",
        "print(data)"
      ],
      "metadata": {
        "colab": {
          "base_uri": "https://localhost:8080/"
        },
        "id": "dJnd_hWqk0tZ",
        "outputId": "694ade90-9b33-40fd-964f-ef7f05e2b597"
      },
      "execution_count": 2,
      "outputs": [
        {
          "output_type": "stream",
          "name": "stdout",
          "text": [
            "         IRX1 OCT2 PAX7\n",
            "patient1    5   11    2\n",
            "patient2    8   15    4\n",
            "patient3    3    6   12\n",
            "patient4    2    9    7\n"
          ]
        }
      ]
    },
    {
      "cell_type": "markdown",
      "source": [
        "Next, we calculate the distance metrics using the dist() function and 1-cor() expression."
      ],
      "metadata": {
        "id": "2eQrx84Alc62"
      }
    },
    {
      "cell_type": "code",
      "source": [
        "dist(data,method=\"manhattan\")"
      ],
      "metadata": {
        "colab": {
          "base_uri": "https://localhost:8080/",
          "height": 88
        },
        "id": "5MOFN7r3lUoK",
        "outputId": "59accce1-52c7-44d1-bb0c-10a977c4358b"
      },
      "execution_count": 3,
      "outputs": [
        {
          "output_type": "display_data",
          "data": {
            "text/plain": [
              "         patient1 patient2 patient3\n",
              "patient2        9                  \n",
              "patient3       17       22         \n",
              "patient4       10       15        9"
            ]
          },
          "metadata": {}
        }
      ]
    },
    {
      "cell_type": "code",
      "source": [
        "dist(data,method=\"euclidean\")"
      ],
      "metadata": {
        "colab": {
          "base_uri": "https://localhost:8080/",
          "height": 88
        },
        "id": "BfDhH6cHljsL",
        "outputId": "cb087c67-397f-42ac-fd0c-b659d4bbf21d"
      },
      "execution_count": 4,
      "outputs": [
        {
          "output_type": "display_data",
          "data": {
            "text/plain": [
              "          patient1  patient2  patient3\n",
              "patient2  5.385165                    \n",
              "patient3 11.357817 13.038405          \n",
              "patient4  6.164414  9.000000  5.916080"
            ]
          },
          "metadata": {}
        }
      ]
    },
    {
      "cell_type": "code",
      "source": [
        "as.dist(1-cor(t(data))) # correlation distance"
      ],
      "metadata": {
        "colab": {
          "base_uri": "https://localhost:8080/",
          "height": 88
        },
        "id": "W5GHLhuclmn6",
        "outputId": "c51407c2-62b8-48cf-c80c-cb7442c96ebc"
      },
      "execution_count": 5,
      "outputs": [
        {
          "output_type": "display_data",
          "data": {
            "text/plain": [
              "             patient1     patient2     patient3\n",
              "patient2 0.0005762029                          \n",
              "patient3 1.5000000000 1.5291067161             \n",
              "patient4 0.5460793505 0.5765848408 0.4552952206"
            ]
          },
          "metadata": {}
        }
      ]
    },
    {
      "cell_type": "markdown",
      "source": [
        "**1.1 Scaling before calculating the distance**"
      ],
      "metadata": {
        "id": "aM1KDD6nls5e"
      }
    },
    {
      "cell_type": "markdown",
      "source": [
        "Before performing clustering, it’s important to consider whether to normalize or scale your data, as the scale of gene expression values can influence distance calculations.\n",
        "\n",
        "If gene expression values vary widely in magnitude, scaling (standardizing) the data—by subtracting the mean and dividing by the standard deviation—ensures each gene contributes equally to the distance metric.\n",
        "\n",
        "However, if the data is already normalized or if certain genes’ larger effects are biologically meaningful, scaling may not be necessary.\n",
        "\n",
        "In R, scaling is done using the scale() function."
      ],
      "metadata": {
        "id": "IH6KYTjKl0Lo"
      }
    },
    {
      "cell_type": "code",
      "source": [
        "data"
      ],
      "metadata": {
        "colab": {
          "base_uri": "https://localhost:8080/",
          "height": 224
        },
        "id": "8Uxo3fhfl_6P",
        "outputId": "ca3f55e7-72e9-4742-9738-6bd39ba6c2d5"
      },
      "execution_count": 6,
      "outputs": [
        {
          "output_type": "display_data",
          "data": {
            "text/html": [
              "<table class=\"dataframe\">\n",
              "<caption>A data.frame: 4 × 3</caption>\n",
              "<thead>\n",
              "\t<tr><th></th><th scope=col>IRX1</th><th scope=col>OCT2</th><th scope=col>PAX7</th></tr>\n",
              "\t<tr><th></th><th scope=col>&lt;dbl&gt;</th><th scope=col>&lt;dbl&gt;</th><th scope=col>&lt;dbl&gt;</th></tr>\n",
              "</thead>\n",
              "<tbody>\n",
              "\t<tr><th scope=row>patient1</th><td>5</td><td>11</td><td> 2</td></tr>\n",
              "\t<tr><th scope=row>patient2</th><td>8</td><td>15</td><td> 4</td></tr>\n",
              "\t<tr><th scope=row>patient3</th><td>3</td><td> 6</td><td>12</td></tr>\n",
              "\t<tr><th scope=row>patient4</th><td>2</td><td> 9</td><td> 7</td></tr>\n",
              "</tbody>\n",
              "</table>\n"
            ],
            "text/markdown": "\nA data.frame: 4 × 3\n\n| <!--/--> | IRX1 &lt;dbl&gt; | OCT2 &lt;dbl&gt; | PAX7 &lt;dbl&gt; |\n|---|---|---|---|\n| patient1 | 5 | 11 |  2 |\n| patient2 | 8 | 15 |  4 |\n| patient3 | 3 |  6 | 12 |\n| patient4 | 2 |  9 |  7 |\n\n",
            "text/latex": "A data.frame: 4 × 3\n\\begin{tabular}{r|lll}\n  & IRX1 & OCT2 & PAX7\\\\\n  & <dbl> & <dbl> & <dbl>\\\\\n\\hline\n\tpatient1 & 5 & 11 &  2\\\\\n\tpatient2 & 8 & 15 &  4\\\\\n\tpatient3 & 3 &  6 & 12\\\\\n\tpatient4 & 2 &  9 &  7\\\\\n\\end{tabular}\n",
            "text/plain": [
              "         IRX1 OCT2 PAX7\n",
              "patient1 5    11    2  \n",
              "patient2 8    15    4  \n",
              "patient3 3     6   12  \n",
              "patient4 2     9    7  "
            ]
          },
          "metadata": {}
        }
      ]
    },
    {
      "cell_type": "code",
      "source": [
        "scale(data)"
      ],
      "metadata": {
        "colab": {
          "base_uri": "https://localhost:8080/",
          "height": 192
        },
        "id": "CyIs-trXmDP4",
        "outputId": "e432b2d2-0f1c-403e-eb17-5c4fbe170df5"
      },
      "execution_count": 7,
      "outputs": [
        {
          "output_type": "display_data",
          "data": {
            "text/html": [
              "<table class=\"dataframe\">\n",
              "<caption>A matrix: 4 × 3 of type dbl</caption>\n",
              "<thead>\n",
              "\t<tr><th></th><th scope=col>IRX1</th><th scope=col>OCT2</th><th scope=col>PAX7</th></tr>\n",
              "</thead>\n",
              "<tbody>\n",
              "\t<tr><th scope=row>patient1</th><td> 0.1889822</td><td> 0.1986799</td><td>-0.9771621</td></tr>\n",
              "\t<tr><th scope=row>patient2</th><td> 1.3228757</td><td> 1.2583057</td><td>-0.5173211</td></tr>\n",
              "\t<tr><th scope=row>patient3</th><td>-0.5669467</td><td>-1.1258525</td><td> 1.3220429</td></tr>\n",
              "\t<tr><th scope=row>patient4</th><td>-0.9449112</td><td>-0.3311331</td><td> 0.1724404</td></tr>\n",
              "</tbody>\n",
              "</table>\n"
            ],
            "text/markdown": "\nA matrix: 4 × 3 of type dbl\n\n| <!--/--> | IRX1 | OCT2 | PAX7 |\n|---|---|---|---|\n| patient1 |  0.1889822 |  0.1986799 | -0.9771621 |\n| patient2 |  1.3228757 |  1.2583057 | -0.5173211 |\n| patient3 | -0.5669467 | -1.1258525 |  1.3220429 |\n| patient4 | -0.9449112 | -0.3311331 |  0.1724404 |\n\n",
            "text/latex": "A matrix: 4 × 3 of type dbl\n\\begin{tabular}{r|lll}\n  & IRX1 & OCT2 & PAX7\\\\\n\\hline\n\tpatient1 &  0.1889822 &  0.1986799 & -0.9771621\\\\\n\tpatient2 &  1.3228757 &  1.2583057 & -0.5173211\\\\\n\tpatient3 & -0.5669467 & -1.1258525 &  1.3220429\\\\\n\tpatient4 & -0.9449112 & -0.3311331 &  0.1724404\\\\\n\\end{tabular}\n",
            "text/plain": [
              "         IRX1       OCT2       PAX7      \n",
              "patient1  0.1889822  0.1986799 -0.9771621\n",
              "patient2  1.3228757  1.2583057 -0.5173211\n",
              "patient3 -0.5669467 -1.1258525  1.3220429\n",
              "patient4 -0.9449112 -0.3311331  0.1724404"
            ]
          },
          "metadata": {}
        }
      ]
    },
    {
      "cell_type": "markdown",
      "source": [
        "**2) Hiearchical clustering**"
      ],
      "metadata": {
        "id": "GEaTNfnEmIxl"
      }
    },
    {
      "cell_type": "markdown",
      "source": [
        "Hierarchical clustering is a common algorithm used to group similar data points together.\n",
        "\n",
        "It works by starting with each data point as its own small cluster and then gradually combining clusters based on their distance from each other.\n",
        "\n",
        "As the clusters are merged, a tree-like diagram called a dendrogram is created, which shows how the data points and clusters are related.\n",
        "\n",
        "The height of the branches in the dendrogram represents how far apart the clusters are.\n",
        "\n",
        " In R, the hclust() function is used for hierarchical clustering, and it can be applied on distance measurements, like Euclidean distance, between patients."
      ],
      "metadata": {
        "id": "lHdVlddKmKlT"
      }
    },
    {
      "cell_type": "code",
      "source": [
        "a=dist(data)\n",
        "hc=hclust(a,method=\"complete\")\n",
        "plot(hc)"
      ],
      "metadata": {
        "colab": {
          "base_uri": "https://localhost:8080/",
          "height": 437
        },
        "id": "FdEWXcyomZXD",
        "outputId": "7f5febc9-e463-4cf9-fe9d-c4ac80dc969d"
      },
      "execution_count": 8,
      "outputs": [
        {
          "output_type": "display_data",
          "data": {
            "text/plain": [
              "Plot with title “Cluster Dendrogram”"
            ],
            "image/png": "[encoded data removed]"
          },
          "metadata": {
            "image/png": {
              "width": 420,
              "height": 420
            }
          }
        }
      ]
    },
    {
      "cell_type": "markdown",
      "source": [
        "Here, we will create a random expression matrix that simulates gene expression data, with the rows representing genes and the columns representing samples. The annotation_col will assign leukemia types to each sample."
      ],
      "metadata": {
        "id": "fejKyfeXnNtw"
      }
    },
    {
      "cell_type": "markdown",
      "source": [
        "How this code will work:\n",
        "\n",
        "**Data Generation:**\n",
        "\n",
        "mat <- matrix(rnorm(50), nrow = 10, ncol = 5) generates a 10x5 matrix of random numbers, which represent gene expression values. Each row corresponds to a gene, and each column corresponds to a sample.\n",
        "\n",
        "rownames(mat) <- paste(\"Gene\", 1:10, sep = \"\") assigns names to the rows (genes).\n",
        "\n",
        "colnames(mat) <- paste(\"Sample\", 1:5, sep = \"\") assigns names to the columns (samples).\n",
        "\n",
        "**Annotation:**\n",
        "\n",
        "The annotation_col data frame holds the type for each sample. Here, we assign \"AML\" or \"ALL\" to the samples to simulate different types.\n",
        "\n",
        "**Heatmap Generation:**\n",
        "\n",
        "pheatmap(mat, ...) generates the heatmap, with the options:\n",
        "show_rownames = TRUE and show_colnames = TRUE display the gene and sample names.\n",
        "\n",
        "annotation_col = annotation_col adds the leukemia type annotation to the heatmap.\n",
        "\n",
        "clustering_method = \"ward.D2\" and clustering_distance_cols = \"euclidean\" perform hierarchical clustering based on Euclidean distance."
      ],
      "metadata": {
        "id": "40flA7yxnkLl"
      }
    },
    {
      "cell_type": "code",
      "source": [
        "# Load the pheatmap package\n",
        "install.packages(\"pheatmap\")\n",
        "library(pheatmap)\n",
        "\n",
        "# Create an example gene expression matrix with 10 genes and 5 samples\n",
        "set.seed(123)  # For reproducibility\n",
        "mat <- matrix(rnorm(50), nrow = 10, ncol = 5)  # 10 genes x 5 samples\n",
        "rownames(mat) <- paste(\"Gene\", 1:10, sep = \"\")\n",
        "colnames(mat) <- paste(\"Sample\", 1:5, sep = \"\")\n",
        "\n",
        "# Set the leukemia type annotation for each sample (e.g., AML or ALL)\n",
        "annotation_col = data.frame(\n",
        "  LeukemiaType = c(\"AML\", \"ALL\", \"AML\", \"ALL\", \"AML\")\n",
        ")\n",
        "rownames(annotation_col) <- colnames(mat)\n",
        "\n",
        "# Generate the heatmap\n",
        "pheatmap(mat,\n",
        "         show_rownames = TRUE,\n",
        "         show_colnames = TRUE,\n",
        "         annotation_col = annotation_col,\n",
        "         scale = \"none\",\n",
        "         clustering_method = \"ward.D2\",\n",
        "         clustering_distance_cols = \"euclidean\")\n"
      ],
      "metadata": {
        "colab": {
          "base_uri": "https://localhost:8080/",
          "height": 491
        },
        "id": "5zPN_JgumwKl",
        "outputId": "1ec7bed4-d638-4f89-c37e-30e88f208585"
      },
      "execution_count": 11,
      "outputs": [
        {
          "output_type": "stream",
          "name": "stderr",
          "text": [
            "Installing package into ‘/usr/local/lib/R/site-library’\n",
            "(as ‘lib’ is unspecified)\n",
            "\n"
          ]
        },
        {
          "output_type": "display_data",
          "data": {
            "text/plain": [
              "plot without title"
            ],
            "image/png": "[encoded data removed]"
          },
          "metadata": {
            "image/png": {
              "width": 420,
              "height": 420
            }
          }
        }
      ]
    },
    {
      "cell_type": "markdown",
      "source": [
        "**2.1 Where to cut the tree ?**"
      ],
      "metadata": {
        "id": "NOWGwL6-n3GG"
      }
    },
    {
      "cell_type": "markdown",
      "source": [
        "In hierarchical clustering, cutting the tree (also known as the dendrogram) is the step where you decide how many clusters you want to extract from the data. This is typically done by setting a threshold for the height at which the tree should be cut, which represents the distance at which clusters should be merged."
      ],
      "metadata": {
        "id": "ZmKJsr1hoAre"
      }
    },
    {
      "cell_type": "code",
      "source": [
        "hcl=hclust(dist(t(mat)))\n",
        "plot(hcl,labels = FALSE, hang= -1)\n",
        "rect.hclust(hcl, h = 80, border = \"red\")"
      ],
      "metadata": {
        "colab": {
          "base_uri": "https://localhost:8080/",
          "height": 437
        },
        "id": "boFpk85zodH6",
        "outputId": "e9d35f4a-1e64-40ec-c406-f76f9ab7ac6e"
      },
      "execution_count": 12,
      "outputs": [
        {
          "output_type": "display_data",
          "data": {
            "text/plain": [
              "Plot with title “Cluster Dendrogram”"
            ],
            "image/png": "[encoded data removed]"
          },
          "metadata": {
            "image/png": {
              "width": 420,
              "height": 420
            }
          }
        }
      ]
    },
    {
      "cell_type": "markdown",
      "source": [
        "**2) K-means clustering**"
      ],
      "metadata": {
        "id": "0CH_fxWronuN"
      }
    },
    {
      "cell_type": "markdown",
      "source": [
        "K-means is a very popular clustering method that groups data points (like patients in your example) into a specific number of clusters, called \"k\" clusters."
      ],
      "metadata": {
        "id": "6UzQsDTAosT6"
      }
    },
    {
      "cell_type": "markdown",
      "source": [
        "**Step-by-Step Process:**"
      ],
      "metadata": {
        "id": "t8UEMvMJo3Er"
      }
    },
    {
      "cell_type": "markdown",
      "source": [
        "**Choosing the number of clusters (k):** First, you decide how many clusters you want to divide your data into. For example, you might decide to divide your patients into 3 clusters (k=3).\n",
        "\n",
        "**Randomly picking initial centroids:** The algorithm starts by choosing \"k\" random points in the data as the initial \"centroids\" (these are like the center points of each cluster). In your case, each centroid would have random gene expression values based on the real data.\n",
        "\n",
        "**Assigning data points to centroids:** Once the centroids are chosen, the algorithm assigns each patient (data point) to the closest centroid based on their gene expression values. So, patients who are similar to each other will be grouped in the same cluster.\n",
        "\n",
        "**Re-calculating centroids:** After assigning patients to clusters, the algorithm calculates a new centroid for each cluster. This new centroid is the average of all the patients in that cluster.\n",
        "\n",
        "**Repeating the process:** The algorithm then repeats the process of assigning patients to the new centroids and recalculating centroids. It continues doing this until the centroids don’t change much anymore, meaning the clusters are stable.\n",
        "\n",
        "**Minimizing distance:** The goal of the algorithm is to minimize the distance between the patients and their cluster centroids, making sure that similar patients are grouped together."
      ],
      "metadata": {
        "id": "xjdGIRrXo8mv"
      }
    },
    {
      "cell_type": "markdown",
      "source": [
        "**Key Things to Know:**\n",
        "\n",
        "**1) Random initialization:** The centroids start off randomly, which means the results can change each time you run the algorithm. That’s why it’s often a good idea to run it multiple times to make sure the results are stable.\n",
        "\n",
        "**2) Fixed number of clusters:** You need to decide on the number of clusters, \"k\", before starting. This is one of the key choices you have to make in the process.\n",
        "\n",
        "**3) Iterations:** The algorithm repeats the steps (assigning patients to centroids and recalculating centroids) until the clusters are stable."
      ],
      "metadata": {
        "id": "VCe5w8ZgpFCA"
      }
    },
    {
      "cell_type": "code",
      "source": [
        "# Set seed for reproducibility\n",
        "set.seed(101)\n",
        "\n",
        "# Create a synthetic gene expression matrix with 5 patients and 10 genes\n",
        "# Rows = Genes (10), Columns = Patients (5)\n",
        "mat <- matrix(rnorm(50), nrow = 10, ncol = 5)\n",
        "\n",
        "# Check the matrix structure\n",
        "print(mat)\n",
        "\n",
        "# Transpose the matrix to have patients as rows (required by kmeans)\n",
        "mat_transposed <- t(mat)\n",
        "\n",
        "# Check the transposed matrix structure\n",
        "print(mat_transposed)\n",
        "\n",
        "# Perform k-means clustering with 3 clusters (centers)\n",
        "kclu <- kmeans(mat_transposed, centers = 3)\n",
        "\n",
        "# Show the number of patients in each cluster\n",
        "print(table(kclu$cluster))\n",
        "\n",
        "# You can plot the result to visualize the clustering\n",
        "plot(kclu$centers, col = \"red\", pch = 16, cex = 2, main = \"Cluster Centers\")"
      ],
      "metadata": {
        "colab": {
          "base_uri": "https://localhost:8080/",
          "height": 901
        },
        "id": "Jp23Wx9lqPp_",
        "outputId": "ef6a2f2d-0316-4c00-8d5b-ab9bf9a9712c"
      },
      "execution_count": 19,
      "outputs": [
        {
          "output_type": "stream",
          "name": "stdout",
          "text": [
            "            [,1]       [,2]       [,3]       [,4]       [,5]\n",
            " [1,] -0.3260365  0.5264481 -0.1637557  0.8949372  0.4824588\n",
            " [2,]  0.5524619 -0.7948444  0.7085221  0.2791520  0.7582138\n",
            " [3,] -0.6749438  1.4277555 -0.2679805  1.0078658 -2.3193274\n",
            " [4,]  0.2143595 -1.4668197 -1.4639218 -2.0731065 -0.4595048\n",
            " [5,]  0.3107692 -0.2366834  0.7444358  1.1898534 -1.1053837\n",
            " [6,]  1.1739663 -0.1933380 -1.4103902 -0.7243742  0.4029283\n",
            " [7,]  0.6187899 -0.8497547  0.4670676  0.1679838  0.5689349\n",
            " [8,] -0.1127343  0.0584655 -0.1193201  0.9203352 -0.7060833\n",
            " [9,]  0.9170283 -0.8176704  0.4672390 -1.6716048 -0.2900906\n",
            "[10,] -0.2232594 -2.0503078  0.4981356  0.4484691 -1.4838781\n",
            "           [,1]       [,2]       [,3]       [,4]       [,5]       [,6]\n",
            "[1,] -0.3260365  0.5524619 -0.6749438  0.2143595  0.3107692  1.1739663\n",
            "[2,]  0.5264481 -0.7948444  1.4277555 -1.4668197 -0.2366834 -0.1933380\n",
            "[3,] -0.1637557  0.7085221 -0.2679805 -1.4639218  0.7444358 -1.4103902\n",
            "[4,]  0.8949372  0.2791520  1.0078658 -2.0731065  1.1898534 -0.7243742\n",
            "[5,]  0.4824588  0.7582138 -2.3193274 -0.4595048 -1.1053837  0.4029283\n",
            "           [,7]       [,8]       [,9]      [,10]\n",
            "[1,]  0.6187899 -0.1127343  0.9170283 -0.2232594\n",
            "[2,] -0.8497547  0.0584655 -0.8176704 -2.0503078\n",
            "[3,]  0.4670676 -0.1193201  0.4672390  0.4981356\n",
            "[4,]  0.1679838  0.9203352 -1.6716048  0.4484691\n",
            "[5,]  0.5689349 -0.7060833 -0.2900906 -1.4838781\n",
            "\n",
            "1 2 3 \n",
            "1 2 2 \n"
          ]
        },
        {
          "output_type": "display_data",
          "data": {
            "text/plain": [
              "Plot with title “Cluster Centers”"
            ],
            "image/png": "[encoded data removed]"
          },
          "metadata": {
            "image/png": {
              "width": 420,
              "height": 420
            }
          }
        }
      ]
    },
    {
      "cell_type": "markdown",
      "source": [
        "To calculate and visualize the percentage of each leukemia type in each cluster, we can follow these steps:\n",
        "\n",
        "1) Simulate or assign leukemia types to your patients.\n",
        "\n",
        "2) Check the percentage of each leukemia type in each cluster.\n",
        "\n",
        "3) Visualize the results in a table format."
      ],
      "metadata": {
        "id": "ig88NX57qgyU"
      }
    },
    {
      "cell_type": "code",
      "source": [
        "# Set seed for reproducibility\n",
        "set.seed(101)\n",
        "\n",
        "# Create synthetic gene expression matrix with 5 patients and 10 genes\n",
        "mat <- matrix(rnorm(50), nrow = 10, ncol = 5)\n",
        "\n",
        "# Transpose the matrix so that rows represent patients\n",
        "mat_transposed <- t(mat)\n",
        "\n",
        "# Perform k-means clustering with 3 clusters\n",
        "kclu <- kmeans(mat_transposed, centers = 3)\n",
        "\n",
        "# Assign synthetic leukemia types to patients (5 patients)\n",
        "leukemia_types <- c(\"AML\", \"ALL\", \"AML\", \"Control\", \"ALL\")\n",
        "\n",
        "# Now we will calculate the percentage of each leukemia type in each cluster\n",
        "# Create a data frame of cluster assignments and leukemia types\n",
        "cluster_data <- data.frame(Cluster = kclu$cluster, LeukemiaType = leukemia_types)\n",
        "\n",
        "# Create a contingency table (cross-tabulate leukemia types and clusters)\n",
        "contingency_table <- table(cluster_data$Cluster, cluster_data$LeukemiaType)\n",
        "\n",
        "# Calculate the percentage of each leukemia type within each cluster\n",
        "percentage_table <- prop.table(contingency_table, margin = 1) * 100\n",
        "\n",
        "# Print the table showing the percentage of each leukemia type in each cluster\n",
        "print(percentage_table)"
      ],
      "metadata": {
        "colab": {
          "base_uri": "https://localhost:8080/"
        },
        "id": "lvyx44e9qthW",
        "outputId": "c94c29ca-d04d-49f5-c6a9-289b8ed185a3"
      },
      "execution_count": 21,
      "outputs": [
        {
          "output_type": "stream",
          "name": "stdout",
          "text": [
            "   \n",
            "    ALL AML Control\n",
            "  1 100   0       0\n",
            "  2   0  50      50\n",
            "  3  50  50       0\n"
          ]
        }
      ]
    },
    {
      "cell_type": "markdown",
      "source": [
        "To perform k-medoids clustering in R, we can use the pam() function from the cluster package. As you correctly mentioned, k-medoids is similar to k-means but with a few key differences:\n",
        "\n",
        "1) Centroids in k-medoids are actual data points (i.e., patients in your case), unlike k-means where centroids are computed as the mean of all points in the cluster.\n",
        "\n",
        "2) The distance metric used in k-medoids is typically Manhattan distance (L1 distance) rather than Euclidean distance (L2 distance) used in k-means."
      ],
      "metadata": {
        "id": "K2SH7jJiq6GF"
      }
    },
    {
      "cell_type": "markdown",
      "source": [
        "**Step-by-Step Guide to K-Medoids Clustering:**"
      ],
      "metadata": {
        "id": "-G4hHlB_rKDx"
      }
    },
    {
      "cell_type": "markdown",
      "source": [
        "**Install and load required packages:**\n",
        "\n",
        "If you haven't already installed the cluster package, you can do so with the following code:"
      ],
      "metadata": {
        "id": "ljpW8-6drQnf"
      }
    },
    {
      "cell_type": "code",
      "source": [
        "# Install and load the 'cluster' package for k-medoids clustering\n",
        "install.packages(\"cluster\")\n",
        "library(cluster)"
      ],
      "metadata": {
        "colab": {
          "base_uri": "https://localhost:8080/"
        },
        "id": "oMpiUG4brXxo",
        "outputId": "46a495c4-b7f4-4e68-964a-6228ae4204e1"
      },
      "execution_count": 22,
      "outputs": [
        {
          "output_type": "stream",
          "name": "stderr",
          "text": [
            "Installing package into ‘/usr/local/lib/R/site-library’\n",
            "(as ‘lib’ is unspecified)\n",
            "\n"
          ]
        }
      ]
    },
    {
      "cell_type": "markdown",
      "source": [
        "**Sample Data (Simulating gene expression data for 5 patients):**"
      ],
      "metadata": {
        "id": "FoJP8xKyra_y"
      }
    },
    {
      "cell_type": "code",
      "source": [
        "# Simulated gene expression data for 5 patients and 10 genes\n",
        "set.seed(123)\n",
        "mat <- matrix(rnorm(50), nrow = 10, ncol = 5)\n",
        "\n",
        "# Transpose matrix so that rows represent patients\n",
        "mat_transposed <- t(mat)"
      ],
      "metadata": {
        "id": "mYRnaob1reco"
      },
      "execution_count": 23,
      "outputs": []
    },
    {
      "cell_type": "markdown",
      "source": [
        "**Performing K-Medoids Clustering:**\n",
        "\n",
        "Now, we will perform k-medoids clustering with k = 3 clusters using the Manhattan distance."
      ],
      "metadata": {
        "id": "iX_Ow6xtrgAE"
      }
    },
    {
      "cell_type": "code",
      "source": [
        "# Perform k-medoids clustering with k = 3 clusters\n",
        "kmedoids_result <- pam(mat_transposed, k = 3, metric = \"manhattan\")\n",
        "\n",
        "# View the cluster assignments\n",
        "kmedoids_result$clustering"
      ],
      "metadata": {
        "colab": {
          "base_uri": "https://localhost:8080/",
          "height": 34
        },
        "id": "CSurl_CYrqEO",
        "outputId": "264286ee-d122-40f1-b128-7028474eeb6e"
      },
      "execution_count": 24,
      "outputs": [
        {
          "output_type": "display_data",
          "data": {
            "text/html": [
              "<style>\n",
              ".list-inline {list-style: none; margin:0; padding: 0}\n",
              ".list-inline>li {display: inline-block}\n",
              ".list-inline>li:not(:last-child)::after {content: \"\\00b7\"; padding: 0 .5ex}\n",
              "</style>\n",
              "<ol class=list-inline><li>1</li><li>1</li><li>2</li><li>1</li><li>3</li></ol>\n"
            ],
            "text/markdown": "1. 1\n2. 1\n3. 2\n4. 1\n5. 3\n\n\n",
            "text/latex": "\\begin{enumerate*}\n\\item 1\n\\item 1\n\\item 2\n\\item 1\n\\item 3\n\\end{enumerate*}\n",
            "text/plain": [
              "[1] 1 1 2 1 3"
            ]
          },
          "metadata": {}
        }
      ]
    },
    {
      "cell_type": "markdown",
      "source": [
        "**Analyzing Cluster Results:**\n",
        "\n",
        "You can access the cluster assignments and the medoids (representative data points) for each cluster using the following commands:"
      ],
      "metadata": {
        "id": "bn7XNSXvrtxP"
      }
    },
    {
      "cell_type": "code",
      "source": [
        "# Cluster assignments (which patient belongs to which cluster)\n",
        "kmedoids_result$clustering\n",
        "\n",
        "# Medoids (actual data points that represent each cluster)\n",
        "kmedoids_result$medoids"
      ],
      "metadata": {
        "colab": {
          "base_uri": "https://localhost:8080/",
          "height": 146
        },
        "id": "SzK63M-yru9k",
        "outputId": "afc3c894-8bf6-4c93-9f13-9477777325b6"
      },
      "execution_count": 25,
      "outputs": [
        {
          "output_type": "display_data",
          "data": {
            "text/html": [
              "<style>\n",
              ".list-inline {list-style: none; margin:0; padding: 0}\n",
              ".list-inline>li {display: inline-block}\n",
              ".list-inline>li:not(:last-child)::after {content: \"\\00b7\"; padding: 0 .5ex}\n",
              "</style>\n",
              "<ol class=list-inline><li>1</li><li>1</li><li>2</li><li>1</li><li>3</li></ol>\n"
            ],
            "text/markdown": "1. 1\n2. 1\n3. 2\n4. 1\n5. 3\n\n\n",
            "text/latex": "\\begin{enumerate*}\n\\item 1\n\\item 1\n\\item 2\n\\item 1\n\\item 3\n\\end{enumerate*}\n",
            "text/plain": [
              "[1] 1 1 2 1 3"
            ]
          },
          "metadata": {}
        },
        {
          "output_type": "display_data",
          "data": {
            "text/html": [
              "<table class=\"dataframe\">\n",
              "<caption>A matrix: 3 × 10 of type dbl</caption>\n",
              "<tbody>\n",
              "\t<tr><td>-0.5604756</td><td>-0.2301775</td><td> 1.558708</td><td> 0.07050839</td><td> 0.1292877</td><td> 1.715065</td><td> 0.4609162</td><td>-1.2650612</td><td>-0.6868529</td><td>-0.44566197</td></tr>\n",
              "\t<tr><td>-1.0678237</td><td>-0.2179749</td><td>-1.026004</td><td>-0.72889123</td><td>-0.6250393</td><td>-1.686693</td><td> 0.8377870</td><td> 0.1533731</td><td>-1.1381369</td><td> 1.25381492</td></tr>\n",
              "\t<tr><td>-0.6947070</td><td>-0.2079173</td><td>-1.265396</td><td> 2.16895597</td><td> 1.2079620</td><td>-1.123109</td><td>-0.4028848</td><td>-0.4666554</td><td> 0.7799651</td><td>-0.08336907</td></tr>\n",
              "</tbody>\n",
              "</table>\n"
            ],
            "text/markdown": "\nA matrix: 3 × 10 of type dbl\n\n| -0.5604756 | -0.2301775 |  1.558708 |  0.07050839 |  0.1292877 |  1.715065 |  0.4609162 | -1.2650612 | -0.6868529 | -0.44566197 |\n| -1.0678237 | -0.2179749 | -1.026004 | -0.72889123 | -0.6250393 | -1.686693 |  0.8377870 |  0.1533731 | -1.1381369 |  1.25381492 |\n| -0.6947070 | -0.2079173 | -1.265396 |  2.16895597 |  1.2079620 | -1.123109 | -0.4028848 | -0.4666554 |  0.7799651 | -0.08336907 |\n\n",
            "text/latex": "A matrix: 3 × 10 of type dbl\n\\begin{tabular}{llllllllll}\n\t -0.5604756 & -0.2301775 &  1.558708 &  0.07050839 &  0.1292877 &  1.715065 &  0.4609162 & -1.2650612 & -0.6868529 & -0.44566197\\\\\n\t -1.0678237 & -0.2179749 & -1.026004 & -0.72889123 & -0.6250393 & -1.686693 &  0.8377870 &  0.1533731 & -1.1381369 &  1.25381492\\\\\n\t -0.6947070 & -0.2079173 & -1.265396 &  2.16895597 &  1.2079620 & -1.123109 & -0.4028848 & -0.4666554 &  0.7799651 & -0.08336907\\\\\n\\end{tabular}\n",
            "text/plain": [
              "     [,1]       [,2]       [,3]      [,4]        [,5]       [,6]     \n",
              "[1,] -0.5604756 -0.2301775  1.558708  0.07050839  0.1292877  1.715065\n",
              "[2,] -1.0678237 -0.2179749 -1.026004 -0.72889123 -0.6250393 -1.686693\n",
              "[3,] -0.6947070 -0.2079173 -1.265396  2.16895597  1.2079620 -1.123109\n",
              "     [,7]       [,8]       [,9]       [,10]      \n",
              "[1,]  0.4609162 -1.2650612 -0.6868529 -0.44566197\n",
              "[2,]  0.8377870  0.1533731 -1.1381369  1.25381492\n",
              "[3,] -0.4028848 -0.4666554  0.7799651 -0.08336907"
            ]
          },
          "metadata": {}
        }
      ]
    },
    {
      "cell_type": "markdown",
      "source": [
        "Partitioning methods like k-means do not provide a tree structure, but we can visualize the distances between patients and clusters using dimensionality reduction techniques. One such method, multi-dimensional scaling (MDS), compresses patient distances into a 2D plot, allowing us to visualize cluster relationships."
      ],
      "metadata": {
        "id": "LhvTT-XDsXNS"
      }
    },
    {
      "cell_type": "code",
      "source": [
        "# Calculate distances\n",
        "dists=dist(t(mat))\n",
        "\n",
        "# calculate MDS\n",
        "mds=cmdscale(dists)\n",
        "\n",
        "# plot the patients in the 2D space\n",
        "plot(mds,pch=19,col=rainbow(5)[kclu$cluster])\n",
        "\n",
        "# set the legend for cluster colors\n",
        "legend(\"bottomright\",\n",
        "       legend=paste(\"clu\",unique(kclu$cluster)),\n",
        "       fill=rainbow(5)[unique(kclu$cluster)],\n",
        "       border=NA,box.col=NA)"
      ],
      "metadata": {
        "colab": {
          "base_uri": "https://localhost:8080/",
          "height": 437
        },
        "id": "H8aHve9ksVgf",
        "outputId": "bbdcad5b-0946-44d8-e014-69d7db2ee7af"
      },
      "execution_count": 27,
      "outputs": [
        {
          "output_type": "display_data",
          "data": {
            "text/plain": [
              "plot without title"
            ],
            "image/png": "[encoded data removed]"
          },
          "metadata": {
            "image/png": {
              "width": 420,
              "height": 420
            }
          }
        }
      ]
    },
    {
      "cell_type": "markdown",
      "source": [
        "**4) How to choose “k”, the number of clusters**"
      ],
      "metadata": {
        "id": "kXxjNyRbskHV"
      }
    },
    {
      "cell_type": "markdown",
      "source": [],
      "metadata": {
        "id": "_24VImOFsuUx"
      }
    }
  ]
}